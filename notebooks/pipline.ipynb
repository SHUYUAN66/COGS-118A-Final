{
 "metadata": {
  "language_info": {
   "codemirror_mode": {
    "name": "ipython",
    "version": 3
   },
   "file_extension": ".py",
   "mimetype": "text/x-python",
   "name": "python",
   "nbconvert_exporter": "python",
   "pygments_lexer": "ipython3",
   "version": "3.8.6-final"
  },
  "orig_nbformat": 2,
  "kernelspec": {
   "name": "python3",
   "display_name": "Python 3",
   "language": "python"
  }
 },
 "nbformat": 4,
 "nbformat_minor": 2,
 "cells": [
  {
   "source": [
    "# Data Sets\n",
    "and some piplines"
   ],
   "cell_type": "markdown",
   "metadata": {}
  },
  {
   "source": [
    "## Library"
   ],
   "cell_type": "markdown",
   "metadata": {}
  },
  {
   "cell_type": "code",
   "execution_count": 14,
   "metadata": {},
   "outputs": [
    {
     "output_type": "error",
     "ename": "ImportError",
     "evalue": "cannot import name 'pipline' from 'sklearn.pipeline' (/Users/anthea-mac/opt/anaconda3/envs/rna/lib/python3.8/site-packages/sklearn/pipeline.py)",
     "traceback": [
      "\u001b[0;31m---------------------------------------------------------------------------\u001b[0m",
      "\u001b[0;31mImportError\u001b[0m                               Traceback (most recent call last)",
      "\u001b[0;32m<ipython-input-14-274f27e0edfc>\u001b[0m in \u001b[0;36m<module>\u001b[0;34m\u001b[0m\n\u001b[1;32m     19\u001b[0m \u001b[0;32mfrom\u001b[0m \u001b[0msklearn\u001b[0m\u001b[0;34m.\u001b[0m\u001b[0msvm\u001b[0m \u001b[0;32mimport\u001b[0m \u001b[0mSVC\u001b[0m\u001b[0;34m\u001b[0m\u001b[0;34m\u001b[0m\u001b[0m\n\u001b[1;32m     20\u001b[0m \u001b[0;32mfrom\u001b[0m \u001b[0msklearn\u001b[0m\u001b[0;34m.\u001b[0m\u001b[0mtree\u001b[0m \u001b[0;32mimport\u001b[0m \u001b[0mDecisionTreeClassifier\u001b[0m\u001b[0;34m\u001b[0m\u001b[0;34m\u001b[0m\u001b[0m\n\u001b[0;32m---> 21\u001b[0;31m \u001b[0;32mfrom\u001b[0m \u001b[0msklearn\u001b[0m\u001b[0;34m.\u001b[0m\u001b[0mpipeline\u001b[0m \u001b[0;32mimport\u001b[0m \u001b[0mpipline\u001b[0m\u001b[0;34m\u001b[0m\u001b[0;34m\u001b[0m\u001b[0m\n\u001b[0m\u001b[1;32m     22\u001b[0m \u001b[0;34m\u001b[0m\u001b[0m\n\u001b[1;32m     23\u001b[0m \u001b[0mmodels\u001b[0m \u001b[0;34m=\u001b[0m \u001b[0;34m[\u001b[0m\u001b[0;34m]\u001b[0m\u001b[0;34m\u001b[0m\u001b[0;34m\u001b[0m\u001b[0m\n",
      "\u001b[0;31mImportError\u001b[0m: cannot import name 'pipline' from 'sklearn.pipeline' (/Users/anthea-mac/opt/anaconda3/envs/rna/lib/python3.8/site-packages/sklearn/pipeline.py)"
     ]
    }
   ],
   "source": [
    "# Basic\n",
    "import numpy as np \n",
    "import pandas as pd\n",
    "import matplotlib.pyplot as plt\n",
    "import pickle\n",
    "import seaborn\n",
    "\n",
    "# preprocessing\n",
    "from sklearn.model_selection import train_test_split,KFold\n",
    "    # StandardScaler(), KFold()\n",
    "from sklearn.preprocessing import PolynomialFeatures, StandardScaler # ! not sure yet\n",
    "# selecting model \n",
    "from sklearn.model_selection import GridSearchCV,\n",
    "    # Algorithms\n",
    "from supervised.automl import AutoML\n",
    "from sklearn.utils.fixes import loguniform\n",
    "from sklearn.neighbors import KNeighborsClassifier\n",
    "from sklearn.svm import SVC\n",
    "from sklearn.tree import DecisionTreeClassifier \n",
    "from sklearn.pipeline import Pipeline\n",
    "\n",
    "models = []\n",
    "models.append(('knn', KNeighborsClassifier()))\n",
    "models.append(('dtree', DecisionTreeClassifier()))\n",
    "models.append(('svm', SVC()))\n",
    "# evaluation\n",
    "from sklearn.metrics import f1_score, accuracy_score,roc_curve, confusion_matrix,classification_report\n",
    "from sklearn.learning_curve import validation_curve, learning_curve\n",
    "\n",
    "\"\"\"\n",
    "* The DataFrame: \n",
    "    group1: Calibration Methods [isotonic Regression]\n",
    "    group2: ACC, FSC, LFT\n",
    "    group3: ROC, APR, BEP\n",
    "    group3: RMS, MXE\n",
    "    group4: OPT-SELS\n",
    "    - The fist column (ISO) (PTL) (-) presents Calibration Methods.\n",
    "        % PLT calibration does not change the ordering predicted by models,so it does not affect these metrics. \n",
    "        % ISO calibration, however, can introduce ties in the predicted     values that may affect performance on the ordering metrics.\n",
    "        % \"-\" means the model predictions were not calibrated -- they are the raw model predictions.(????wut is this????)\n",
    "    - The **threshold** metrics are accuracy(ACC), F-score(FSC) and lift(LFT).\n",
    "    - The **rank metrics** we use are area under the ROC curve (ROC),average precision(APR), and precision/recall break even point (BEP).\n",
    "    - The **probability metrics**,squared error(RMS) and cross-entropy (MXE),interpret the predicted value of each case as the conditional probability of that case being in the positive class.\n",
    "    - The last column,***OPT-SEL***,is the mean normalized score for the eight metrics when model selection is done by cheating and looking at the final testsets.(dont understand either.....)\n",
    "\n",
    "* Within the Matric: \n",
    "    - The algorithm with the best performance on each metric is ***boldfaced***. Using t-test p= 0.05, others are *'ed in three trails if they still have good performance.\n",
    "    \n",
    "    \"\"\"\n",
    "seed = 7\n",
    "results = []\n",
    "names = []\n",
    "def bep(precision, recall):\n",
    "    return precision/recall\n",
    "scorings = {\"CAL\": ['ISO','PTL','-'],\n",
    "            \"ACC\": 'accuracy', \n",
    "            'FSC': 'f1', \n",
    "            'LFT': 'lift',\n",
    "            # ROC, APR, BEP\n",
    "            'ROC': 'roc',\n",
    "            \"APR\" : 'precision',\n",
    "            \"BEP\" : bep,\n",
    "            # RMS, MXE\n",
    "            'RMS': squared error,\n",
    "            'MXE': cross-entropy,\n",
    "            #OPT-SELS\n",
    "            'OPT-SELS': normalized score cheating}\n"
   ]
  },
  {
   "source": [
    "## Data"
   ],
   "cell_type": "markdown",
   "metadata": {}
  },
  {
   "cell_type": "code",
   "execution_count": null,
   "metadata": {},
   "outputs": [],
   "source": [
    "# ADULT, COV TYPE and LETTER\n",
    "url1 = \"https://archive.ics.uci.edu/ml/datasets/Letter+Recognition\"\n",
    "url2 = \"https://archive.ics.uci.edu/ml/datasets/covertype\"\n",
    "url3 = \"https://archive.ics.uci.edu/ml/datasets/Adult\"\n",
    "# Other available dataset. All contribute to Classification\n",
    "url4 = 'https://archive.ics.uci.edu/ml/datasets/Avila'\n",
    "url5 = 'https://archive.ics.uci.edu/ml/datasets/Census+Income'\n",
    "url6 = 'https://archive.ics.uci.edu/ml/datasets/Nursery'\n",
    "url7 = 'https://archive.ics.uci.edu/ml/datasets/User+Profiling+and+Abusive+Language+Detection+Dataset'\n",
    "url8 = 'https://archive.ics.uci.edu/ml/datasets/MEx' # time series\n",
    "\n"
   ]
  },
  {
   "cell_type": "code",
   "execution_count": 19,
   "metadata": {},
   "outputs": [
    {
     "output_type": "stream",
     "name": "stdout",
     "text": [
      "/Users/anthea-mac/Documents/FA20/COGS118A/Final Project/notebooks\n"
     ]
    }
   ],
   "source": [
    "! pwd"
   ]
  },
  {
   "cell_type": "code",
   "execution_count": 33,
   "metadata": {},
   "outputs": [
    {
     "output_type": "stream",
     "name": "stdout",
     "text": [
      "The shape of raw User+Profiling+and+Abusive+Language+Detection+Dataset  is  (10430, 11)\n"
     ]
    },
    {
     "output_type": "display_data",
     "data": {
      "text/plain": "         0         1         2         3         4         5         6   \\\n0  0.266074 -0.165620  0.320980  0.483299  0.172340  0.273364  0.371178   \n1  0.130292  0.870736 -3.210528  0.062493  0.261718  1.436060  1.465940   \n2 -0.116585  0.069915  0.068476 -0.783147  0.261718  0.439463 -0.081827   \n3  0.031541  0.297600 -3.210528 -0.583590 -0.721442 -0.307984  0.710932   \n4  0.229043  0.807926 -0.052442  0.082634  0.261718  0.148790  0.635431   \n\n         7         8         9  10  \n0  0.929823  0.251173  0.159345  A  \n1  0.636203  0.282354  0.515587  A  \n2 -0.888236 -0.123005  0.582939  A  \n3  1.051693  0.594169 -0.533994  A  \n4  0.051062  0.032902 -0.086652  F  ",
      "text/html": "<div>\n<style scoped>\n    .dataframe tbody tr th:only-of-type {\n        vertical-align: middle;\n    }\n\n    .dataframe tbody tr th {\n        vertical-align: top;\n    }\n\n    .dataframe thead th {\n        text-align: right;\n    }\n</style>\n<table border=\"1\" class=\"dataframe\">\n  <thead>\n    <tr style=\"text-align: right;\">\n      <th></th>\n      <th>0</th>\n      <th>1</th>\n      <th>2</th>\n      <th>3</th>\n      <th>4</th>\n      <th>5</th>\n      <th>6</th>\n      <th>7</th>\n      <th>8</th>\n      <th>9</th>\n      <th>10</th>\n    </tr>\n  </thead>\n  <tbody>\n    <tr>\n      <th>0</th>\n      <td>0.266074</td>\n      <td>-0.165620</td>\n      <td>0.320980</td>\n      <td>0.483299</td>\n      <td>0.172340</td>\n      <td>0.273364</td>\n      <td>0.371178</td>\n      <td>0.929823</td>\n      <td>0.251173</td>\n      <td>0.159345</td>\n      <td>A</td>\n    </tr>\n    <tr>\n      <th>1</th>\n      <td>0.130292</td>\n      <td>0.870736</td>\n      <td>-3.210528</td>\n      <td>0.062493</td>\n      <td>0.261718</td>\n      <td>1.436060</td>\n      <td>1.465940</td>\n      <td>0.636203</td>\n      <td>0.282354</td>\n      <td>0.515587</td>\n      <td>A</td>\n    </tr>\n    <tr>\n      <th>2</th>\n      <td>-0.116585</td>\n      <td>0.069915</td>\n      <td>0.068476</td>\n      <td>-0.783147</td>\n      <td>0.261718</td>\n      <td>0.439463</td>\n      <td>-0.081827</td>\n      <td>-0.888236</td>\n      <td>-0.123005</td>\n      <td>0.582939</td>\n      <td>A</td>\n    </tr>\n    <tr>\n      <th>3</th>\n      <td>0.031541</td>\n      <td>0.297600</td>\n      <td>-3.210528</td>\n      <td>-0.583590</td>\n      <td>-0.721442</td>\n      <td>-0.307984</td>\n      <td>0.710932</td>\n      <td>1.051693</td>\n      <td>0.594169</td>\n      <td>-0.533994</td>\n      <td>A</td>\n    </tr>\n    <tr>\n      <th>4</th>\n      <td>0.229043</td>\n      <td>0.807926</td>\n      <td>-0.052442</td>\n      <td>0.082634</td>\n      <td>0.261718</td>\n      <td>0.148790</td>\n      <td>0.635431</td>\n      <td>0.051062</td>\n      <td>0.032902</td>\n      <td>-0.086652</td>\n      <td>F</td>\n    </tr>\n  </tbody>\n</table>\n</div>"
     },
     "metadata": {}
    },
    {
     "output_type": "stream",
     "name": "stdout",
     "text": [
      "\n\nThe shape of raw adult data set is (32560, 15)\n"
     ]
    },
    {
     "output_type": "display_data",
     "data": {
      "text/plain": "   39          State-gov   77516   Bachelors   13        Never-married  \\\n0  50   Self-emp-not-inc   83311   Bachelors   13   Married-civ-spouse   \n1  38            Private  215646     HS-grad    9             Divorced   \n2  53            Private  234721        11th    7   Married-civ-spouse   \n3  28            Private  338409   Bachelors   13   Married-civ-spouse   \n4  37            Private  284582     Masters   14   Married-civ-spouse   \n\n         Adm-clerical   Not-in-family   White     Male   2174   0   40  \\\n0     Exec-managerial         Husband   White     Male      0   0   13   \n1   Handlers-cleaners   Not-in-family   White     Male      0   0   40   \n2   Handlers-cleaners         Husband   Black     Male      0   0   40   \n3      Prof-specialty            Wife   Black   Female      0   0   40   \n4     Exec-managerial            Wife   White   Female      0   0   40   \n\n    United-States   <=50K  \n0   United-States   <=50K  \n1   United-States   <=50K  \n2   United-States   <=50K  \n3            Cuba   <=50K  \n4   United-States   <=50K  ",
      "text/html": "<div>\n<style scoped>\n    .dataframe tbody tr th:only-of-type {\n        vertical-align: middle;\n    }\n\n    .dataframe tbody tr th {\n        vertical-align: top;\n    }\n\n    .dataframe thead th {\n        text-align: right;\n    }\n</style>\n<table border=\"1\" class=\"dataframe\">\n  <thead>\n    <tr style=\"text-align: right;\">\n      <th></th>\n      <th>39</th>\n      <th>State-gov</th>\n      <th>77516</th>\n      <th>Bachelors</th>\n      <th>13</th>\n      <th>Never-married</th>\n      <th>Adm-clerical</th>\n      <th>Not-in-family</th>\n      <th>White</th>\n      <th>Male</th>\n      <th>2174</th>\n      <th>0</th>\n      <th>40</th>\n      <th>United-States</th>\n      <th>&lt;=50K</th>\n    </tr>\n  </thead>\n  <tbody>\n    <tr>\n      <th>0</th>\n      <td>50</td>\n      <td>Self-emp-not-inc</td>\n      <td>83311</td>\n      <td>Bachelors</td>\n      <td>13</td>\n      <td>Married-civ-spouse</td>\n      <td>Exec-managerial</td>\n      <td>Husband</td>\n      <td>White</td>\n      <td>Male</td>\n      <td>0</td>\n      <td>0</td>\n      <td>13</td>\n      <td>United-States</td>\n      <td>&lt;=50K</td>\n    </tr>\n    <tr>\n      <th>1</th>\n      <td>38</td>\n      <td>Private</td>\n      <td>215646</td>\n      <td>HS-grad</td>\n      <td>9</td>\n      <td>Divorced</td>\n      <td>Handlers-cleaners</td>\n      <td>Not-in-family</td>\n      <td>White</td>\n      <td>Male</td>\n      <td>0</td>\n      <td>0</td>\n      <td>40</td>\n      <td>United-States</td>\n      <td>&lt;=50K</td>\n    </tr>\n    <tr>\n      <th>2</th>\n      <td>53</td>\n      <td>Private</td>\n      <td>234721</td>\n      <td>11th</td>\n      <td>7</td>\n      <td>Married-civ-spouse</td>\n      <td>Handlers-cleaners</td>\n      <td>Husband</td>\n      <td>Black</td>\n      <td>Male</td>\n      <td>0</td>\n      <td>0</td>\n      <td>40</td>\n      <td>United-States</td>\n      <td>&lt;=50K</td>\n    </tr>\n    <tr>\n      <th>3</th>\n      <td>28</td>\n      <td>Private</td>\n      <td>338409</td>\n      <td>Bachelors</td>\n      <td>13</td>\n      <td>Married-civ-spouse</td>\n      <td>Prof-specialty</td>\n      <td>Wife</td>\n      <td>Black</td>\n      <td>Female</td>\n      <td>0</td>\n      <td>0</td>\n      <td>40</td>\n      <td>Cuba</td>\n      <td>&lt;=50K</td>\n    </tr>\n    <tr>\n      <th>4</th>\n      <td>37</td>\n      <td>Private</td>\n      <td>284582</td>\n      <td>Masters</td>\n      <td>14</td>\n      <td>Married-civ-spouse</td>\n      <td>Exec-managerial</td>\n      <td>Wife</td>\n      <td>White</td>\n      <td>Female</td>\n      <td>0</td>\n      <td>0</td>\n      <td>40</td>\n      <td>United-States</td>\n      <td>&lt;=50K</td>\n    </tr>\n  </tbody>\n</table>\n</div>"
     },
     "metadata": {}
    },
    {
     "output_type": "stream",
     "name": "stdout",
     "text": [
      "\n\nThe shape of raw household poswer of consumption data set is (2075259, 9)\n"
     ]
    },
    {
     "output_type": "display_data",
     "data": {
      "text/plain": "         Date      Time Global_active_power Global_reactive_power  Voltage  \\\n0  16/12/2006  17:24:00               4.216                 0.418  234.840   \n1  16/12/2006  17:25:00               5.360                 0.436  233.630   \n2  16/12/2006  17:26:00               5.374                 0.498  233.290   \n3  16/12/2006  17:27:00               5.388                 0.502  233.740   \n4  16/12/2006  17:28:00               3.666                 0.528  235.680   \n\n  Global_intensity Sub_metering_1 Sub_metering_2  Sub_metering_3  \n0           18.400          0.000          1.000            17.0  \n1           23.000          0.000          1.000            16.0  \n2           23.000          0.000          2.000            17.0  \n3           23.000          0.000          1.000            17.0  \n4           15.800          0.000          1.000            17.0  ",
      "text/html": "<div>\n<style scoped>\n    .dataframe tbody tr th:only-of-type {\n        vertical-align: middle;\n    }\n\n    .dataframe tbody tr th {\n        vertical-align: top;\n    }\n\n    .dataframe thead th {\n        text-align: right;\n    }\n</style>\n<table border=\"1\" class=\"dataframe\">\n  <thead>\n    <tr style=\"text-align: right;\">\n      <th></th>\n      <th>Date</th>\n      <th>Time</th>\n      <th>Global_active_power</th>\n      <th>Global_reactive_power</th>\n      <th>Voltage</th>\n      <th>Global_intensity</th>\n      <th>Sub_metering_1</th>\n      <th>Sub_metering_2</th>\n      <th>Sub_metering_3</th>\n    </tr>\n  </thead>\n  <tbody>\n    <tr>\n      <th>0</th>\n      <td>16/12/2006</td>\n      <td>17:24:00</td>\n      <td>4.216</td>\n      <td>0.418</td>\n      <td>234.840</td>\n      <td>18.400</td>\n      <td>0.000</td>\n      <td>1.000</td>\n      <td>17.0</td>\n    </tr>\n    <tr>\n      <th>1</th>\n      <td>16/12/2006</td>\n      <td>17:25:00</td>\n      <td>5.360</td>\n      <td>0.436</td>\n      <td>233.630</td>\n      <td>23.000</td>\n      <td>0.000</td>\n      <td>1.000</td>\n      <td>16.0</td>\n    </tr>\n    <tr>\n      <th>2</th>\n      <td>16/12/2006</td>\n      <td>17:26:00</td>\n      <td>5.374</td>\n      <td>0.498</td>\n      <td>233.290</td>\n      <td>23.000</td>\n      <td>0.000</td>\n      <td>2.000</td>\n      <td>17.0</td>\n    </tr>\n    <tr>\n      <th>3</th>\n      <td>16/12/2006</td>\n      <td>17:27:00</td>\n      <td>5.388</td>\n      <td>0.502</td>\n      <td>233.740</td>\n      <td>23.000</td>\n      <td>0.000</td>\n      <td>1.000</td>\n      <td>17.0</td>\n    </tr>\n    <tr>\n      <th>4</th>\n      <td>16/12/2006</td>\n      <td>17:28:00</td>\n      <td>3.666</td>\n      <td>0.528</td>\n      <td>235.680</td>\n      <td>15.800</td>\n      <td>0.000</td>\n      <td>1.000</td>\n      <td>17.0</td>\n    </tr>\n  </tbody>\n</table>\n</div>"
     },
     "metadata": {}
    },
    {
     "output_type": "stream",
     "name": "stdout",
     "text": [
      "\n\nThe shape of raw nursery data set is (12959, 9)\n"
     ]
    },
    {
     "output_type": "display_data",
     "data": {
      "text/plain": "   usual  proper  complete  1  convenient convenient.1        nonprob  \\\n0  usual  proper  complete  1  convenient   convenient        nonprob   \n1  usual  proper  complete  1  convenient   convenient        nonprob   \n2  usual  proper  complete  1  convenient   convenient  slightly_prob   \n3  usual  proper  complete  1  convenient   convenient  slightly_prob   \n4  usual  proper  complete  1  convenient   convenient  slightly_prob   \n\n   recommended  recommend  \n0     priority   priority  \n1    not_recom  not_recom  \n2  recommended  recommend  \n3     priority   priority  \n4    not_recom  not_recom  ",
      "text/html": "<div>\n<style scoped>\n    .dataframe tbody tr th:only-of-type {\n        vertical-align: middle;\n    }\n\n    .dataframe tbody tr th {\n        vertical-align: top;\n    }\n\n    .dataframe thead th {\n        text-align: right;\n    }\n</style>\n<table border=\"1\" class=\"dataframe\">\n  <thead>\n    <tr style=\"text-align: right;\">\n      <th></th>\n      <th>usual</th>\n      <th>proper</th>\n      <th>complete</th>\n      <th>1</th>\n      <th>convenient</th>\n      <th>convenient.1</th>\n      <th>nonprob</th>\n      <th>recommended</th>\n      <th>recommend</th>\n    </tr>\n  </thead>\n  <tbody>\n    <tr>\n      <th>0</th>\n      <td>usual</td>\n      <td>proper</td>\n      <td>complete</td>\n      <td>1</td>\n      <td>convenient</td>\n      <td>convenient</td>\n      <td>nonprob</td>\n      <td>priority</td>\n      <td>priority</td>\n    </tr>\n    <tr>\n      <th>1</th>\n      <td>usual</td>\n      <td>proper</td>\n      <td>complete</td>\n      <td>1</td>\n      <td>convenient</td>\n      <td>convenient</td>\n      <td>nonprob</td>\n      <td>not_recom</td>\n      <td>not_recom</td>\n    </tr>\n    <tr>\n      <th>2</th>\n      <td>usual</td>\n      <td>proper</td>\n      <td>complete</td>\n      <td>1</td>\n      <td>convenient</td>\n      <td>convenient</td>\n      <td>slightly_prob</td>\n      <td>recommended</td>\n      <td>recommend</td>\n    </tr>\n    <tr>\n      <th>3</th>\n      <td>usual</td>\n      <td>proper</td>\n      <td>complete</td>\n      <td>1</td>\n      <td>convenient</td>\n      <td>convenient</td>\n      <td>slightly_prob</td>\n      <td>priority</td>\n      <td>priority</td>\n    </tr>\n    <tr>\n      <th>4</th>\n      <td>usual</td>\n      <td>proper</td>\n      <td>complete</td>\n      <td>1</td>\n      <td>convenient</td>\n      <td>convenient</td>\n      <td>slightly_prob</td>\n      <td>not_recom</td>\n      <td>not_recom</td>\n    </tr>\n  </tbody>\n</table>\n</div>"
     },
     "metadata": {}
    },
    {
     "output_type": "stream",
     "name": "stdout",
     "text": [
      "\n\n"
     ]
    }
   ],
   "source": [
    "avlang = pd.read_csv('../data/train/avl_set/avila-tr.txt', header=None)\n",
    "adult_raw = pd.read_csv('../data/train/adult/adult.data')\n",
    "# abt_raw = pd.read_csv('../data/train/abt_set/Tweets.csv', header=None)\n",
    "house_raw = pd.read_csv('../data/train/house_set/household_power_consumption.txt',sep=';')\n",
    "nursey_raw = pd.read_csv('../data/train/nursey/nursery.data')\n",
    "\n",
    "print('The shape of raw User+Profiling+and+Abusive+Language+Detection+Dataset  is ' ,avlang.shape)\n",
    "display(avlang.head())\n",
    "print(\"\")\n",
    "print(\"\")\n",
    "print('The shape of raw adult data set is', adult_raw.shape)\n",
    "display(adult_raw.head())\n",
    "print(\"\")\n",
    "print(\"\")\n",
    "print('The shape of raw household poswer of consumption data set is', house_raw.shape)\n",
    "display(house_raw.head())\n",
    "print(\"\")\n",
    "print(\"\")\n",
    "print('The shape of raw nursery data set is', nursey_raw.shape)\n",
    "display(nursey_raw.head())\n",
    "print(\"\")\n",
    "print(\"\")\n",
    "avlang.sample(n=5000, replace=False).to_csv('./data/avl.csv', index=False)\n",
    "adult_raw.sample(n=5000, replace=False).to_csv('./data/adult.csv', index=False)\n",
    "house_raw.sample(n=5000, replace=False).to_csv('./data/income.csv', index=False)\n",
    "nursey_raw.sample(n=5000, replace=False).to_csv('./data/nsr.csv', index=False)\n",
    "\n",
    "\n",
    "\n",
    "\n",
    "\n",
    "\n",
    "\n"
   ]
  },
  {
   "cell_type": "code",
   "execution_count": 35,
   "metadata": {},
   "outputs": [],
   "source": []
  },
  {
   "cell_type": "code",
   "execution_count": 4,
   "metadata": {},
   "outputs": [
    {
     "output_type": "stream",
     "name": "stdout",
     "text": [
      "all data size are : (5000, 11) (5000, 15) (5000, 9) (5000, 9)\n"
     ]
    }
   ],
   "source": [
    "avl = pd.read_csv('./data/avl.csv')\n",
    "ad = pd.read_csv('./data/adult.csv')\n",
    "income = pd.read_csv('./data/income.csv')\n",
    "nsr = pd.read_csv('./data/nsr.csv')\n",
    "print('all data size are :', avl.shape, ad.shape, income.shape, nsr.shape)"
   ]
  },
  {
   "source": [
    "## EDA"
   ],
   "cell_type": "markdown",
   "metadata": {}
  },
  {
   "cell_type": "code",
   "execution_count": null,
   "metadata": {},
   "outputs": [],
   "source": []
  },
  {
   "cell_type": "code",
   "execution_count": null,
   "metadata": {},
   "outputs": [],
   "source": []
  },
  {
   "source": [
    "## Methodology"
   ],
   "cell_type": "markdown",
   "metadata": {}
  },
  {
   "source": [
    "### Algorithms"
   ],
   "cell_type": "markdown",
   "metadata": {}
  },
  {
   "cell_type": "code",
   "execution_count": 9,
   "metadata": {},
   "outputs": [
    {
     "output_type": "stream",
     "name": "stdout",
     "text": [
      "There will be 5 fold cross-validation to select the hyperparameters via a gridsearch\nThe supervised machine learninf models are:\n [('knn', KNeighborsClassifier()), ('dtree', DecisionTreeClassifier()), ('svm', SVC())]\n"
     ]
    },
    {
     "output_type": "error",
     "ename": "NameError",
     "evalue": "name 'scorings' is not defined",
     "traceback": [
      "\u001b[0;31m---------------------------------------------------------------------------\u001b[0m",
      "\u001b[0;31mNameError\u001b[0m                                 Traceback (most recent call last)",
      "\u001b[0;32m<ipython-input-9-b795b47bd8c2>\u001b[0m in \u001b[0;36m<module>\u001b[0;34m\u001b[0m\n\u001b[1;32m      1\u001b[0m \u001b[0mprint\u001b[0m\u001b[0;34m(\u001b[0m\u001b[0;34m'There will be 5 fold cross-validation to select the hyperparameters via a gridsearch'\u001b[0m\u001b[0;34m)\u001b[0m\u001b[0;34m\u001b[0m\u001b[0;34m\u001b[0m\u001b[0m\n\u001b[1;32m      2\u001b[0m \u001b[0mprint\u001b[0m\u001b[0;34m(\u001b[0m\u001b[0;34m'The supervised machine learninf models are:\\n'\u001b[0m\u001b[0;34m,\u001b[0m \u001b[0mmodels\u001b[0m\u001b[0;34m)\u001b[0m\u001b[0;34m\u001b[0m\u001b[0;34m\u001b[0m\u001b[0m\n\u001b[0;32m----> 3\u001b[0;31m \u001b[0mprint\u001b[0m\u001b[0;34m(\u001b[0m\u001b[0;34m'The methods to evaluate model performances are: '\u001b[0m\u001b[0;34m,\u001b[0m \u001b[0mscorings\u001b[0m\u001b[0;34m)\u001b[0m\u001b[0;34m\u001b[0m\u001b[0;34m\u001b[0m\u001b[0m\n\u001b[0m",
      "\u001b[0;31mNameError\u001b[0m: name 'scorings' is not defined"
     ]
    }
   ],
   "source": [
    "\n",
    "print('There will be 5 fold cross-validation to select the hyperparameters via a gridsearch')\n",
    "print('The supervised machine learninf models are:\\n', models)\n",
    "print('The methods to evaluate model performances are: ', scorings)\n"
   ]
  },
  {
   "cell_type": "code",
   "execution_count": null,
   "metadata": {},
   "outputs": [],
   "source": [
    "# define grid search parameters\n",
    "parameters = {}\n",
    "folds=5\n",
    "pipe = Pipeline(models)\n",
    "#C = [1*(10**-5),1*(10**-4), 1*(10**-3),1*(10**-2), 1*(10**-1),1,10,1*(10**2),1*(10**3),1*(10**4),1*(10**5)]\n",
    "C = loguniform(1e-5, 1e5)\n",
    "# gamma = [0.001, 0.0001]\n",
    "# gamma = [1, 0.1, 0.01, 0.001, 0.0001]\n",
    "gamma = loguniform(1e-4, 1e-3) \n",
    "\n",
    "parameters=[\n",
    "    #knn\n",
    "    {'knn_n_neighbors' : [1,3,5,10,20,30,50],\n",
    "    'knn_weights': ['uniform', 'distance'],\n",
    "    'knn_algorithm': ['auto', 'ball_tree', 'kd_tree', 'brute'],\n",
    "    'preprocess':[StandardScaler(),'passthrough'],\n",
    "    'imputer_num__strategy': ['mean', 'median']}\n",
    "    #dtree\n",
    "    {'min_samples_split': range(2, 403, 10),\n",
    "    'criterion' = ['gini', 'entropy'],\n",
    "    'max_depth' = [2,4,6,8,10,12],\n",
    "    'preprocess':[StandardScaler(),'passthrough'],\n",
    "    'imputer_num__strategy': ['mean', 'median']},\n",
    "    #svm\n",
    "    {'C': C, 'gamma': gamma, 'kernel': ['rbf','linear'],\n",
    "    'preprocess':[StandardScaler(),'passthrough'],\n",
    "    'imputer_num__strategy': ['mean', 'median']},\n",
    " ]\n"
   ]
  },
  {
   "cell_type": "code",
   "execution_count": null,
   "metadata": {},
   "outputs": [],
   "source": [
    "for score in scorings:\n",
    "    print(\"# Tuning hyper-parameters for %s\" % score)\n",
    "    print()\n",
    "    clf = GridSearchCV(\n",
    "        pipe, parameters, scoring='%s_macro' % score,cv=5,\n",
    "        n_jobs=-1)\n",
    "    \n",
    "    print(\"**pipeline**:\", [name for name, _ in pipeline.steps])\n",
    "    print(\"parameters:\")\n",
    "    pprint(parameters)\n",
    "    t0 = time()\n",
    "    %timeit -r1 clf.fit(X_train, y_train)\n",
    "    print(\"done in %0.3fs\" % (time() - t0))\n",
    "    print(\"--------------------\")\n",
    "    print(\"Best score: %0.3f\" % clf.best_score_)\n",
    "    print(\"Best parameters set found on development set:\")\n",
    "    print(\" \",clf.best_params_)\n",
    "    print(\"Best estimatpr found:\")\n",
    "    print(\" \",clf.best_estimator_)\n",
    "    print()\n",
    "    print(\"Grid scores on development set:\")\n",
    "    means = clf.cv_results_['mean_test_score']\n",
    "    stds = clf.cv_results_['std_test_score']\n",
    "    #for mean, std, params in zip(means, stds, clf.cv_results_['params']):\n",
    "        #print(\"%0.3f (+/-%0.03f) for %r\" % (mean, std * 2, params))\n",
    "\n",
    "    \n",
    "    param_df = pd.DataFrame.from_records(clf.cv_results_['params'])\n",
    "    param_df['mean_test_score'] = means\n",
    "    param_df['std_test_score'] = stds\n",
    "    param_df.sort_values(by=['mean_test_score']).tail()\n",
    "    ax = clf.plot.line(marker='.')\n",
    "    ax.set_xticks(param_df.index)\n",
    "\n",
    "    print(\"Detailed classification report:\")\n",
    "    print()\n",
    "    print(\"The model is trained on the full development set.\")\n",
    "    print(\"**The scores are computed on the full evaluation set**\")\n",
    "    print()\n",
    "    y_true, y_pred = y_test, clf.predict(X_test)\n",
    "    print(classification_report(y_true, y_pred))\n",
    "    print()\n",
    "    print()"
   ]
  },
  {
   "cell_type": "code",
   "execution_count": null,
   "metadata": {},
   "outputs": [],
   "source": []
  },
  {
   "cell_type": "code",
   "execution_count": null,
   "metadata": {},
   "outputs": [],
   "source": [
    "names = []\n",
    "scoring = 'accuracy'\n",
    "for name, model in models:\n",
    "\tkfold = model_selection.KFold(n_splits=10, random_state=seed)\n",
    "\tcv_results = model_selection.cross_val_score(model, X, Y, cv=kfold, scoring=scoring)\n",
    "\tresults.append(cv_results)\n",
    "\tnames.append(name)\n",
    "\tmsg = \"%s: %f (%f)\" % (name, cv_results.mean(), cv_results.std())\n",
    "\tprint(msg)\n",
    "# boxplot algorithm comparison\n",
    "fig = plt.figure()\n",
    "fig.suptitle('Algorithm Comparison')\n",
    "ax = fig.add_subplot(111)\n",
    "plt.boxplot(results)\n",
    "ax.set_xticklabels(names)\n",
    "plt.show()"
   ]
  },
  {
   "cell_type": "code",
   "execution_count": null,
   "metadata": {},
   "outputs": [],
   "source": []
  },
  {
   "source": [
    "### Trails"
   ],
   "cell_type": "markdown",
   "metadata": {}
  },
  {
   "cell_type": "code",
   "execution_count": null,
   "metadata": {},
   "outputs": [],
   "source": []
  },
  {
   "source": [
    "## Conclusion"
   ],
   "cell_type": "markdown",
   "metadata": {}
  },
  {
   "cell_type": "code",
   "execution_count": null,
   "metadata": {},
   "outputs": [],
   "source": [
    "# prepare configuration for cross validation test harness\n",
    "seed = 7\n",
    "for name, model in models:\n",
    "\tkfold = model_selection.KFold(n_splits=10, random_state=seed)\n",
    "\tcv_results = model_selection.cross_val_score(model, X, Y, cv=kfold, scoring=scoring)\n",
    "\tresults.append(cv_results)\n",
    "\tnames.append(name)\n",
    "\tmsg = \"%s: %f (%f)\" % (name, cv_results.mean(), cv_results.std())\n",
    "\tprint(msg)\n",
    "# boxplot algorithm comparison\n",
    "fig = plt.figure()\n",
    "fig.suptitle('Algorithm Comparison')\n",
    "ax = fig.add_subplot(111)\n",
    "plt.boxplot(results)\n",
    "ax.set_xticklabels(names)\n",
    "plt.show()"
   ]
  },
  {
   "cell_type": "code",
   "execution_count": null,
   "metadata": {},
   "outputs": [],
   "source": []
  },
  {
   "cell_type": "code",
   "execution_count": null,
   "metadata": {},
   "outputs": [],
   "source": []
  }
 ]
}