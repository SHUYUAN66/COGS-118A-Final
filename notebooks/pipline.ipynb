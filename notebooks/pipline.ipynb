{
 "metadata": {
  "language_info": {
   "codemirror_mode": {
    "name": "ipython",
    "version": 3
   },
   "file_extension": ".py",
   "mimetype": "text/x-python",
   "name": "python",
   "nbconvert_exporter": "python",
   "pygments_lexer": "ipython3",
   "version": "3.8.6-final"
  },
  "orig_nbformat": 2,
  "kernelspec": {
   "name": "python3",
   "display_name": "Python 3",
   "language": "python"
  }
 },
 "nbformat": 4,
 "nbformat_minor": 2,
 "cells": [
  {
   "source": [
    "# Data Sets\n",
    "and some piplines"
   ],
   "cell_type": "markdown",
   "metadata": {}
  },
  {
   "source": [
    "## Library"
   ],
   "cell_type": "markdown",
   "metadata": {}
  },
  {
   "cell_type": "code",
   "execution_count": 30,
   "metadata": {},
   "outputs": [],
   "source": [
    "# Basic\n",
    "import numpy as np \n",
    "import pandas as pd\n",
    "import matplotlib.pyplot as plt\n",
    "import pickle\n",
    "import seaborn as sns\n",
    "from pprintpp import pprint\n",
    "import timeit \n",
    "from pandas.api.types import CategoricalDtype\n",
    "\n",
    "# preprocessing\n",
    "    # StandardScaler(), KFold()\n",
    "from sklearn.preprocessing import  StandardScaler,  OneHotEncoder\n",
    "from sklearn.compose import make_column_selector as selector\n",
    "from sklearn.compose import ColumnTransformer\n",
    "from sklearn.impute import SimpleImputer \n",
    "# selecting model  \n",
    "from sklearn.model_selection import train_test_split,KFold,GridSearchCV,validation_curve, learning_curve\n",
    "    # Algorithms\n",
    "from supervised.automl import AutoML\n",
    "from sklearn.utils.fixes import loguniform\n",
    "from sklearn.neighbors import KNeighborsClassifier\n",
    "from sklearn.svm import SVC\n",
    "from sklearn.tree import DecisionTreeClassifier \n",
    "from sklearn.pipeline import Pipeline\n",
    "\n",
    "models = []\n",
    "models.append(('knn', KNeighborsClassifier()))\n",
    "models.append(('dtree', DecisionTreeClassifier()))\n",
    "models.append(('svm', SVC()))\n",
    "# evaluation\n",
    "from sklearn.metrics import f1_score, accuracy_score,roc_curve, confusion_matrix,classification_report\n",
    "\n",
    "\"\"\"\n",
    "* The DataFrame: \n",
    "    group1: ACC, FSC, LFT\n",
    "    group2: ROC, APR, BEP\n",
    "    group3: RMS, MXE\n",
    "    group4: OPT-SELS\n",
    "    - The **threshold** metrics are accuracy(ACC), F-score(FSC) and lift(LFT).\n",
    "    - The **rank metrics** we use are area under the ROC curve (ROC),average precision(APR), and precision/recall break even point (BEP).\n",
    "    - The **probability metrics**,squared error(RMS) and cross-entropy (MXE),interpret the predicted value of each case as the conditional probability of that case being in the positive class.\n",
    "    - The last column,***OPT-SEL***,is the mean normalized score for the eight metrics when model selection is done by cheating and looking at the final testsets.(dont understand either.....)\n",
    "\n",
    "* Within the Matric: \n",
    "    - The algorithm with the best performance on each metric is ***boldfaced***. Using t-test p= 0.05, others are *'ed in three trails if they still have good performance.\n",
    "    \n",
    "    \"\"\"\n",
    "seed = 7\n",
    "results = []\n",
    "names = []\n",
    "prec, rec = 1, 1\n",
    "def bep(y_true, y_pred):\n",
    "    precision()\n",
    "    return precision/recall\n",
    "scorings = {}\n",
    "\n"
   ]
  },
  {
   "source": [
    "## Data"
   ],
   "cell_type": "markdown",
   "metadata": {}
  },
  {
   "cell_type": "code",
   "execution_count": 31,
   "metadata": {},
   "outputs": [],
   "source": [
    "\n",
    "url1 = \"https://archive.ics.uci.edu/ml/datasets/Adult\"\n",
    "url2 = 'https://archive.ics.uci.edu/ml/datasets/Avila'\n",
    "url3 = 'https://archive.ics.uci.edu/ml/datasets/Nursery'\n",
    "url4 = 'http://archive.ics.uci.edu/ml/datasets/Individual+household+electric+power+consumption'\n",
    "\n"
   ]
  },
  {
   "source": [
    "### Dataset Information\n",
    "1. ADULT\n",
    "    * TARGET: >50K, <=50K.\n",
    "    * VARIABLES/ ATTRIBUTES: ['age','workclass','fnlwgt','education',\n",
    "    'education-num','marital-status','occupation','relationship','race','sex','capital-gain','capital-loss','hours-per-week','native-country']\n",
    "2.  AVILA\n",
    "    * TARGET: {Class: A, B, C, D, E, F, G, H, I, W, X, Y}\n",
    "    * VARIABLES/ ATTRIBUTES: ['0', '1', '2', '3', '4', '5', '6', '7', '8', \n",
    "    '9']\n",
    "3. NURSERY\n",
    "    * TARGET: NURSERY\n",
    "    * VARIABLES/ ATTRIBUTES: nry_var = ['parents', 'has_nurs', 'form', 'children', 'housing','finance', 'social', 'health']\n",
    "4. HOUSEHOLD POWER \n",
    "    * Time series\n",
    "    * VARIABLES/ ATTRIBUTES: ['Date', 'Time', 'Global_active_power', 'Global_reactive_power',\n",
    "       'Voltage', 'Global_intensity', 'Sub_metering_1', 'Sub_metering_2',\n",
    "       'Sub_metering_3']\n",
    "    * For EC! \n",
    "    "
   ],
   "cell_type": "markdown",
   "metadata": {}
  },
  {
   "cell_type": "code",
   "execution_count": 32,
   "metadata": {},
   "outputs": [],
   "source": [
    "\n",
    "'''\n",
    "get_df_name(df): \n",
    "    input: a dataframe.\n",
    "    output: the name of this dataframe.\n",
    "check_dataset(dataset): \n",
    "    goal: make sure fulfill the requirements of the dataset choice.\n",
    "    input: a list of dataframes.\n",
    "    output: print out the size information of each dataframe.\n",
    "check_sample(dataset):\n",
    "    goal: make sure choosing 5000 samples randomly.\n",
    "    input: a list of dataframes:\n",
    "    output: print out the size of information of each sampled dataframe.\n",
    "'''\n",
    "\n",
    "def get_df_name(df):\n",
    "    name =[x for x in globals() if globals()[x] is df][0]\n",
    "    return name\n",
    "\n",
    "def check_dataset(dataset):\n",
    "    for i in dataset:\n",
    "        if i.shape[0]>=10000:\n",
    "            print('Dataset '+ get_df_name(i)+\" fulfill the size requirements in the project having \"+ str(i.shape[0])+\" samples, which is over or equal to 10,000\")\n",
    "    return\n",
    "\n",
    "def check_sample(dataset):\n",
    "    for i in dataset:\n",
    "        if i.shape[0]==5000:\n",
    "            print('Successfully randomly choosing 5000 data samples from ' +get_df_name(i)+\" dataset\")\n",
    "    return "
   ]
  },
  {
   "cell_type": "code",
   "execution_count": 33,
   "metadata": {},
   "outputs": [
    {
     "output_type": "stream",
     "name": "stdout",
     "text": [
      "Start on reading raw data\n"
     ]
    },
    {
     "output_type": "error",
     "ename": "FileNotFoundError",
     "evalue": "[Errno 2] No such file or directory: '../data/train/avl_set/avila-tr.txt'",
     "traceback": [
      "\u001b[0;31m---------------------------------------------------------------------------\u001b[0m",
      "\u001b[0;31mFileNotFoundError\u001b[0m                         Traceback (most recent call last)",
      "\u001b[0;32m<ipython-input-33-5acecd17479a>\u001b[0m in \u001b[0;36m<module>\u001b[0;34m\u001b[0m\n\u001b[1;32m      1\u001b[0m \u001b[0mprint\u001b[0m\u001b[0;34m(\u001b[0m\u001b[0;34m'Start on reading raw data'\u001b[0m\u001b[0;34m)\u001b[0m\u001b[0;34m\u001b[0m\u001b[0;34m\u001b[0m\u001b[0m\n\u001b[0;32m----> 2\u001b[0;31m \u001b[0mavlang\u001b[0m \u001b[0;34m=\u001b[0m \u001b[0mpd\u001b[0m\u001b[0;34m.\u001b[0m\u001b[0mread_csv\u001b[0m\u001b[0;34m(\u001b[0m\u001b[0;34m'../data/train/avl_set/avila-tr.txt'\u001b[0m\u001b[0;34m,\u001b[0m \u001b[0mheader\u001b[0m\u001b[0;34m=\u001b[0m\u001b[0;32mNone\u001b[0m\u001b[0;34m)\u001b[0m\u001b[0;34m\u001b[0m\u001b[0;34m\u001b[0m\u001b[0m\n\u001b[0m\u001b[1;32m      3\u001b[0m \u001b[0mprint\u001b[0m\u001b[0;34m(\u001b[0m\u001b[0;34m'-'\u001b[0m\u001b[0;34m)\u001b[0m\u001b[0;34m\u001b[0m\u001b[0;34m\u001b[0m\u001b[0m\n\u001b[1;32m      4\u001b[0m \u001b[0madult_raw\u001b[0m \u001b[0;34m=\u001b[0m \u001b[0mpd\u001b[0m\u001b[0;34m.\u001b[0m\u001b[0mread_csv\u001b[0m\u001b[0;34m(\u001b[0m\u001b[0;34m'../data/train/adult/adult.data'\u001b[0m\u001b[0;34m,\u001b[0m \u001b[0mheader\u001b[0m\u001b[0;34m=\u001b[0m\u001b[0;32mNone\u001b[0m\u001b[0;34m)\u001b[0m\u001b[0;34m\u001b[0m\u001b[0;34m\u001b[0m\u001b[0m\n\u001b[1;32m      5\u001b[0m \u001b[0mprint\u001b[0m\u001b[0;34m(\u001b[0m\u001b[0;34m'-'\u001b[0m\u001b[0;34m)\u001b[0m\u001b[0;34m\u001b[0m\u001b[0;34m\u001b[0m\u001b[0m\n",
      "\u001b[0;32m~/opt/anaconda3/envs/rna/lib/python3.8/site-packages/pandas/io/parsers.py\u001b[0m in \u001b[0;36mread_csv\u001b[0;34m(filepath_or_buffer, sep, delimiter, header, names, index_col, usecols, squeeze, prefix, mangle_dupe_cols, dtype, engine, converters, true_values, false_values, skipinitialspace, skiprows, skipfooter, nrows, na_values, keep_default_na, na_filter, verbose, skip_blank_lines, parse_dates, infer_datetime_format, keep_date_col, date_parser, dayfirst, cache_dates, iterator, chunksize, compression, thousands, decimal, lineterminator, quotechar, quoting, doublequote, escapechar, comment, encoding, dialect, error_bad_lines, warn_bad_lines, delim_whitespace, low_memory, memory_map, float_precision)\u001b[0m\n\u001b[1;32m    684\u001b[0m     )\n\u001b[1;32m    685\u001b[0m \u001b[0;34m\u001b[0m\u001b[0m\n\u001b[0;32m--> 686\u001b[0;31m     \u001b[0;32mreturn\u001b[0m \u001b[0m_read\u001b[0m\u001b[0;34m(\u001b[0m\u001b[0mfilepath_or_buffer\u001b[0m\u001b[0;34m,\u001b[0m \u001b[0mkwds\u001b[0m\u001b[0;34m)\u001b[0m\u001b[0;34m\u001b[0m\u001b[0;34m\u001b[0m\u001b[0m\n\u001b[0m\u001b[1;32m    687\u001b[0m \u001b[0;34m\u001b[0m\u001b[0m\n\u001b[1;32m    688\u001b[0m \u001b[0;34m\u001b[0m\u001b[0m\n",
      "\u001b[0;32m~/opt/anaconda3/envs/rna/lib/python3.8/site-packages/pandas/io/parsers.py\u001b[0m in \u001b[0;36m_read\u001b[0;34m(filepath_or_buffer, kwds)\u001b[0m\n\u001b[1;32m    450\u001b[0m \u001b[0;34m\u001b[0m\u001b[0m\n\u001b[1;32m    451\u001b[0m     \u001b[0;31m# Create the parser.\u001b[0m\u001b[0;34m\u001b[0m\u001b[0;34m\u001b[0m\u001b[0;34m\u001b[0m\u001b[0m\n\u001b[0;32m--> 452\u001b[0;31m     \u001b[0mparser\u001b[0m \u001b[0;34m=\u001b[0m \u001b[0mTextFileReader\u001b[0m\u001b[0;34m(\u001b[0m\u001b[0mfp_or_buf\u001b[0m\u001b[0;34m,\u001b[0m \u001b[0;34m**\u001b[0m\u001b[0mkwds\u001b[0m\u001b[0;34m)\u001b[0m\u001b[0;34m\u001b[0m\u001b[0;34m\u001b[0m\u001b[0m\n\u001b[0m\u001b[1;32m    453\u001b[0m \u001b[0;34m\u001b[0m\u001b[0m\n\u001b[1;32m    454\u001b[0m     \u001b[0;32mif\u001b[0m \u001b[0mchunksize\u001b[0m \u001b[0;32mor\u001b[0m \u001b[0miterator\u001b[0m\u001b[0;34m:\u001b[0m\u001b[0;34m\u001b[0m\u001b[0;34m\u001b[0m\u001b[0m\n",
      "\u001b[0;32m~/opt/anaconda3/envs/rna/lib/python3.8/site-packages/pandas/io/parsers.py\u001b[0m in \u001b[0;36m__init__\u001b[0;34m(self, f, engine, **kwds)\u001b[0m\n\u001b[1;32m    934\u001b[0m             \u001b[0mself\u001b[0m\u001b[0;34m.\u001b[0m\u001b[0moptions\u001b[0m\u001b[0;34m[\u001b[0m\u001b[0;34m\"has_index_names\"\u001b[0m\u001b[0;34m]\u001b[0m \u001b[0;34m=\u001b[0m \u001b[0mkwds\u001b[0m\u001b[0;34m[\u001b[0m\u001b[0;34m\"has_index_names\"\u001b[0m\u001b[0;34m]\u001b[0m\u001b[0;34m\u001b[0m\u001b[0;34m\u001b[0m\u001b[0m\n\u001b[1;32m    935\u001b[0m \u001b[0;34m\u001b[0m\u001b[0m\n\u001b[0;32m--> 936\u001b[0;31m         \u001b[0mself\u001b[0m\u001b[0;34m.\u001b[0m\u001b[0m_make_engine\u001b[0m\u001b[0;34m(\u001b[0m\u001b[0mself\u001b[0m\u001b[0;34m.\u001b[0m\u001b[0mengine\u001b[0m\u001b[0;34m)\u001b[0m\u001b[0;34m\u001b[0m\u001b[0;34m\u001b[0m\u001b[0m\n\u001b[0m\u001b[1;32m    937\u001b[0m \u001b[0;34m\u001b[0m\u001b[0m\n\u001b[1;32m    938\u001b[0m     \u001b[0;32mdef\u001b[0m \u001b[0mclose\u001b[0m\u001b[0;34m(\u001b[0m\u001b[0mself\u001b[0m\u001b[0;34m)\u001b[0m\u001b[0;34m:\u001b[0m\u001b[0;34m\u001b[0m\u001b[0;34m\u001b[0m\u001b[0m\n",
      "\u001b[0;32m~/opt/anaconda3/envs/rna/lib/python3.8/site-packages/pandas/io/parsers.py\u001b[0m in \u001b[0;36m_make_engine\u001b[0;34m(self, engine)\u001b[0m\n\u001b[1;32m   1166\u001b[0m     \u001b[0;32mdef\u001b[0m \u001b[0m_make_engine\u001b[0m\u001b[0;34m(\u001b[0m\u001b[0mself\u001b[0m\u001b[0;34m,\u001b[0m \u001b[0mengine\u001b[0m\u001b[0;34m=\u001b[0m\u001b[0;34m\"c\"\u001b[0m\u001b[0;34m)\u001b[0m\u001b[0;34m:\u001b[0m\u001b[0;34m\u001b[0m\u001b[0;34m\u001b[0m\u001b[0m\n\u001b[1;32m   1167\u001b[0m         \u001b[0;32mif\u001b[0m \u001b[0mengine\u001b[0m \u001b[0;34m==\u001b[0m \u001b[0;34m\"c\"\u001b[0m\u001b[0;34m:\u001b[0m\u001b[0;34m\u001b[0m\u001b[0;34m\u001b[0m\u001b[0m\n\u001b[0;32m-> 1168\u001b[0;31m             \u001b[0mself\u001b[0m\u001b[0;34m.\u001b[0m\u001b[0m_engine\u001b[0m \u001b[0;34m=\u001b[0m \u001b[0mCParserWrapper\u001b[0m\u001b[0;34m(\u001b[0m\u001b[0mself\u001b[0m\u001b[0;34m.\u001b[0m\u001b[0mf\u001b[0m\u001b[0;34m,\u001b[0m \u001b[0;34m**\u001b[0m\u001b[0mself\u001b[0m\u001b[0;34m.\u001b[0m\u001b[0moptions\u001b[0m\u001b[0;34m)\u001b[0m\u001b[0;34m\u001b[0m\u001b[0;34m\u001b[0m\u001b[0m\n\u001b[0m\u001b[1;32m   1169\u001b[0m         \u001b[0;32melse\u001b[0m\u001b[0;34m:\u001b[0m\u001b[0;34m\u001b[0m\u001b[0;34m\u001b[0m\u001b[0m\n\u001b[1;32m   1170\u001b[0m             \u001b[0;32mif\u001b[0m \u001b[0mengine\u001b[0m \u001b[0;34m==\u001b[0m \u001b[0;34m\"python\"\u001b[0m\u001b[0;34m:\u001b[0m\u001b[0;34m\u001b[0m\u001b[0;34m\u001b[0m\u001b[0m\n",
      "\u001b[0;32m~/opt/anaconda3/envs/rna/lib/python3.8/site-packages/pandas/io/parsers.py\u001b[0m in \u001b[0;36m__init__\u001b[0;34m(self, src, **kwds)\u001b[0m\n\u001b[1;32m   1996\u001b[0m         \u001b[0mkwds\u001b[0m\u001b[0;34m[\u001b[0m\u001b[0;34m\"usecols\"\u001b[0m\u001b[0;34m]\u001b[0m \u001b[0;34m=\u001b[0m \u001b[0mself\u001b[0m\u001b[0;34m.\u001b[0m\u001b[0musecols\u001b[0m\u001b[0;34m\u001b[0m\u001b[0;34m\u001b[0m\u001b[0m\n\u001b[1;32m   1997\u001b[0m \u001b[0;34m\u001b[0m\u001b[0m\n\u001b[0;32m-> 1998\u001b[0;31m         \u001b[0mself\u001b[0m\u001b[0;34m.\u001b[0m\u001b[0m_reader\u001b[0m \u001b[0;34m=\u001b[0m \u001b[0mparsers\u001b[0m\u001b[0;34m.\u001b[0m\u001b[0mTextReader\u001b[0m\u001b[0;34m(\u001b[0m\u001b[0msrc\u001b[0m\u001b[0;34m,\u001b[0m \u001b[0;34m**\u001b[0m\u001b[0mkwds\u001b[0m\u001b[0;34m)\u001b[0m\u001b[0;34m\u001b[0m\u001b[0;34m\u001b[0m\u001b[0m\n\u001b[0m\u001b[1;32m   1999\u001b[0m         \u001b[0mself\u001b[0m\u001b[0;34m.\u001b[0m\u001b[0munnamed_cols\u001b[0m \u001b[0;34m=\u001b[0m \u001b[0mself\u001b[0m\u001b[0;34m.\u001b[0m\u001b[0m_reader\u001b[0m\u001b[0;34m.\u001b[0m\u001b[0munnamed_cols\u001b[0m\u001b[0;34m\u001b[0m\u001b[0;34m\u001b[0m\u001b[0m\n\u001b[1;32m   2000\u001b[0m \u001b[0;34m\u001b[0m\u001b[0m\n",
      "\u001b[0;32mpandas/_libs/parsers.pyx\u001b[0m in \u001b[0;36mpandas._libs.parsers.TextReader.__cinit__\u001b[0;34m()\u001b[0m\n",
      "\u001b[0;32mpandas/_libs/parsers.pyx\u001b[0m in \u001b[0;36mpandas._libs.parsers.TextReader._setup_parser_source\u001b[0;34m()\u001b[0m\n",
      "\u001b[0;31mFileNotFoundError\u001b[0m: [Errno 2] No such file or directory: '../data/train/avl_set/avila-tr.txt'"
     ]
    }
   ],
   "source": [
    "print('Start on reading raw data')\n",
    "avlang = pd.read_csv('../data/train/avl_set/avila-tr.txt', header=None)\n",
    "print('-')\n",
    "adult_raw = pd.read_csv('../data/train/adult/adult.data', header=None)\n",
    "print('-')\n",
    "house_raw = pd.read_csv('../data/train/house_set/household_power_consumption.txt',sep=';')\n",
    "print('-')\n",
    "nursey_raw = pd.read_csv('../data/train/nursey/nursery.data',header=None)\n",
    "print('-')\n",
    "data_set = [avlang,adult_raw,house_raw,nursey_raw]\n",
    "print('Finish reading 4 datasets ')\n",
    "print('')\n",
    "print('-')\n",
    "print('Checking Dataset Size of datasets')\n",
    "print(\" .......\")\n",
    "check_dataset(data_set)\n",
    "print(\" .......\")\n",
    "print('Finish checking dataset')\n",
    "print(\"\")\n",
    "print(\"\")\n",
    "print(\".....StartRandome Sampling......\")\n",
    "print('Start sampling avlang dataset')\n",
    "avlang.sample(n=5000, replace=False).to_csv('./data/avl.csv', index=False)\n",
    "print(' Finished')\n",
    "print('Start sampling adult dataset')\n",
    "adult_raw.sample(n=5000, replace=False).to_csv('./data/adult.csv', index=False)\n",
    "print(' Finished')\n",
    "print('Start sampling house_income dataset')\n",
    "house_raw.sample(n=5000, replace=False).to_csv('./data/income.csv', index=False)\n",
    "print(' Finished')\n",
    "print('Start sampling nursery dataset')\n",
    "nursey_raw.sample(n=5000, replace=False).to_csv('./data/nsr.csv', index=False)\n",
    "print(' Finished')\n",
    "print(\"......\")\n",
    "print('Finish randome sampling, waiting for check')\n",
    "print('Please continue to run.')\n",
    "\n",
    "\n",
    "\n",
    "\n",
    "\n",
    "\n",
    "\n",
    "\n"
   ]
  },
  {
   "cell_type": "code",
   "execution_count": 34,
   "metadata": {},
   "outputs": [
    {
     "output_type": "stream",
     "name": "stdout",
     "text": [
      "Start checking size of training dataset\n ......\nSuccessfully randomly choosing 5000 data samples from avl dataset\nSuccessfully randomly choosing 5000 data samples from ad dataset\nSuccessfully randomly choosing 5000 data samples from pwr dataset\nSuccessfully randomly choosing 5000 data samples from nsr dataset\n .....\nFinish checking training dataset\nSizes for All training samples dataset are : (5000, 11) (5000, 15) (5000, 9) (5000, 9)\n"
     ]
    }
   ],
   "source": [
    "print('Start checking size of training dataset')\n",
    "print(' ......')\n",
    "avl = pd.read_csv('./data/avl.csv')\n",
    "ad = pd.read_csv('./data/adult.csv')\n",
    "pwr = pd.read_csv('./data/income.csv')\n",
    "nsr = pd.read_csv('./data/nsr.csv')\n",
    "\n",
    "training = [avl, ad, pwr, nsr]\n",
    "check_sample(training)\n",
    "print(\" .....\")\n",
    "print('Finish checking training dataset')\n",
    "print('Sizes for All training samples dataset are :', avl.shape, ad.shape, pwr.shape, nsr.shape)"
   ]
  },
  {
   "source": [
    "## EDA"
   ],
   "cell_type": "markdown",
   "metadata": {}
  },
  {
   "source": [
    "### Data Cleaning"
   ],
   "cell_type": "markdown",
   "metadata": {}
  },
  {
   "cell_type": "code",
   "execution_count": 35,
   "metadata": {},
   "outputs": [
    {
     "output_type": "display_data",
     "data": {
      "text/plain": "   age     workclass  fnlwgt      education  education-num  \\\n0   40   Federal-gov  544792   Some-college             10   \n1   54       Private  171924        HS-grad              9   \n2   23       Private  133061        HS-grad              9   \n3   18       Private  353358   Some-college             10   \n4   19       Private  164395        HS-grad              9   \n\n        marital-status         occupation relationship    race      sex  \\\n0   Married-civ-spouse    Farming-fishing      Husband   White     Male   \n1   Married-civ-spouse   Transport-moving      Husband   White     Male   \n2   Married-civ-spouse              Sales      Husband   White     Male   \n3        Never-married      Other-service    Own-child   White     Male   \n4        Never-married       Adm-clerical    Own-child   White   Female   \n\n   capital-gain  capital-loss  hours-per-week  native-country  target  \n0             0             0              40   United-States   <=50K  \n1             0             0              70   United-States   <=50K  \n2             0             0              80   United-States   <=50K  \n3             0             0              16   United-States   <=50K  \n4             0             0              25   United-States   <=50K  ",
      "text/html": "<div>\n<style scoped>\n    .dataframe tbody tr th:only-of-type {\n        vertical-align: middle;\n    }\n\n    .dataframe tbody tr th {\n        vertical-align: top;\n    }\n\n    .dataframe thead th {\n        text-align: right;\n    }\n</style>\n<table border=\"1\" class=\"dataframe\">\n  <thead>\n    <tr style=\"text-align: right;\">\n      <th></th>\n      <th>age</th>\n      <th>workclass</th>\n      <th>fnlwgt</th>\n      <th>education</th>\n      <th>education-num</th>\n      <th>marital-status</th>\n      <th>occupation</th>\n      <th>relationship</th>\n      <th>race</th>\n      <th>sex</th>\n      <th>capital-gain</th>\n      <th>capital-loss</th>\n      <th>hours-per-week</th>\n      <th>native-country</th>\n      <th>target</th>\n    </tr>\n  </thead>\n  <tbody>\n    <tr>\n      <th>0</th>\n      <td>40</td>\n      <td>Federal-gov</td>\n      <td>544792</td>\n      <td>Some-college</td>\n      <td>10</td>\n      <td>Married-civ-spouse</td>\n      <td>Farming-fishing</td>\n      <td>Husband</td>\n      <td>White</td>\n      <td>Male</td>\n      <td>0</td>\n      <td>0</td>\n      <td>40</td>\n      <td>United-States</td>\n      <td>&lt;=50K</td>\n    </tr>\n    <tr>\n      <th>1</th>\n      <td>54</td>\n      <td>Private</td>\n      <td>171924</td>\n      <td>HS-grad</td>\n      <td>9</td>\n      <td>Married-civ-spouse</td>\n      <td>Transport-moving</td>\n      <td>Husband</td>\n      <td>White</td>\n      <td>Male</td>\n      <td>0</td>\n      <td>0</td>\n      <td>70</td>\n      <td>United-States</td>\n      <td>&lt;=50K</td>\n    </tr>\n    <tr>\n      <th>2</th>\n      <td>23</td>\n      <td>Private</td>\n      <td>133061</td>\n      <td>HS-grad</td>\n      <td>9</td>\n      <td>Married-civ-spouse</td>\n      <td>Sales</td>\n      <td>Husband</td>\n      <td>White</td>\n      <td>Male</td>\n      <td>0</td>\n      <td>0</td>\n      <td>80</td>\n      <td>United-States</td>\n      <td>&lt;=50K</td>\n    </tr>\n    <tr>\n      <th>3</th>\n      <td>18</td>\n      <td>Private</td>\n      <td>353358</td>\n      <td>Some-college</td>\n      <td>10</td>\n      <td>Never-married</td>\n      <td>Other-service</td>\n      <td>Own-child</td>\n      <td>White</td>\n      <td>Male</td>\n      <td>0</td>\n      <td>0</td>\n      <td>16</td>\n      <td>United-States</td>\n      <td>&lt;=50K</td>\n    </tr>\n    <tr>\n      <th>4</th>\n      <td>19</td>\n      <td>Private</td>\n      <td>164395</td>\n      <td>HS-grad</td>\n      <td>9</td>\n      <td>Never-married</td>\n      <td>Adm-clerical</td>\n      <td>Own-child</td>\n      <td>White</td>\n      <td>Female</td>\n      <td>0</td>\n      <td>0</td>\n      <td>25</td>\n      <td>United-States</td>\n      <td>&lt;=50K</td>\n    </tr>\n  </tbody>\n</table>\n</div>"
     },
     "metadata": {}
    },
    {
     "output_type": "display_data",
     "data": {
      "text/plain": "          0         1         2         3         4         5         6  \\\n0  0.229043 -0.016448  0.317424 -0.526838  0.261718 -0.058835  0.635431   \n1  0.006853 -0.181323  0.388552  0.301377 -0.095795  0.730137  0.371178   \n2  0.290762  0.077766  0.118265  0.275805  0.261718  0.107265  0.144676   \n3  0.031541 -0.040001  0.175168 -0.107256  0.261718  2.515706  0.748682   \n4  0.599358 -0.377602  0.242739 -0.151028  0.976743 -1.221530 -1.138838   \n\n          7         8         9 target  \n0 -0.561067 -0.185368 -0.268865      F  \n1  0.265990  0.219991  0.572511      A  \n2  0.217996 -0.341275  0.150750      F  \n3 -1.468097 -0.746634  1.891487      F  \n4  1.187639  1.560794 -0.404919      I  ",
      "text/html": "<div>\n<style scoped>\n    .dataframe tbody tr th:only-of-type {\n        vertical-align: middle;\n    }\n\n    .dataframe tbody tr th {\n        vertical-align: top;\n    }\n\n    .dataframe thead th {\n        text-align: right;\n    }\n</style>\n<table border=\"1\" class=\"dataframe\">\n  <thead>\n    <tr style=\"text-align: right;\">\n      <th></th>\n      <th>0</th>\n      <th>1</th>\n      <th>2</th>\n      <th>3</th>\n      <th>4</th>\n      <th>5</th>\n      <th>6</th>\n      <th>7</th>\n      <th>8</th>\n      <th>9</th>\n      <th>target</th>\n    </tr>\n  </thead>\n  <tbody>\n    <tr>\n      <th>0</th>\n      <td>0.229043</td>\n      <td>-0.016448</td>\n      <td>0.317424</td>\n      <td>-0.526838</td>\n      <td>0.261718</td>\n      <td>-0.058835</td>\n      <td>0.635431</td>\n      <td>-0.561067</td>\n      <td>-0.185368</td>\n      <td>-0.268865</td>\n      <td>F</td>\n    </tr>\n    <tr>\n      <th>1</th>\n      <td>0.006853</td>\n      <td>-0.181323</td>\n      <td>0.388552</td>\n      <td>0.301377</td>\n      <td>-0.095795</td>\n      <td>0.730137</td>\n      <td>0.371178</td>\n      <td>0.265990</td>\n      <td>0.219991</td>\n      <td>0.572511</td>\n      <td>A</td>\n    </tr>\n    <tr>\n      <th>2</th>\n      <td>0.290762</td>\n      <td>0.077766</td>\n      <td>0.118265</td>\n      <td>0.275805</td>\n      <td>0.261718</td>\n      <td>0.107265</td>\n      <td>0.144676</td>\n      <td>0.217996</td>\n      <td>-0.341275</td>\n      <td>0.150750</td>\n      <td>F</td>\n    </tr>\n    <tr>\n      <th>3</th>\n      <td>0.031541</td>\n      <td>-0.040001</td>\n      <td>0.175168</td>\n      <td>-0.107256</td>\n      <td>0.261718</td>\n      <td>2.515706</td>\n      <td>0.748682</td>\n      <td>-1.468097</td>\n      <td>-0.746634</td>\n      <td>1.891487</td>\n      <td>F</td>\n    </tr>\n    <tr>\n      <th>4</th>\n      <td>0.599358</td>\n      <td>-0.377602</td>\n      <td>0.242739</td>\n      <td>-0.151028</td>\n      <td>0.976743</td>\n      <td>-1.221530</td>\n      <td>-1.138838</td>\n      <td>1.187639</td>\n      <td>1.560794</td>\n      <td>-0.404919</td>\n      <td>I</td>\n    </tr>\n  </tbody>\n</table>\n</div>"
     },
     "metadata": {}
    },
    {
     "output_type": "display_data",
     "data": {
      "text/plain": "         Date      Time Global_active_power Global_reactive_power   target  \\\n0   25/1/2010  10:47:00               1.444                 0.088  242.600   \n1  14/11/2007  10:54:00               1.360                 0.000  237.830   \n2   21/1/2007  14:19:00               1.758                 0.406  243.950   \n3    9/1/2009  18:14:00               3.358                 0.000  239.730   \n4   17/6/2009  23:43:00               0.428                 0.076  242.830   \n\n  Global_intensity Sub_metering_1 Sub_metering_2  Sub_metering_3  \n0            5.800          0.000          0.000            19.0  \n1            5.600          0.000          0.000            18.0  \n2            7.400          0.000          0.000            18.0  \n3           14.000          0.000          0.000            17.0  \n4            1.800          0.000          0.000             1.0  ",
      "text/html": "<div>\n<style scoped>\n    .dataframe tbody tr th:only-of-type {\n        vertical-align: middle;\n    }\n\n    .dataframe tbody tr th {\n        vertical-align: top;\n    }\n\n    .dataframe thead th {\n        text-align: right;\n    }\n</style>\n<table border=\"1\" class=\"dataframe\">\n  <thead>\n    <tr style=\"text-align: right;\">\n      <th></th>\n      <th>Date</th>\n      <th>Time</th>\n      <th>Global_active_power</th>\n      <th>Global_reactive_power</th>\n      <th>target</th>\n      <th>Global_intensity</th>\n      <th>Sub_metering_1</th>\n      <th>Sub_metering_2</th>\n      <th>Sub_metering_3</th>\n    </tr>\n  </thead>\n  <tbody>\n    <tr>\n      <th>0</th>\n      <td>25/1/2010</td>\n      <td>10:47:00</td>\n      <td>1.444</td>\n      <td>0.088</td>\n      <td>242.600</td>\n      <td>5.800</td>\n      <td>0.000</td>\n      <td>0.000</td>\n      <td>19.0</td>\n    </tr>\n    <tr>\n      <th>1</th>\n      <td>14/11/2007</td>\n      <td>10:54:00</td>\n      <td>1.360</td>\n      <td>0.000</td>\n      <td>237.830</td>\n      <td>5.600</td>\n      <td>0.000</td>\n      <td>0.000</td>\n      <td>18.0</td>\n    </tr>\n    <tr>\n      <th>2</th>\n      <td>21/1/2007</td>\n      <td>14:19:00</td>\n      <td>1.758</td>\n      <td>0.406</td>\n      <td>243.950</td>\n      <td>7.400</td>\n      <td>0.000</td>\n      <td>0.000</td>\n      <td>18.0</td>\n    </tr>\n    <tr>\n      <th>3</th>\n      <td>9/1/2009</td>\n      <td>18:14:00</td>\n      <td>3.358</td>\n      <td>0.000</td>\n      <td>239.730</td>\n      <td>14.000</td>\n      <td>0.000</td>\n      <td>0.000</td>\n      <td>17.0</td>\n    </tr>\n    <tr>\n      <th>4</th>\n      <td>17/6/2009</td>\n      <td>23:43:00</td>\n      <td>0.428</td>\n      <td>0.076</td>\n      <td>242.830</td>\n      <td>1.800</td>\n      <td>0.000</td>\n      <td>0.000</td>\n      <td>1.0</td>\n    </tr>\n  </tbody>\n</table>\n</div>"
     },
     "metadata": {}
    },
    {
     "output_type": "display_data",
     "data": {
      "text/plain": "       parents     has_nurs        form children     housing     finance  \\\n0  pretentious     critical  incomplete     more   less_conv      inconv   \n1   great_pret     improper  incomplete        2    critical      inconv   \n2        usual       proper   completed        1   less_conv      inconv   \n3  pretentious     improper      foster        3   less_conv      inconv   \n4        usual  less_proper      foster        2  convenient  convenient   \n\n          social       health      target  \n0    problematic     priority  spec_prior  \n1  slightly_prob  recommended  spec_prior  \n2  slightly_prob    not_recom   not_recom  \n3        nonprob    not_recom   not_recom  \n4    problematic     priority    priority  ",
      "text/html": "<div>\n<style scoped>\n    .dataframe tbody tr th:only-of-type {\n        vertical-align: middle;\n    }\n\n    .dataframe tbody tr th {\n        vertical-align: top;\n    }\n\n    .dataframe thead th {\n        text-align: right;\n    }\n</style>\n<table border=\"1\" class=\"dataframe\">\n  <thead>\n    <tr style=\"text-align: right;\">\n      <th></th>\n      <th>parents</th>\n      <th>has_nurs</th>\n      <th>form</th>\n      <th>children</th>\n      <th>housing</th>\n      <th>finance</th>\n      <th>social</th>\n      <th>health</th>\n      <th>target</th>\n    </tr>\n  </thead>\n  <tbody>\n    <tr>\n      <th>0</th>\n      <td>pretentious</td>\n      <td>critical</td>\n      <td>incomplete</td>\n      <td>more</td>\n      <td>less_conv</td>\n      <td>inconv</td>\n      <td>problematic</td>\n      <td>priority</td>\n      <td>spec_prior</td>\n    </tr>\n    <tr>\n      <th>1</th>\n      <td>great_pret</td>\n      <td>improper</td>\n      <td>incomplete</td>\n      <td>2</td>\n      <td>critical</td>\n      <td>inconv</td>\n      <td>slightly_prob</td>\n      <td>recommended</td>\n      <td>spec_prior</td>\n    </tr>\n    <tr>\n      <th>2</th>\n      <td>usual</td>\n      <td>proper</td>\n      <td>completed</td>\n      <td>1</td>\n      <td>less_conv</td>\n      <td>inconv</td>\n      <td>slightly_prob</td>\n      <td>not_recom</td>\n      <td>not_recom</td>\n    </tr>\n    <tr>\n      <th>3</th>\n      <td>pretentious</td>\n      <td>improper</td>\n      <td>foster</td>\n      <td>3</td>\n      <td>less_conv</td>\n      <td>inconv</td>\n      <td>nonprob</td>\n      <td>not_recom</td>\n      <td>not_recom</td>\n    </tr>\n    <tr>\n      <th>4</th>\n      <td>usual</td>\n      <td>less_proper</td>\n      <td>foster</td>\n      <td>2</td>\n      <td>convenient</td>\n      <td>convenient</td>\n      <td>problematic</td>\n      <td>priority</td>\n      <td>priority</td>\n    </tr>\n  </tbody>\n</table>\n</div>"
     },
     "metadata": {}
    }
   ],
   "source": [
    "# Add missing variable names\n",
    "# specify target columns\n",
    "ad_var = ['age','workclass','fnlwgt','education',\n",
    "    'education-num','marital-status','occupation','relationship','race','sex','capital-gain','capital-loss','hours-per-week','native-country','target']\n",
    "ad.columns = ad_var\n",
    "nsr_var = ['parents', 'has_nurs', 'form', 'children', 'housing','finance', 'social', 'health','target']\n",
    "nsr.columns = nsr_var\n",
    "avl=avl.rename(columns={\"10\":'target'})\n",
    "pwr = pwr.rename(columns= {'Voltage': 'target'})\n",
    "display(ad.head())\n",
    "display(avl.head())\n",
    "display(pwr.head())\n",
    "display(nsr.head())"
   ]
  },
  {
   "source": [
    "#### nan value"
   ],
   "cell_type": "markdown",
   "metadata": {}
  },
  {
   "cell_type": "code",
   "execution_count": 37,
   "metadata": {},
   "outputs": [
    {
     "output_type": "stream",
     "name": "stdout",
     "text": [
      "(5000, 15)\n"
     ]
    }
   ],
   "source": [
    "ad = pd.read_csv('./data/adult.csv')\n",
    "print (ad.shape)"
   ]
  },
  {
   "cell_type": "code",
   "execution_count": 38,
   "metadata": {},
   "outputs": [
    {
     "output_type": "display_data",
     "data": {
      "text/plain": "    age          workclass  fnlwgt      education  education-num  \\\n0    40        Federal-gov  544792   Some-college             10   \n1    54            Private  171924        HS-grad              9   \n2    23            Private  133061        HS-grad              9   \n3    18            Private  353358   Some-college             10   \n4    19            Private  164395        HS-grad              9   \n5    37            Private  356824        HS-grad              9   \n6    24            Private  145964      Bachelors             13   \n7    42            Private  174112        Masters             14   \n8    48            Private  233511        HS-grad              9   \n9    40            Private  191544        HS-grad              9   \n10   38          Local-gov  236687   Some-college             10   \n11   49            Private  110243      Bachelors             13   \n12   49       Self-emp-inc  122066   Some-college             10   \n13   54                  ?  133963        HS-grad              9   \n14   24            Private  241367   Some-college             10   \n15   22            Private  184813   Some-college             10   \n16   47            Private  116279        HS-grad              9   \n17   41            Private  349221        HS-grad              9   \n18   40          State-gov  174283      Doctorate             16   \n19   57       Self-emp-inc  159028    Prof-school             15   \n20   61   Self-emp-not-inc  220342        7th-8th              4   \n21   42            Private  510072        HS-grad              9   \n22   56            Private  101436        HS-grad              9   \n23   19          State-gov  378418        HS-grad              9   \n24   40            Private  237671   Some-college             10   \n25   48       Self-emp-inc  181307        HS-grad              9   \n26   51            Private  177727     Assoc-acdm             12   \n27   19   Self-emp-not-inc  100999           11th              7   \n28   34            Private  244147      Bachelors             13   \n29   18            Private  252993           12th              8   \n\n         marital-status          occupation     relationship  \\\n0    Married-civ-spouse     Farming-fishing          Husband   \n1    Married-civ-spouse    Transport-moving          Husband   \n2    Married-civ-spouse               Sales          Husband   \n3         Never-married       Other-service        Own-child   \n4         Never-married        Adm-clerical        Own-child   \n5             Separated        Tech-support        Unmarried   \n6         Never-married     Exec-managerial        Unmarried   \n7         Never-married      Prof-specialty    Not-in-family   \n8    Married-civ-spouse    Transport-moving          Husband   \n9         Never-married       Other-service    Not-in-family   \n10        Never-married      Prof-specialty        Own-child   \n11   Married-civ-spouse     Exec-managerial          Husband   \n12             Divorced               Sales    Not-in-family   \n13              Widowed                   ?        Own-child   \n14        Never-married       Other-service    Not-in-family   \n15        Never-married        Adm-clerical        Own-child   \n16             Divorced        Craft-repair        Unmarried   \n17        Never-married        Craft-repair        Own-child   \n18   Married-civ-spouse      Prof-specialty          Husband   \n19   Married-civ-spouse      Prof-specialty          Husband   \n20   Married-civ-spouse    Transport-moving          Husband   \n21   Married-civ-spouse        Craft-repair          Husband   \n22             Divorced        Adm-clerical   Other-relative   \n23        Never-married        Tech-support        Own-child   \n24   Married-civ-spouse        Tech-support             Wife   \n25   Married-civ-spouse        Craft-repair          Husband   \n26   Married-civ-spouse        Craft-repair          Husband   \n27        Never-married        Adm-clerical        Own-child   \n28   Married-civ-spouse      Prof-specialty          Husband   \n29        Never-married   Handlers-cleaners        Own-child   \n\n                   race      sex  capital-gain  capital-loss  hours-per-week  \\\n0                 White     Male             0             0              40   \n1                 White     Male             0             0              70   \n2                 White     Male             0             0              80   \n3                 White     Male             0             0              16   \n4                 White   Female             0             0              25   \n5                 White   Female             0             0              40   \n6                 White     Male             0             0              40   \n7                 White   Female             0             0              40   \n8                 White     Male             0             0              50   \n9                 White   Female             0             0              35   \n10                White     Male             0             0              40   \n11                White     Male             0             0              45   \n12                White     Male             0             0              25   \n13                White   Female             0             0              40   \n14                White     Male             0             0              40   \n15                White     Male             0             0              40   \n16                White   Female             0             0              43   \n17                Black   Female             0             0              35   \n18                White     Male             0          1887              50   \n19                White     Male         99999             0              60   \n20                White     Male             0             0              30   \n21                White     Male             0             0              40   \n22   Amer-Indian-Eskimo   Female             0             0              35   \n23                White   Female             0             0              40   \n24                White   Female             0             0              40   \n25                White     Male             0             0              60   \n26                White     Male             0             0              45   \n27                White   Female             0             0              30   \n28                White     Male             0             0              40   \n29                White     Male             0             0              40   \n\n    native-country  target  \n0    United-States   <=50K  \n1    United-States   <=50K  \n2    United-States   <=50K  \n3    United-States   <=50K  \n4    United-States   <=50K  \n5    United-States   <=50K  \n6    United-States    >50K  \n7    United-States   <=50K  \n8    United-States    >50K  \n9    United-States   <=50K  \n10   United-States   <=50K  \n11   United-States    >50K  \n12   United-States   <=50K  \n13   United-States   <=50K  \n14   United-States   <=50K  \n15   United-States   <=50K  \n16   United-States   <=50K  \n17   United-States   <=50K  \n18   United-States    >50K  \n19   United-States    >50K  \n20   United-States   <=50K  \n21   United-States    >50K  \n22   United-States   <=50K  \n23   United-States   <=50K  \n24   United-States    >50K  \n25   United-States    >50K  \n26   United-States    >50K  \n27   United-States   <=50K  \n28               ?    >50K  \n29        Columbia   <=50K  ",
      "text/html": "<div>\n<style scoped>\n    .dataframe tbody tr th:only-of-type {\n        vertical-align: middle;\n    }\n\n    .dataframe tbody tr th {\n        vertical-align: top;\n    }\n\n    .dataframe thead th {\n        text-align: right;\n    }\n</style>\n<table border=\"1\" class=\"dataframe\">\n  <thead>\n    <tr style=\"text-align: right;\">\n      <th></th>\n      <th>age</th>\n      <th>workclass</th>\n      <th>fnlwgt</th>\n      <th>education</th>\n      <th>education-num</th>\n      <th>marital-status</th>\n      <th>occupation</th>\n      <th>relationship</th>\n      <th>race</th>\n      <th>sex</th>\n      <th>capital-gain</th>\n      <th>capital-loss</th>\n      <th>hours-per-week</th>\n      <th>native-country</th>\n      <th>target</th>\n    </tr>\n  </thead>\n  <tbody>\n    <tr>\n      <th>0</th>\n      <td>40</td>\n      <td>Federal-gov</td>\n      <td>544792</td>\n      <td>Some-college</td>\n      <td>10</td>\n      <td>Married-civ-spouse</td>\n      <td>Farming-fishing</td>\n      <td>Husband</td>\n      <td>White</td>\n      <td>Male</td>\n      <td>0</td>\n      <td>0</td>\n      <td>40</td>\n      <td>United-States</td>\n      <td>&lt;=50K</td>\n    </tr>\n    <tr>\n      <th>1</th>\n      <td>54</td>\n      <td>Private</td>\n      <td>171924</td>\n      <td>HS-grad</td>\n      <td>9</td>\n      <td>Married-civ-spouse</td>\n      <td>Transport-moving</td>\n      <td>Husband</td>\n      <td>White</td>\n      <td>Male</td>\n      <td>0</td>\n      <td>0</td>\n      <td>70</td>\n      <td>United-States</td>\n      <td>&lt;=50K</td>\n    </tr>\n    <tr>\n      <th>2</th>\n      <td>23</td>\n      <td>Private</td>\n      <td>133061</td>\n      <td>HS-grad</td>\n      <td>9</td>\n      <td>Married-civ-spouse</td>\n      <td>Sales</td>\n      <td>Husband</td>\n      <td>White</td>\n      <td>Male</td>\n      <td>0</td>\n      <td>0</td>\n      <td>80</td>\n      <td>United-States</td>\n      <td>&lt;=50K</td>\n    </tr>\n    <tr>\n      <th>3</th>\n      <td>18</td>\n      <td>Private</td>\n      <td>353358</td>\n      <td>Some-college</td>\n      <td>10</td>\n      <td>Never-married</td>\n      <td>Other-service</td>\n      <td>Own-child</td>\n      <td>White</td>\n      <td>Male</td>\n      <td>0</td>\n      <td>0</td>\n      <td>16</td>\n      <td>United-States</td>\n      <td>&lt;=50K</td>\n    </tr>\n    <tr>\n      <th>4</th>\n      <td>19</td>\n      <td>Private</td>\n      <td>164395</td>\n      <td>HS-grad</td>\n      <td>9</td>\n      <td>Never-married</td>\n      <td>Adm-clerical</td>\n      <td>Own-child</td>\n      <td>White</td>\n      <td>Female</td>\n      <td>0</td>\n      <td>0</td>\n      <td>25</td>\n      <td>United-States</td>\n      <td>&lt;=50K</td>\n    </tr>\n    <tr>\n      <th>5</th>\n      <td>37</td>\n      <td>Private</td>\n      <td>356824</td>\n      <td>HS-grad</td>\n      <td>9</td>\n      <td>Separated</td>\n      <td>Tech-support</td>\n      <td>Unmarried</td>\n      <td>White</td>\n      <td>Female</td>\n      <td>0</td>\n      <td>0</td>\n      <td>40</td>\n      <td>United-States</td>\n      <td>&lt;=50K</td>\n    </tr>\n    <tr>\n      <th>6</th>\n      <td>24</td>\n      <td>Private</td>\n      <td>145964</td>\n      <td>Bachelors</td>\n      <td>13</td>\n      <td>Never-married</td>\n      <td>Exec-managerial</td>\n      <td>Unmarried</td>\n      <td>White</td>\n      <td>Male</td>\n      <td>0</td>\n      <td>0</td>\n      <td>40</td>\n      <td>United-States</td>\n      <td>&gt;50K</td>\n    </tr>\n    <tr>\n      <th>7</th>\n      <td>42</td>\n      <td>Private</td>\n      <td>174112</td>\n      <td>Masters</td>\n      <td>14</td>\n      <td>Never-married</td>\n      <td>Prof-specialty</td>\n      <td>Not-in-family</td>\n      <td>White</td>\n      <td>Female</td>\n      <td>0</td>\n      <td>0</td>\n      <td>40</td>\n      <td>United-States</td>\n      <td>&lt;=50K</td>\n    </tr>\n    <tr>\n      <th>8</th>\n      <td>48</td>\n      <td>Private</td>\n      <td>233511</td>\n      <td>HS-grad</td>\n      <td>9</td>\n      <td>Married-civ-spouse</td>\n      <td>Transport-moving</td>\n      <td>Husband</td>\n      <td>White</td>\n      <td>Male</td>\n      <td>0</td>\n      <td>0</td>\n      <td>50</td>\n      <td>United-States</td>\n      <td>&gt;50K</td>\n    </tr>\n    <tr>\n      <th>9</th>\n      <td>40</td>\n      <td>Private</td>\n      <td>191544</td>\n      <td>HS-grad</td>\n      <td>9</td>\n      <td>Never-married</td>\n      <td>Other-service</td>\n      <td>Not-in-family</td>\n      <td>White</td>\n      <td>Female</td>\n      <td>0</td>\n      <td>0</td>\n      <td>35</td>\n      <td>United-States</td>\n      <td>&lt;=50K</td>\n    </tr>\n    <tr>\n      <th>10</th>\n      <td>38</td>\n      <td>Local-gov</td>\n      <td>236687</td>\n      <td>Some-college</td>\n      <td>10</td>\n      <td>Never-married</td>\n      <td>Prof-specialty</td>\n      <td>Own-child</td>\n      <td>White</td>\n      <td>Male</td>\n      <td>0</td>\n      <td>0</td>\n      <td>40</td>\n      <td>United-States</td>\n      <td>&lt;=50K</td>\n    </tr>\n    <tr>\n      <th>11</th>\n      <td>49</td>\n      <td>Private</td>\n      <td>110243</td>\n      <td>Bachelors</td>\n      <td>13</td>\n      <td>Married-civ-spouse</td>\n      <td>Exec-managerial</td>\n      <td>Husband</td>\n      <td>White</td>\n      <td>Male</td>\n      <td>0</td>\n      <td>0</td>\n      <td>45</td>\n      <td>United-States</td>\n      <td>&gt;50K</td>\n    </tr>\n    <tr>\n      <th>12</th>\n      <td>49</td>\n      <td>Self-emp-inc</td>\n      <td>122066</td>\n      <td>Some-college</td>\n      <td>10</td>\n      <td>Divorced</td>\n      <td>Sales</td>\n      <td>Not-in-family</td>\n      <td>White</td>\n      <td>Male</td>\n      <td>0</td>\n      <td>0</td>\n      <td>25</td>\n      <td>United-States</td>\n      <td>&lt;=50K</td>\n    </tr>\n    <tr>\n      <th>13</th>\n      <td>54</td>\n      <td>?</td>\n      <td>133963</td>\n      <td>HS-grad</td>\n      <td>9</td>\n      <td>Widowed</td>\n      <td>?</td>\n      <td>Own-child</td>\n      <td>White</td>\n      <td>Female</td>\n      <td>0</td>\n      <td>0</td>\n      <td>40</td>\n      <td>United-States</td>\n      <td>&lt;=50K</td>\n    </tr>\n    <tr>\n      <th>14</th>\n      <td>24</td>\n      <td>Private</td>\n      <td>241367</td>\n      <td>Some-college</td>\n      <td>10</td>\n      <td>Never-married</td>\n      <td>Other-service</td>\n      <td>Not-in-family</td>\n      <td>White</td>\n      <td>Male</td>\n      <td>0</td>\n      <td>0</td>\n      <td>40</td>\n      <td>United-States</td>\n      <td>&lt;=50K</td>\n    </tr>\n    <tr>\n      <th>15</th>\n      <td>22</td>\n      <td>Private</td>\n      <td>184813</td>\n      <td>Some-college</td>\n      <td>10</td>\n      <td>Never-married</td>\n      <td>Adm-clerical</td>\n      <td>Own-child</td>\n      <td>White</td>\n      <td>Male</td>\n      <td>0</td>\n      <td>0</td>\n      <td>40</td>\n      <td>United-States</td>\n      <td>&lt;=50K</td>\n    </tr>\n    <tr>\n      <th>16</th>\n      <td>47</td>\n      <td>Private</td>\n      <td>116279</td>\n      <td>HS-grad</td>\n      <td>9</td>\n      <td>Divorced</td>\n      <td>Craft-repair</td>\n      <td>Unmarried</td>\n      <td>White</td>\n      <td>Female</td>\n      <td>0</td>\n      <td>0</td>\n      <td>43</td>\n      <td>United-States</td>\n      <td>&lt;=50K</td>\n    </tr>\n    <tr>\n      <th>17</th>\n      <td>41</td>\n      <td>Private</td>\n      <td>349221</td>\n      <td>HS-grad</td>\n      <td>9</td>\n      <td>Never-married</td>\n      <td>Craft-repair</td>\n      <td>Own-child</td>\n      <td>Black</td>\n      <td>Female</td>\n      <td>0</td>\n      <td>0</td>\n      <td>35</td>\n      <td>United-States</td>\n      <td>&lt;=50K</td>\n    </tr>\n    <tr>\n      <th>18</th>\n      <td>40</td>\n      <td>State-gov</td>\n      <td>174283</td>\n      <td>Doctorate</td>\n      <td>16</td>\n      <td>Married-civ-spouse</td>\n      <td>Prof-specialty</td>\n      <td>Husband</td>\n      <td>White</td>\n      <td>Male</td>\n      <td>0</td>\n      <td>1887</td>\n      <td>50</td>\n      <td>United-States</td>\n      <td>&gt;50K</td>\n    </tr>\n    <tr>\n      <th>19</th>\n      <td>57</td>\n      <td>Self-emp-inc</td>\n      <td>159028</td>\n      <td>Prof-school</td>\n      <td>15</td>\n      <td>Married-civ-spouse</td>\n      <td>Prof-specialty</td>\n      <td>Husband</td>\n      <td>White</td>\n      <td>Male</td>\n      <td>99999</td>\n      <td>0</td>\n      <td>60</td>\n      <td>United-States</td>\n      <td>&gt;50K</td>\n    </tr>\n    <tr>\n      <th>20</th>\n      <td>61</td>\n      <td>Self-emp-not-inc</td>\n      <td>220342</td>\n      <td>7th-8th</td>\n      <td>4</td>\n      <td>Married-civ-spouse</td>\n      <td>Transport-moving</td>\n      <td>Husband</td>\n      <td>White</td>\n      <td>Male</td>\n      <td>0</td>\n      <td>0</td>\n      <td>30</td>\n      <td>United-States</td>\n      <td>&lt;=50K</td>\n    </tr>\n    <tr>\n      <th>21</th>\n      <td>42</td>\n      <td>Private</td>\n      <td>510072</td>\n      <td>HS-grad</td>\n      <td>9</td>\n      <td>Married-civ-spouse</td>\n      <td>Craft-repair</td>\n      <td>Husband</td>\n      <td>White</td>\n      <td>Male</td>\n      <td>0</td>\n      <td>0</td>\n      <td>40</td>\n      <td>United-States</td>\n      <td>&gt;50K</td>\n    </tr>\n    <tr>\n      <th>22</th>\n      <td>56</td>\n      <td>Private</td>\n      <td>101436</td>\n      <td>HS-grad</td>\n      <td>9</td>\n      <td>Divorced</td>\n      <td>Adm-clerical</td>\n      <td>Other-relative</td>\n      <td>Amer-Indian-Eskimo</td>\n      <td>Female</td>\n      <td>0</td>\n      <td>0</td>\n      <td>35</td>\n      <td>United-States</td>\n      <td>&lt;=50K</td>\n    </tr>\n    <tr>\n      <th>23</th>\n      <td>19</td>\n      <td>State-gov</td>\n      <td>378418</td>\n      <td>HS-grad</td>\n      <td>9</td>\n      <td>Never-married</td>\n      <td>Tech-support</td>\n      <td>Own-child</td>\n      <td>White</td>\n      <td>Female</td>\n      <td>0</td>\n      <td>0</td>\n      <td>40</td>\n      <td>United-States</td>\n      <td>&lt;=50K</td>\n    </tr>\n    <tr>\n      <th>24</th>\n      <td>40</td>\n      <td>Private</td>\n      <td>237671</td>\n      <td>Some-college</td>\n      <td>10</td>\n      <td>Married-civ-spouse</td>\n      <td>Tech-support</td>\n      <td>Wife</td>\n      <td>White</td>\n      <td>Female</td>\n      <td>0</td>\n      <td>0</td>\n      <td>40</td>\n      <td>United-States</td>\n      <td>&gt;50K</td>\n    </tr>\n    <tr>\n      <th>25</th>\n      <td>48</td>\n      <td>Self-emp-inc</td>\n      <td>181307</td>\n      <td>HS-grad</td>\n      <td>9</td>\n      <td>Married-civ-spouse</td>\n      <td>Craft-repair</td>\n      <td>Husband</td>\n      <td>White</td>\n      <td>Male</td>\n      <td>0</td>\n      <td>0</td>\n      <td>60</td>\n      <td>United-States</td>\n      <td>&gt;50K</td>\n    </tr>\n    <tr>\n      <th>26</th>\n      <td>51</td>\n      <td>Private</td>\n      <td>177727</td>\n      <td>Assoc-acdm</td>\n      <td>12</td>\n      <td>Married-civ-spouse</td>\n      <td>Craft-repair</td>\n      <td>Husband</td>\n      <td>White</td>\n      <td>Male</td>\n      <td>0</td>\n      <td>0</td>\n      <td>45</td>\n      <td>United-States</td>\n      <td>&gt;50K</td>\n    </tr>\n    <tr>\n      <th>27</th>\n      <td>19</td>\n      <td>Self-emp-not-inc</td>\n      <td>100999</td>\n      <td>11th</td>\n      <td>7</td>\n      <td>Never-married</td>\n      <td>Adm-clerical</td>\n      <td>Own-child</td>\n      <td>White</td>\n      <td>Female</td>\n      <td>0</td>\n      <td>0</td>\n      <td>30</td>\n      <td>United-States</td>\n      <td>&lt;=50K</td>\n    </tr>\n    <tr>\n      <th>28</th>\n      <td>34</td>\n      <td>Private</td>\n      <td>244147</td>\n      <td>Bachelors</td>\n      <td>13</td>\n      <td>Married-civ-spouse</td>\n      <td>Prof-specialty</td>\n      <td>Husband</td>\n      <td>White</td>\n      <td>Male</td>\n      <td>0</td>\n      <td>0</td>\n      <td>40</td>\n      <td>?</td>\n      <td>&gt;50K</td>\n    </tr>\n    <tr>\n      <th>29</th>\n      <td>18</td>\n      <td>Private</td>\n      <td>252993</td>\n      <td>12th</td>\n      <td>8</td>\n      <td>Never-married</td>\n      <td>Handlers-cleaners</td>\n      <td>Own-child</td>\n      <td>White</td>\n      <td>Male</td>\n      <td>0</td>\n      <td>0</td>\n      <td>40</td>\n      <td>Columbia</td>\n      <td>&lt;=50K</td>\n    </tr>\n  </tbody>\n</table>\n</div>"
     },
     "metadata": {}
    }
   ],
   "source": [
    "ad_var = ['age','workclass','fnlwgt','education',\n",
    "    'education-num','marital-status','occupation','relationship','race','sex','capital-gain','capital-loss','hours-per-week','native-country','target']\n",
    "ad.columns = ad_var\n",
    "display(ad.head(30))\n"
   ]
  },
  {
   "cell_type": "code",
   "execution_count": 40,
   "metadata": {},
   "outputs": [
    {
     "output_type": "execute_result",
     "data": {
      "text/plain": [
       "\"\\n While we know from dataset that education and education-num are corresponded to each other,\\n1. We could assign category and order, based on its value, to education column and drop education-num column\\n2. 'fnlwgt' column could also be dropped since it is the final weight-- the number of people the census believes. Therefore, such column has no contibution to predition.\\n3. sign 0 and 1 to target, which will make the work easier.\\n\""
      ]
     },
     "metadata": {},
     "execution_count": 40
    }
   ],
   "source": [
    "'''\n",
    " While we know from dataset that education and education-num are corresponded to each other,\n",
    "1. We could assign category and order, based on its value, to education column and drop education-num column\n",
    "2. 'fnlwgt' column could also be dropped since it is the final weight-- the number of people the census believes. Therefore, such column has no contibution to predition.\n",
    "3. sign 0 and 1 to target, which will make the work easier.\n",
    "'''\n",
    "#ad = ad.drop(['education-num','fnlwgt'])"
   ]
  },
  {
   "cell_type": "code",
   "execution_count": 41,
   "metadata": {},
   "outputs": [
    {
     "output_type": "stream",
     "name": "stdout",
     "text": [
      "age [40 54 23 18 19 37 24 42 48 38 49 22 47 41 57 61 56 51 34 59 31 30 68 53\n 33 35 44 50 26 60 32 20 27 45 46 55 36 25 52 62 58 63 29 17 43 70 39 28\n 69 64 21 73 75 66 67 65 72 76 90 79 71 88 77 81 80 74 84 78 82]  \n\nworkclass [' Federal-gov' ' Private' ' Local-gov' ' Self-emp-inc' ' ?' ' State-gov'\n ' Self-emp-not-inc' ' Never-worked' ' Without-pay']  \n\nfnlwgt [544792 171924 133061 ...  33729 229803 312206]  \n\neducation [' Some-college' ' HS-grad' ' Bachelors' ' Masters' ' Doctorate'\n ' Prof-school' ' 7th-8th' ' Assoc-acdm' ' 11th' ' 12th' ' Assoc-voc'\n ' 10th' ' 9th' ' 5th-6th' ' 1st-4th' ' Preschool']  \n\neducation-num [10  9 13 14 16 15  4 12  7  8 11  6  5  3  2  1]  \n\nmarital-status [' Married-civ-spouse' ' Never-married' ' Separated' ' Divorced'\n ' Widowed' ' Married-spouse-absent' ' Married-AF-spouse']  \n\noccupation [' Farming-fishing' ' Transport-moving' ' Sales' ' Other-service'\n ' Adm-clerical' ' Tech-support' ' Exec-managerial' ' Prof-specialty' ' ?'\n ' Craft-repair' ' Handlers-cleaners' ' Machine-op-inspct'\n ' Protective-serv' ' Priv-house-serv' ' Armed-Forces']  \n\nrelationship [' Husband' ' Own-child' ' Unmarried' ' Not-in-family' ' Other-relative'\n ' Wife']  \n\nrace [' White' ' Black' ' Amer-Indian-Eskimo' ' Asian-Pac-Islander' ' Other']  \n\nsex [' Male' ' Female']  \n\ncapital-gain [    0 99999 15024  2580  3103  4787  5178  2009  4650  7688  4064  3411\n  4101  2653  4386  6497  5013  7298  1797 10520  3418  3325  8614  1506\n  2597 27828 14344  1848  2346   594  3674  2354  4865  2407  6849  2964\n  3137  3908  2977  2829 13550  3942  1151  2635   114 14084 10605  3781\n  9386  2885  5556  1055  2329  9562  5455  1424  2174 20051  7443  7430\n  2414  6418  2907  3887  4416  2961 15831 15020 34095  2463  6097   991\n  4508  2062  2050  3464  7896 41310  2936  7978  1409  4687]  \n\ncapital-loss [   0 1887 1902 1980 1848 1672 1602 2002 1977 1740 1617 2377 1408 2559\n 1974 2258 2174 1719  625 1504 2201 1579 1485 2179 3683 1092 1628 2339\n 4356 2754 2231 2246 1669 2042 2415 1564 1590  880 1876 1741 1258 1816\n 1762  323 2824 2001 2205  653 1573 2392 2051 2057 2129 2603 1594  974\n 1825 1721 2444 3004 1651]  \n\nhours-per-week [40 70 80 16 25 50 35 45 43 60 30 99 17 46 20 38 55 32 56 39 21 37 52 24\n 48 44 49 36 15 10  7 72  6 22 58 13 42 19 84 28 23 12  4 41  8 18 33 54\n 64  2 11 65 91 75 47 67 53  9 63 81 62 90 77 26  5  1 27 76 14 85  3 29\n 95 78 34 73 98 57 88 51 61]  \n\nnative-country [' United-States' ' ?' ' Columbia' ' Germany' ' Puerto-Rico' ' Mexico'\n ' Vietnam' ' Dominican-Republic' ' Canada' ' India' ' England' ' South'\n ' Guatemala' ' Haiti' ' China' ' Iran' ' Japan' ' Philippines'\n ' Nicaragua' ' Scotland' ' Cuba' ' Taiwan' ' France' ' Poland' ' Italy'\n ' El-Salvador' ' Laos' ' Ireland' ' Peru' ' Thailand' ' Greece'\n ' Jamaica' ' Hong' ' Cambodia' ' Yugoslavia' ' Portugal'\n ' Outlying-US(Guam-USVI-etc)' ' Honduras' ' Trinadad&Tobago' ' Ecuador']  \n\ntarget [' <=50K' ' >50K']  \n\n<class 'pandas.core.frame.DataFrame'>\nRangeIndex: 5000 entries, 0 to 4999\nData columns (total 15 columns):\n #   Column          Non-Null Count  Dtype  \n---  ------          --------------  -----  \n 0   age             5000 non-null   float64\n 1   workclass       4703 non-null   object \n 2   fnlwgt          5000 non-null   float64\n 3   education       5000 non-null   object \n 4   education-num   5000 non-null   float64\n 5   marital-status  5000 non-null   object \n 6   occupation      4701 non-null   object \n 7   relationship    5000 non-null   object \n 8   race            5000 non-null   object \n 9   sex             5000 non-null   object \n 10  capital-gain    401 non-null    float64\n 11  capital-loss    227 non-null    float64\n 12  hours-per-week  5000 non-null   float64\n 13  native-country  4901 non-null   object \n 14  target          5000 non-null   object \ndtypes: float64(6), object(9)\nmemory usage: 586.1+ KB\n"
     ]
    }
   ],
   "source": [
    "for col in ad:\n",
    "    print(col,ad[col].unique(), \" \\n\")\n",
    "# find out non-meaning cell and replace with nan\n",
    "# find our extreme numbers such as 0 and 9999 in int/float series and replace them with nan\n",
    "# here we find \" ?\" in ['occupation', 'workclass', 'native-country']\n",
    "# and extreme numbers 0 and 99999 in ['capital-loss','capital-gain']\n",
    "# In addition , in order to aviod mess, we use copy of dataframe instead operating directly on it.\n",
    "copy=ad.copy()\n",
    "copy = copy.replace({' ?': np.nan, 0: np.nan, 99999: np.nan, })\n",
    "copy.info()\n"
   ]
  },
  {
   "cell_type": "code",
   "execution_count": 42,
   "metadata": {},
   "outputs": [
    {
     "output_type": "execute_result",
     "data": {
      "text/plain": [
       "<BarContainer object of 16 artists>"
      ]
     },
     "metadata": {},
     "execution_count": 42
    },
    {
     "output_type": "display_data",
     "data": {
      "text/plain": "<Figure size 1440x1080 with 1 Axes>",
      "image/svg+xml": "<?xml version=\"1.0\" encoding=\"utf-8\" standalone=\"no\"?>\n<!DOCTYPE svg PUBLIC \"-//W3C//DTD SVG 1.1//EN\"\n  \"http://www.w3.org/Graphics/SVG/1.1/DTD/svg11.dtd\">\n<!-- Created with matplotlib (https://matplotlib.org/) -->\n<svg height=\"846.478125pt\" version=\"1.1\" viewBox=\"0 0 1162.85 846.478125\" width=\"1162.85pt\" xmlns=\"http://www.w3.org/2000/svg\" xmlns:xlink=\"http://www.w3.org/1999/xlink\">\n <metadata>\n  <rdf:RDF xmlns:cc=\"http://creativecommons.org/ns#\" xmlns:dc=\"http://purl.org/dc/elements/1.1/\" xmlns:rdf=\"http://www.w3.org/1999/02/22-rdf-syntax-ns#\">\n   <cc:Work>\n    <dc:type rdf:resource=\"http://purl.org/dc/dcmitype/StillImage\"/>\n    <dc:date>2020-12-18T14:13:02.424613</dc:date>\n    <dc:format>image/svg+xml</dc:format>\n    <dc:creator>\n     <cc:Agent>\n      <dc:title>Matplotlib v3.3.3, https://matplotlib.org/</dc:title>\n     </cc:Agent>\n    </dc:creator>\n   </cc:Work>\n  </rdf:RDF>\n </metadata>\n <defs>\n  <style type=\"text/css\">*{stroke-linecap:butt;stroke-linejoin:round;}</style>\n </defs>\n <g id=\"figure_1\">\n  <g id=\"patch_1\">\n   <path d=\"M 0 846.478125 \nL 1162.85 846.478125 \nL 1162.85 -0 \nL 0 -0 \nz\n\" style=\"fill:none;\"/>\n  </g>\n  <g id=\"axes_1\">\n   <g id=\"patch_2\">\n    <path d=\"M 39.65 822.6 \nL 1155.65 822.6 \nL 1155.65 7.2 \nL 39.65 7.2 \nz\n\" style=\"fill:#ffffff;\"/>\n   </g>\n   <g id=\"patch_3\">\n    <path clip-path=\"url(#p1cff56495b)\" d=\"M 90.377273 822.6 \nL 141.746663 822.6 \nL 141.746663 46.028571 \nL 90.377273 46.028571 \nz\n\" style=\"fill:#ff0000;\"/>\n   </g>\n   <g id=\"patch_4\">\n    <path clip-path=\"url(#p1cff56495b)\" d=\"M 154.58901 822.6 \nL 205.9584 822.6 \nL 205.9584 310.006989 \nL 154.58901 310.006989 \nz\n\" style=\"fill:#ff0000;\"/>\n   </g>\n   <g id=\"patch_5\">\n    <path clip-path=\"url(#p1cff56495b)\" d=\"M 218.800748 822.6 \nL 270.170138 822.6 \nL 270.170138 452.937102 \nL 218.800748 452.937102 \nz\n\" style=\"fill:#ff0000;\"/>\n   </g>\n   <g id=\"patch_6\">\n    <path clip-path=\"url(#p1cff56495b)\" d=\"M 283.012486 822.6 \nL 334.381876 822.6 \nL 334.381876 694.102569 \nL 283.012486 694.102569 \nz\n\" style=\"fill:#ff0000;\"/>\n   </g>\n   <g id=\"patch_7\">\n    <path clip-path=\"url(#p1cff56495b)\" d=\"M 347.224223 822.6 \nL 398.593613 822.6 \nL 398.593613 727.158068 \nL 347.224223 727.158068 \nz\n\" style=\"fill:#ff0000;\"/>\n   </g>\n   <g id=\"patch_8\">\n    <path clip-path=\"url(#p1cff56495b)\" d=\"M 411.435961 822.6 \nL 462.805351 822.6 \nL 462.805351 742.987461 \nL 411.435961 742.987461 \nz\n\" style=\"fill:#ff0000;\"/>\n   </g>\n   <g id=\"patch_9\">\n    <path clip-path=\"url(#p1cff56495b)\" d=\"M 475.647699 822.6 \nL 527.017089 822.6 \nL 527.017089 746.246454 \nL 475.647699 746.246454 \nz\n\" style=\"fill:#ff0000;\"/>\n   </g>\n   <g id=\"patch_10\">\n    <path clip-path=\"url(#p1cff56495b)\" d=\"M 539.859436 822.6 \nL 591.228826 822.6 \nL 591.228826 758.351285 \nL 539.859436 758.351285 \nz\n\" style=\"fill:#ff0000;\"/>\n   </g>\n   <g id=\"patch_11\">\n    <path clip-path=\"url(#p1cff56495b)\" d=\"M 604.071174 822.6 \nL 655.440564 822.6 \nL 655.440564 774.646249 \nL 604.071174 774.646249 \nz\n\" style=\"fill:#ff0000;\"/>\n   </g>\n   <g id=\"patch_12\">\n    <path clip-path=\"url(#p1cff56495b)\" d=\"M 668.282911 822.6 \nL 719.652301 822.6 \nL 719.652301 782.095375 \nL 668.282911 782.095375 \nz\n\" style=\"fill:#ff0000;\"/>\n   </g>\n   <g id=\"patch_13\">\n    <path clip-path=\"url(#p1cff56495b)\" d=\"M 732.494649 822.6 \nL 783.864039 822.6 \nL 783.864039 787.68222 \nL 732.494649 787.68222 \nz\n\" style=\"fill:#ff0000;\"/>\n   </g>\n   <g id=\"patch_14\">\n    <path clip-path=\"url(#p1cff56495b)\" d=\"M 796.706387 822.6 \nL 848.075777 822.6 \nL 848.075777 788.14779 \nL 796.706387 788.14779 \nz\n\" style=\"fill:#ff0000;\"/>\n   </g>\n   <g id=\"patch_15\">\n    <path clip-path=\"url(#p1cff56495b)\" d=\"M 860.918124 822.6 \nL 912.287514 822.6 \nL 912.287514 791.406783 \nL 860.918124 791.406783 \nz\n\" style=\"fill:#ff0000;\"/>\n   </g>\n   <g id=\"patch_16\">\n    <path clip-path=\"url(#p1cff56495b)\" d=\"M 925.129862 822.6 \nL 976.499252 822.6 \nL 976.499252 802.114902 \nL 925.129862 802.114902 \nz\n\" style=\"fill:#ff0000;\"/>\n   </g>\n   <g id=\"patch_17\">\n    <path clip-path=\"url(#p1cff56495b)\" d=\"M 989.3416 822.6 \nL 1040.71099 822.6 \nL 1040.71099 810.96074 \nL 989.3416 810.96074 \nz\n\" style=\"fill:#ff0000;\"/>\n   </g>\n   <g id=\"patch_18\">\n    <path clip-path=\"url(#p1cff56495b)\" d=\"M 1053.553337 822.6 \nL 1104.922727 822.6 \nL 1104.922727 818.875437 \nL 1053.553337 818.875437 \nz\n\" style=\"fill:#ff0000;\"/>\n   </g>\n   <g id=\"patch_19\">\n    <path clip-path=\"url(#p1cff56495b)\" d=\"M 90.377273 822.6 \nL 141.746663 822.6 \nL 141.746663 46.028571 \nL 90.377273 46.028571 \nz\n\" style=\"fill:#0000ff;\"/>\n   </g>\n   <g id=\"patch_20\">\n    <path clip-path=\"url(#p1cff56495b)\" d=\"M 154.58901 822.6 \nL 205.9584 822.6 \nL 205.9584 310.006989 \nL 154.58901 310.006989 \nz\n\" style=\"fill:#0000ff;\"/>\n   </g>\n   <g id=\"patch_21\">\n    <path clip-path=\"url(#p1cff56495b)\" d=\"M 218.800748 822.6 \nL 270.170138 822.6 \nL 270.170138 452.937102 \nL 218.800748 452.937102 \nz\n\" style=\"fill:#0000ff;\"/>\n   </g>\n   <g id=\"patch_22\">\n    <path clip-path=\"url(#p1cff56495b)\" d=\"M 283.012486 822.6 \nL 334.381876 822.6 \nL 334.381876 694.102569 \nL 283.012486 694.102569 \nz\n\" style=\"fill:#0000ff;\"/>\n   </g>\n   <g id=\"patch_23\">\n    <path clip-path=\"url(#p1cff56495b)\" d=\"M 347.224223 822.6 \nL 398.593613 822.6 \nL 398.593613 727.158068 \nL 347.224223 727.158068 \nz\n\" style=\"fill:#0000ff;\"/>\n   </g>\n   <g id=\"patch_24\">\n    <path clip-path=\"url(#p1cff56495b)\" d=\"M 411.435961 822.6 \nL 462.805351 822.6 \nL 462.805351 742.987461 \nL 411.435961 742.987461 \nz\n\" style=\"fill:#0000ff;\"/>\n   </g>\n   <g id=\"patch_25\">\n    <path clip-path=\"url(#p1cff56495b)\" d=\"M 475.647699 822.6 \nL 527.017089 822.6 \nL 527.017089 746.246454 \nL 475.647699 746.246454 \nz\n\" style=\"fill:#0000ff;\"/>\n   </g>\n   <g id=\"patch_26\">\n    <path clip-path=\"url(#p1cff56495b)\" d=\"M 539.859436 822.6 \nL 591.228826 822.6 \nL 591.228826 758.351285 \nL 539.859436 758.351285 \nz\n\" style=\"fill:#0000ff;\"/>\n   </g>\n   <g id=\"patch_27\">\n    <path clip-path=\"url(#p1cff56495b)\" d=\"M 604.071174 822.6 \nL 655.440564 822.6 \nL 655.440564 774.646249 \nL 604.071174 774.646249 \nz\n\" style=\"fill:#0000ff;\"/>\n   </g>\n   <g id=\"patch_28\">\n    <path clip-path=\"url(#p1cff56495b)\" d=\"M 668.282911 822.6 \nL 719.652301 822.6 \nL 719.652301 782.095375 \nL 668.282911 782.095375 \nz\n\" style=\"fill:#0000ff;\"/>\n   </g>\n   <g id=\"patch_29\">\n    <path clip-path=\"url(#p1cff56495b)\" d=\"M 732.494649 822.6 \nL 783.864039 822.6 \nL 783.864039 787.68222 \nL 732.494649 787.68222 \nz\n\" style=\"fill:#0000ff;\"/>\n   </g>\n   <g id=\"patch_30\">\n    <path clip-path=\"url(#p1cff56495b)\" d=\"M 796.706387 822.6 \nL 848.075777 822.6 \nL 848.075777 788.14779 \nL 796.706387 788.14779 \nz\n\" style=\"fill:#0000ff;\"/>\n   </g>\n   <g id=\"patch_31\">\n    <path clip-path=\"url(#p1cff56495b)\" d=\"M 860.918124 822.6 \nL 912.287514 822.6 \nL 912.287514 791.406783 \nL 860.918124 791.406783 \nz\n\" style=\"fill:#0000ff;\"/>\n   </g>\n   <g id=\"patch_32\">\n    <path clip-path=\"url(#p1cff56495b)\" d=\"M 925.129862 822.6 \nL 976.499252 822.6 \nL 976.499252 802.114902 \nL 925.129862 802.114902 \nz\n\" style=\"fill:#0000ff;\"/>\n   </g>\n   <g id=\"patch_33\">\n    <path clip-path=\"url(#p1cff56495b)\" d=\"M 989.3416 822.6 \nL 1040.71099 822.6 \nL 1040.71099 810.96074 \nL 989.3416 810.96074 \nz\n\" style=\"fill:#0000ff;\"/>\n   </g>\n   <g id=\"patch_34\">\n    <path clip-path=\"url(#p1cff56495b)\" d=\"M 1053.553337 822.6 \nL 1104.922727 822.6 \nL 1104.922727 818.875437 \nL 1053.553337 818.875437 \nz\n\" style=\"fill:#0000ff;\"/>\n   </g>\n   <g id=\"matplotlib.axis_1\">\n    <g id=\"xtick_1\">\n     <g id=\"line2d_1\">\n      <defs>\n       <path d=\"M 0 0 \nL 0 3.5 \n\" id=\"mb98ad52177\" style=\"stroke:#000000;stroke-width:0.8;\"/>\n      </defs>\n      <g>\n       <use style=\"stroke:#000000;stroke-width:0.8;\" x=\"116.061968\" xlink:href=\"#mb98ad52177\" y=\"822.6\"/>\n      </g>\n     </g>\n     <g id=\"text_1\">\n      <!--  HS-grad -->\n      <g transform=\"translate(94.266655 837.198437)scale(0.1 -0.1)\">\n       <defs>\n        <path id=\"DejaVuSans-32\"/>\n        <path d=\"M 9.8125 72.90625 \nL 19.671875 72.90625 \nL 19.671875 43.015625 \nL 55.515625 43.015625 \nL 55.515625 72.90625 \nL 65.375 72.90625 \nL 65.375 0 \nL 55.515625 0 \nL 55.515625 34.71875 \nL 19.671875 34.71875 \nL 19.671875 0 \nL 9.8125 0 \nz\n\" id=\"DejaVuSans-72\"/>\n        <path d=\"M 53.515625 70.515625 \nL 53.515625 60.890625 \nQ 47.90625 63.578125 42.921875 64.890625 \nQ 37.9375 66.21875 33.296875 66.21875 \nQ 25.25 66.21875 20.875 63.09375 \nQ 16.5 59.96875 16.5 54.203125 \nQ 16.5 49.359375 19.40625 46.890625 \nQ 22.3125 44.4375 30.421875 42.921875 \nL 36.375 41.703125 \nQ 47.40625 39.59375 52.65625 34.296875 \nQ 57.90625 29 57.90625 20.125 \nQ 57.90625 9.515625 50.796875 4.046875 \nQ 43.703125 -1.421875 29.984375 -1.421875 \nQ 24.8125 -1.421875 18.96875 -0.25 \nQ 13.140625 0.921875 6.890625 3.21875 \nL 6.890625 13.375 \nQ 12.890625 10.015625 18.65625 8.296875 \nQ 24.421875 6.59375 29.984375 6.59375 \nQ 38.421875 6.59375 43.015625 9.90625 \nQ 47.609375 13.234375 47.609375 19.390625 \nQ 47.609375 24.75 44.3125 27.78125 \nQ 41.015625 30.8125 33.5 32.328125 \nL 27.484375 33.5 \nQ 16.453125 35.6875 11.515625 40.375 \nQ 6.59375 45.0625 6.59375 53.421875 \nQ 6.59375 63.09375 13.40625 68.65625 \nQ 20.21875 74.21875 32.171875 74.21875 \nQ 37.3125 74.21875 42.625 73.28125 \nQ 47.953125 72.359375 53.515625 70.515625 \nz\n\" id=\"DejaVuSans-83\"/>\n        <path d=\"M 4.890625 31.390625 \nL 31.203125 31.390625 \nL 31.203125 23.390625 \nL 4.890625 23.390625 \nz\n\" id=\"DejaVuSans-45\"/>\n        <path d=\"M 45.40625 27.984375 \nQ 45.40625 37.75 41.375 43.109375 \nQ 37.359375 48.484375 30.078125 48.484375 \nQ 22.859375 48.484375 18.828125 43.109375 \nQ 14.796875 37.75 14.796875 27.984375 \nQ 14.796875 18.265625 18.828125 12.890625 \nQ 22.859375 7.515625 30.078125 7.515625 \nQ 37.359375 7.515625 41.375 12.890625 \nQ 45.40625 18.265625 45.40625 27.984375 \nz\nM 54.390625 6.78125 \nQ 54.390625 -7.171875 48.1875 -13.984375 \nQ 42 -20.796875 29.203125 -20.796875 \nQ 24.46875 -20.796875 20.265625 -20.09375 \nQ 16.0625 -19.390625 12.109375 -17.921875 \nL 12.109375 -9.1875 \nQ 16.0625 -11.328125 19.921875 -12.34375 \nQ 23.78125 -13.375 27.78125 -13.375 \nQ 36.625 -13.375 41.015625 -8.765625 \nQ 45.40625 -4.15625 45.40625 5.171875 \nL 45.40625 9.625 \nQ 42.625 4.78125 38.28125 2.390625 \nQ 33.9375 0 27.875 0 \nQ 17.828125 0 11.671875 7.65625 \nQ 5.515625 15.328125 5.515625 27.984375 \nQ 5.515625 40.671875 11.671875 48.328125 \nQ 17.828125 56 27.875 56 \nQ 33.9375 56 38.28125 53.609375 \nQ 42.625 51.21875 45.40625 46.390625 \nL 45.40625 54.6875 \nL 54.390625 54.6875 \nz\n\" id=\"DejaVuSans-103\"/>\n        <path d=\"M 41.109375 46.296875 \nQ 39.59375 47.171875 37.8125 47.578125 \nQ 36.03125 48 33.890625 48 \nQ 26.265625 48 22.1875 43.046875 \nQ 18.109375 38.09375 18.109375 28.8125 \nL 18.109375 0 \nL 9.078125 0 \nL 9.078125 54.6875 \nL 18.109375 54.6875 \nL 18.109375 46.1875 \nQ 20.953125 51.171875 25.484375 53.578125 \nQ 30.03125 56 36.53125 56 \nQ 37.453125 56 38.578125 55.875 \nQ 39.703125 55.765625 41.0625 55.515625 \nz\n\" id=\"DejaVuSans-114\"/>\n        <path d=\"M 34.28125 27.484375 \nQ 23.390625 27.484375 19.1875 25 \nQ 14.984375 22.515625 14.984375 16.5 \nQ 14.984375 11.71875 18.140625 8.90625 \nQ 21.296875 6.109375 26.703125 6.109375 \nQ 34.1875 6.109375 38.703125 11.40625 \nQ 43.21875 16.703125 43.21875 25.484375 \nL 43.21875 27.484375 \nz\nM 52.203125 31.203125 \nL 52.203125 0 \nL 43.21875 0 \nL 43.21875 8.296875 \nQ 40.140625 3.328125 35.546875 0.953125 \nQ 30.953125 -1.421875 24.3125 -1.421875 \nQ 15.921875 -1.421875 10.953125 3.296875 \nQ 6 8.015625 6 15.921875 \nQ 6 25.140625 12.171875 29.828125 \nQ 18.359375 34.515625 30.609375 34.515625 \nL 43.21875 34.515625 \nL 43.21875 35.40625 \nQ 43.21875 41.609375 39.140625 45 \nQ 35.0625 48.390625 27.6875 48.390625 \nQ 23 48.390625 18.546875 47.265625 \nQ 14.109375 46.140625 10.015625 43.890625 \nL 10.015625 52.203125 \nQ 14.9375 54.109375 19.578125 55.046875 \nQ 24.21875 56 28.609375 56 \nQ 40.484375 56 46.34375 49.84375 \nQ 52.203125 43.703125 52.203125 31.203125 \nz\n\" id=\"DejaVuSans-97\"/>\n        <path d=\"M 45.40625 46.390625 \nL 45.40625 75.984375 \nL 54.390625 75.984375 \nL 54.390625 0 \nL 45.40625 0 \nL 45.40625 8.203125 \nQ 42.578125 3.328125 38.25 0.953125 \nQ 33.9375 -1.421875 27.875 -1.421875 \nQ 17.96875 -1.421875 11.734375 6.484375 \nQ 5.515625 14.40625 5.515625 27.296875 \nQ 5.515625 40.1875 11.734375 48.09375 \nQ 17.96875 56 27.875 56 \nQ 33.9375 56 38.25 53.625 \nQ 42.578125 51.265625 45.40625 46.390625 \nz\nM 14.796875 27.296875 \nQ 14.796875 17.390625 18.875 11.75 \nQ 22.953125 6.109375 30.078125 6.109375 \nQ 37.203125 6.109375 41.296875 11.75 \nQ 45.40625 17.390625 45.40625 27.296875 \nQ 45.40625 37.203125 41.296875 42.84375 \nQ 37.203125 48.484375 30.078125 48.484375 \nQ 22.953125 48.484375 18.875 42.84375 \nQ 14.796875 37.203125 14.796875 27.296875 \nz\n\" id=\"DejaVuSans-100\"/>\n       </defs>\n       <use xlink:href=\"#DejaVuSans-32\"/>\n       <use x=\"31.787109\" xlink:href=\"#DejaVuSans-72\"/>\n       <use x=\"106.982422\" xlink:href=\"#DejaVuSans-83\"/>\n       <use x=\"170.458984\" xlink:href=\"#DejaVuSans-45\"/>\n       <use x=\"206.542969\" xlink:href=\"#DejaVuSans-103\"/>\n       <use x=\"270.019531\" xlink:href=\"#DejaVuSans-114\"/>\n       <use x=\"311.132812\" xlink:href=\"#DejaVuSans-97\"/>\n       <use x=\"372.412109\" xlink:href=\"#DejaVuSans-100\"/>\n      </g>\n     </g>\n    </g>\n    <g id=\"xtick_2\">\n     <g id=\"line2d_2\">\n      <g>\n       <use style=\"stroke:#000000;stroke-width:0.8;\" x=\"180.273705\" xlink:href=\"#mb98ad52177\" y=\"822.6\"/>\n      </g>\n     </g>\n     <g id=\"text_2\">\n      <!--  Some-college -->\n      <g transform=\"translate(144.786205 837.198437)scale(0.1 -0.1)\">\n       <defs>\n        <path d=\"M 30.609375 48.390625 \nQ 23.390625 48.390625 19.1875 42.75 \nQ 14.984375 37.109375 14.984375 27.296875 \nQ 14.984375 17.484375 19.15625 11.84375 \nQ 23.34375 6.203125 30.609375 6.203125 \nQ 37.796875 6.203125 41.984375 11.859375 \nQ 46.1875 17.53125 46.1875 27.296875 \nQ 46.1875 37.015625 41.984375 42.703125 \nQ 37.796875 48.390625 30.609375 48.390625 \nz\nM 30.609375 56 \nQ 42.328125 56 49.015625 48.375 \nQ 55.71875 40.765625 55.71875 27.296875 \nQ 55.71875 13.875 49.015625 6.21875 \nQ 42.328125 -1.421875 30.609375 -1.421875 \nQ 18.84375 -1.421875 12.171875 6.21875 \nQ 5.515625 13.875 5.515625 27.296875 \nQ 5.515625 40.765625 12.171875 48.375 \nQ 18.84375 56 30.609375 56 \nz\n\" id=\"DejaVuSans-111\"/>\n        <path d=\"M 52 44.1875 \nQ 55.375 50.25 60.0625 53.125 \nQ 64.75 56 71.09375 56 \nQ 79.640625 56 84.28125 50.015625 \nQ 88.921875 44.046875 88.921875 33.015625 \nL 88.921875 0 \nL 79.890625 0 \nL 79.890625 32.71875 \nQ 79.890625 40.578125 77.09375 44.375 \nQ 74.3125 48.1875 68.609375 48.1875 \nQ 61.625 48.1875 57.5625 43.546875 \nQ 53.515625 38.921875 53.515625 30.90625 \nL 53.515625 0 \nL 44.484375 0 \nL 44.484375 32.71875 \nQ 44.484375 40.625 41.703125 44.40625 \nQ 38.921875 48.1875 33.109375 48.1875 \nQ 26.21875 48.1875 22.15625 43.53125 \nQ 18.109375 38.875 18.109375 30.90625 \nL 18.109375 0 \nL 9.078125 0 \nL 9.078125 54.6875 \nL 18.109375 54.6875 \nL 18.109375 46.1875 \nQ 21.1875 51.21875 25.484375 53.609375 \nQ 29.78125 56 35.6875 56 \nQ 41.65625 56 45.828125 52.96875 \nQ 50 49.953125 52 44.1875 \nz\n\" id=\"DejaVuSans-109\"/>\n        <path d=\"M 56.203125 29.59375 \nL 56.203125 25.203125 \nL 14.890625 25.203125 \nQ 15.484375 15.921875 20.484375 11.0625 \nQ 25.484375 6.203125 34.421875 6.203125 \nQ 39.59375 6.203125 44.453125 7.46875 \nQ 49.3125 8.734375 54.109375 11.28125 \nL 54.109375 2.78125 \nQ 49.265625 0.734375 44.1875 -0.34375 \nQ 39.109375 -1.421875 33.890625 -1.421875 \nQ 20.796875 -1.421875 13.15625 6.1875 \nQ 5.515625 13.8125 5.515625 26.8125 \nQ 5.515625 40.234375 12.765625 48.109375 \nQ 20.015625 56 32.328125 56 \nQ 43.359375 56 49.78125 48.890625 \nQ 56.203125 41.796875 56.203125 29.59375 \nz\nM 47.21875 32.234375 \nQ 47.125 39.59375 43.09375 43.984375 \nQ 39.0625 48.390625 32.421875 48.390625 \nQ 24.90625 48.390625 20.390625 44.140625 \nQ 15.875 39.890625 15.1875 32.171875 \nz\n\" id=\"DejaVuSans-101\"/>\n        <path d=\"M 48.78125 52.59375 \nL 48.78125 44.1875 \nQ 44.96875 46.296875 41.140625 47.34375 \nQ 37.3125 48.390625 33.40625 48.390625 \nQ 24.65625 48.390625 19.8125 42.84375 \nQ 14.984375 37.3125 14.984375 27.296875 \nQ 14.984375 17.28125 19.8125 11.734375 \nQ 24.65625 6.203125 33.40625 6.203125 \nQ 37.3125 6.203125 41.140625 7.25 \nQ 44.96875 8.296875 48.78125 10.40625 \nL 48.78125 2.09375 \nQ 45.015625 0.34375 40.984375 -0.53125 \nQ 36.96875 -1.421875 32.421875 -1.421875 \nQ 20.0625 -1.421875 12.78125 6.34375 \nQ 5.515625 14.109375 5.515625 27.296875 \nQ 5.515625 40.671875 12.859375 48.328125 \nQ 20.21875 56 33.015625 56 \nQ 37.15625 56 41.109375 55.140625 \nQ 45.0625 54.296875 48.78125 52.59375 \nz\n\" id=\"DejaVuSans-99\"/>\n        <path d=\"M 9.421875 75.984375 \nL 18.40625 75.984375 \nL 18.40625 0 \nL 9.421875 0 \nz\n\" id=\"DejaVuSans-108\"/>\n       </defs>\n       <use xlink:href=\"#DejaVuSans-32\"/>\n       <use x=\"31.787109\" xlink:href=\"#DejaVuSans-83\"/>\n       <use x=\"95.263672\" xlink:href=\"#DejaVuSans-111\"/>\n       <use x=\"156.445312\" xlink:href=\"#DejaVuSans-109\"/>\n       <use x=\"253.857422\" xlink:href=\"#DejaVuSans-101\"/>\n       <use x=\"315.380859\" xlink:href=\"#DejaVuSans-45\"/>\n       <use x=\"351.464844\" xlink:href=\"#DejaVuSans-99\"/>\n       <use x=\"406.445312\" xlink:href=\"#DejaVuSans-111\"/>\n       <use x=\"467.626953\" xlink:href=\"#DejaVuSans-108\"/>\n       <use x=\"495.410156\" xlink:href=\"#DejaVuSans-108\"/>\n       <use x=\"523.193359\" xlink:href=\"#DejaVuSans-101\"/>\n       <use x=\"584.716797\" xlink:href=\"#DejaVuSans-103\"/>\n       <use x=\"648.193359\" xlink:href=\"#DejaVuSans-101\"/>\n      </g>\n     </g>\n    </g>\n    <g id=\"xtick_3\">\n     <g id=\"line2d_3\">\n      <g>\n       <use style=\"stroke:#000000;stroke-width:0.8;\" x=\"244.485443\" xlink:href=\"#mb98ad52177\" y=\"822.6\"/>\n      </g>\n     </g>\n     <g id=\"text_3\">\n      <!--  Bachelors -->\n      <g transform=\"translate(218.298724 837.198437)scale(0.1 -0.1)\">\n       <defs>\n        <path d=\"M 19.671875 34.8125 \nL 19.671875 8.109375 \nL 35.5 8.109375 \nQ 43.453125 8.109375 47.28125 11.40625 \nQ 51.125 14.703125 51.125 21.484375 \nQ 51.125 28.328125 47.28125 31.5625 \nQ 43.453125 34.8125 35.5 34.8125 \nz\nM 19.671875 64.796875 \nL 19.671875 42.828125 \nL 34.28125 42.828125 \nQ 41.5 42.828125 45.03125 45.53125 \nQ 48.578125 48.25 48.578125 53.8125 \nQ 48.578125 59.328125 45.03125 62.0625 \nQ 41.5 64.796875 34.28125 64.796875 \nz\nM 9.8125 72.90625 \nL 35.015625 72.90625 \nQ 46.296875 72.90625 52.390625 68.21875 \nQ 58.5 63.53125 58.5 54.890625 \nQ 58.5 48.1875 55.375 44.234375 \nQ 52.25 40.28125 46.1875 39.3125 \nQ 53.46875 37.75 57.5 32.78125 \nQ 61.53125 27.828125 61.53125 20.40625 \nQ 61.53125 10.640625 54.890625 5.3125 \nQ 48.25 0 35.984375 0 \nL 9.8125 0 \nz\n\" id=\"DejaVuSans-66\"/>\n        <path d=\"M 54.890625 33.015625 \nL 54.890625 0 \nL 45.90625 0 \nL 45.90625 32.71875 \nQ 45.90625 40.484375 42.875 44.328125 \nQ 39.84375 48.1875 33.796875 48.1875 \nQ 26.515625 48.1875 22.3125 43.546875 \nQ 18.109375 38.921875 18.109375 30.90625 \nL 18.109375 0 \nL 9.078125 0 \nL 9.078125 75.984375 \nL 18.109375 75.984375 \nL 18.109375 46.1875 \nQ 21.34375 51.125 25.703125 53.5625 \nQ 30.078125 56 35.796875 56 \nQ 45.21875 56 50.046875 50.171875 \nQ 54.890625 44.34375 54.890625 33.015625 \nz\n\" id=\"DejaVuSans-104\"/>\n        <path d=\"M 44.28125 53.078125 \nL 44.28125 44.578125 \nQ 40.484375 46.53125 36.375 47.5 \nQ 32.28125 48.484375 27.875 48.484375 \nQ 21.1875 48.484375 17.84375 46.4375 \nQ 14.5 44.390625 14.5 40.28125 \nQ 14.5 37.15625 16.890625 35.375 \nQ 19.28125 33.59375 26.515625 31.984375 \nL 29.59375 31.296875 \nQ 39.15625 29.25 43.1875 25.515625 \nQ 47.21875 21.78125 47.21875 15.09375 \nQ 47.21875 7.46875 41.1875 3.015625 \nQ 35.15625 -1.421875 24.609375 -1.421875 \nQ 20.21875 -1.421875 15.453125 -0.5625 \nQ 10.6875 0.296875 5.421875 2 \nL 5.421875 11.28125 \nQ 10.40625 8.6875 15.234375 7.390625 \nQ 20.0625 6.109375 24.8125 6.109375 \nQ 31.15625 6.109375 34.5625 8.28125 \nQ 37.984375 10.453125 37.984375 14.40625 \nQ 37.984375 18.0625 35.515625 20.015625 \nQ 33.0625 21.96875 24.703125 23.78125 \nL 21.578125 24.515625 \nQ 13.234375 26.265625 9.515625 29.90625 \nQ 5.8125 33.546875 5.8125 39.890625 \nQ 5.8125 47.609375 11.28125 51.796875 \nQ 16.75 56 26.8125 56 \nQ 31.78125 56 36.171875 55.265625 \nQ 40.578125 54.546875 44.28125 53.078125 \nz\n\" id=\"DejaVuSans-115\"/>\n       </defs>\n       <use xlink:href=\"#DejaVuSans-32\"/>\n       <use x=\"31.787109\" xlink:href=\"#DejaVuSans-66\"/>\n       <use x=\"100.390625\" xlink:href=\"#DejaVuSans-97\"/>\n       <use x=\"161.669922\" xlink:href=\"#DejaVuSans-99\"/>\n       <use x=\"216.650391\" xlink:href=\"#DejaVuSans-104\"/>\n       <use x=\"280.029297\" xlink:href=\"#DejaVuSans-101\"/>\n       <use x=\"341.552734\" xlink:href=\"#DejaVuSans-108\"/>\n       <use x=\"369.335938\" xlink:href=\"#DejaVuSans-111\"/>\n       <use x=\"430.517578\" xlink:href=\"#DejaVuSans-114\"/>\n       <use x=\"471.630859\" xlink:href=\"#DejaVuSans-115\"/>\n      </g>\n     </g>\n    </g>\n    <g id=\"xtick_4\">\n     <g id=\"line2d_4\">\n      <g>\n       <use style=\"stroke:#000000;stroke-width:0.8;\" x=\"308.697181\" xlink:href=\"#mb98ad52177\" y=\"822.6\"/>\n      </g>\n     </g>\n     <g id=\"text_4\">\n      <!--  Masters -->\n      <g transform=\"translate(287.428431 837.198437)scale(0.1 -0.1)\">\n       <defs>\n        <path d=\"M 9.8125 72.90625 \nL 24.515625 72.90625 \nL 43.109375 23.296875 \nL 61.8125 72.90625 \nL 76.515625 72.90625 \nL 76.515625 0 \nL 66.890625 0 \nL 66.890625 64.015625 \nL 48.09375 14.015625 \nL 38.1875 14.015625 \nL 19.390625 64.015625 \nL 19.390625 0 \nL 9.8125 0 \nz\n\" id=\"DejaVuSans-77\"/>\n        <path d=\"M 18.3125 70.21875 \nL 18.3125 54.6875 \nL 36.8125 54.6875 \nL 36.8125 47.703125 \nL 18.3125 47.703125 \nL 18.3125 18.015625 \nQ 18.3125 11.328125 20.140625 9.421875 \nQ 21.96875 7.515625 27.59375 7.515625 \nL 36.8125 7.515625 \nL 36.8125 0 \nL 27.59375 0 \nQ 17.1875 0 13.234375 3.875 \nQ 9.28125 7.765625 9.28125 18.015625 \nL 9.28125 47.703125 \nL 2.6875 47.703125 \nL 2.6875 54.6875 \nL 9.28125 54.6875 \nL 9.28125 70.21875 \nz\n\" id=\"DejaVuSans-116\"/>\n       </defs>\n       <use xlink:href=\"#DejaVuSans-32\"/>\n       <use x=\"31.787109\" xlink:href=\"#DejaVuSans-77\"/>\n       <use x=\"118.066406\" xlink:href=\"#DejaVuSans-97\"/>\n       <use x=\"179.345703\" xlink:href=\"#DejaVuSans-115\"/>\n       <use x=\"231.445312\" xlink:href=\"#DejaVuSans-116\"/>\n       <use x=\"270.654297\" xlink:href=\"#DejaVuSans-101\"/>\n       <use x=\"332.177734\" xlink:href=\"#DejaVuSans-114\"/>\n       <use x=\"373.291016\" xlink:href=\"#DejaVuSans-115\"/>\n      </g>\n     </g>\n    </g>\n    <g id=\"xtick_5\">\n     <g id=\"line2d_5\">\n      <g>\n       <use style=\"stroke:#000000;stroke-width:0.8;\" x=\"372.908918\" xlink:href=\"#mb98ad52177\" y=\"822.6\"/>\n      </g>\n     </g>\n     <g id=\"text_5\">\n      <!--  Assoc-voc -->\n      <g transform=\"translate(346.44095 837.198437)scale(0.1 -0.1)\">\n       <defs>\n        <path d=\"M 34.1875 63.1875 \nL 20.796875 26.90625 \nL 47.609375 26.90625 \nz\nM 28.609375 72.90625 \nL 39.796875 72.90625 \nL 67.578125 0 \nL 57.328125 0 \nL 50.6875 18.703125 \nL 17.828125 18.703125 \nL 11.1875 0 \nL 0.78125 0 \nz\n\" id=\"DejaVuSans-65\"/>\n        <path d=\"M 2.984375 54.6875 \nL 12.5 54.6875 \nL 29.59375 8.796875 \nL 46.6875 54.6875 \nL 56.203125 54.6875 \nL 35.6875 0 \nL 23.484375 0 \nz\n\" id=\"DejaVuSans-118\"/>\n       </defs>\n       <use xlink:href=\"#DejaVuSans-32\"/>\n       <use x=\"31.787109\" xlink:href=\"#DejaVuSans-65\"/>\n       <use x=\"100.195312\" xlink:href=\"#DejaVuSans-115\"/>\n       <use x=\"152.294922\" xlink:href=\"#DejaVuSans-115\"/>\n       <use x=\"204.394531\" xlink:href=\"#DejaVuSans-111\"/>\n       <use x=\"265.576172\" xlink:href=\"#DejaVuSans-99\"/>\n       <use x=\"320.556641\" xlink:href=\"#DejaVuSans-45\"/>\n       <use x=\"354.015625\" xlink:href=\"#DejaVuSans-118\"/>\n       <use x=\"413.195312\" xlink:href=\"#DejaVuSans-111\"/>\n       <use x=\"474.376953\" xlink:href=\"#DejaVuSans-99\"/>\n      </g>\n     </g>\n    </g>\n    <g id=\"xtick_6\">\n     <g id=\"line2d_6\">\n      <g>\n       <use style=\"stroke:#000000;stroke-width:0.8;\" x=\"437.120656\" xlink:href=\"#mb98ad52177\" y=\"822.6\"/>\n      </g>\n     </g>\n     <g id=\"text_6\">\n      <!--  11th -->\n      <g transform=\"translate(424.040187 837.198437)scale(0.1 -0.1)\">\n       <defs>\n        <path d=\"M 12.40625 8.296875 \nL 28.515625 8.296875 \nL 28.515625 63.921875 \nL 10.984375 60.40625 \nL 10.984375 69.390625 \nL 28.421875 72.90625 \nL 38.28125 72.90625 \nL 38.28125 8.296875 \nL 54.390625 8.296875 \nL 54.390625 0 \nL 12.40625 0 \nz\n\" id=\"DejaVuSans-49\"/>\n       </defs>\n       <use xlink:href=\"#DejaVuSans-32\"/>\n       <use x=\"31.787109\" xlink:href=\"#DejaVuSans-49\"/>\n       <use x=\"95.410156\" xlink:href=\"#DejaVuSans-49\"/>\n       <use x=\"159.033203\" xlink:href=\"#DejaVuSans-116\"/>\n       <use x=\"198.242188\" xlink:href=\"#DejaVuSans-104\"/>\n      </g>\n     </g>\n    </g>\n    <g id=\"xtick_7\">\n     <g id=\"line2d_7\">\n      <g>\n       <use style=\"stroke:#000000;stroke-width:0.8;\" x=\"501.332394\" xlink:href=\"#mb98ad52177\" y=\"822.6\"/>\n      </g>\n     </g>\n     <g id=\"text_7\">\n      <!--  Assoc-acdm -->\n      <g transform=\"translate(469.643331 837.198437)scale(0.1 -0.1)\">\n       <use xlink:href=\"#DejaVuSans-32\"/>\n       <use x=\"31.787109\" xlink:href=\"#DejaVuSans-65\"/>\n       <use x=\"100.195312\" xlink:href=\"#DejaVuSans-115\"/>\n       <use x=\"152.294922\" xlink:href=\"#DejaVuSans-115\"/>\n       <use x=\"204.394531\" xlink:href=\"#DejaVuSans-111\"/>\n       <use x=\"265.576172\" xlink:href=\"#DejaVuSans-99\"/>\n       <use x=\"320.556641\" xlink:href=\"#DejaVuSans-45\"/>\n       <use x=\"356.640625\" xlink:href=\"#DejaVuSans-97\"/>\n       <use x=\"417.919922\" xlink:href=\"#DejaVuSans-99\"/>\n       <use x=\"472.900391\" xlink:href=\"#DejaVuSans-100\"/>\n       <use x=\"536.376953\" xlink:href=\"#DejaVuSans-109\"/>\n      </g>\n     </g>\n    </g>\n    <g id=\"xtick_8\">\n     <g id=\"line2d_8\">\n      <g>\n       <use style=\"stroke:#000000;stroke-width:0.8;\" x=\"565.544131\" xlink:href=\"#mb98ad52177\" y=\"822.6\"/>\n      </g>\n     </g>\n     <g id=\"text_8\">\n      <!--  10th -->\n      <g transform=\"translate(552.463662 837.198437)scale(0.1 -0.1)\">\n       <defs>\n        <path d=\"M 31.78125 66.40625 \nQ 24.171875 66.40625 20.328125 58.90625 \nQ 16.5 51.421875 16.5 36.375 \nQ 16.5 21.390625 20.328125 13.890625 \nQ 24.171875 6.390625 31.78125 6.390625 \nQ 39.453125 6.390625 43.28125 13.890625 \nQ 47.125 21.390625 47.125 36.375 \nQ 47.125 51.421875 43.28125 58.90625 \nQ 39.453125 66.40625 31.78125 66.40625 \nz\nM 31.78125 74.21875 \nQ 44.046875 74.21875 50.515625 64.515625 \nQ 56.984375 54.828125 56.984375 36.375 \nQ 56.984375 17.96875 50.515625 8.265625 \nQ 44.046875 -1.421875 31.78125 -1.421875 \nQ 19.53125 -1.421875 13.0625 8.265625 \nQ 6.59375 17.96875 6.59375 36.375 \nQ 6.59375 54.828125 13.0625 64.515625 \nQ 19.53125 74.21875 31.78125 74.21875 \nz\n\" id=\"DejaVuSans-48\"/>\n       </defs>\n       <use xlink:href=\"#DejaVuSans-32\"/>\n       <use x=\"31.787109\" xlink:href=\"#DejaVuSans-49\"/>\n       <use x=\"95.410156\" xlink:href=\"#DejaVuSans-48\"/>\n       <use x=\"159.033203\" xlink:href=\"#DejaVuSans-116\"/>\n       <use x=\"198.242188\" xlink:href=\"#DejaVuSans-104\"/>\n      </g>\n     </g>\n    </g>\n    <g id=\"xtick_9\">\n     <g id=\"line2d_9\">\n      <g>\n       <use style=\"stroke:#000000;stroke-width:0.8;\" x=\"629.755869\" xlink:href=\"#mb98ad52177\" y=\"822.6\"/>\n      </g>\n     </g>\n     <g id=\"text_9\">\n      <!--  Prof-school -->\n      <g transform=\"translate(600.917588 837.198437)scale(0.1 -0.1)\">\n       <defs>\n        <path d=\"M 19.671875 64.796875 \nL 19.671875 37.40625 \nL 32.078125 37.40625 \nQ 38.96875 37.40625 42.71875 40.96875 \nQ 46.484375 44.53125 46.484375 51.125 \nQ 46.484375 57.671875 42.71875 61.234375 \nQ 38.96875 64.796875 32.078125 64.796875 \nz\nM 9.8125 72.90625 \nL 32.078125 72.90625 \nQ 44.34375 72.90625 50.609375 67.359375 \nQ 56.890625 61.8125 56.890625 51.125 \nQ 56.890625 40.328125 50.609375 34.8125 \nQ 44.34375 29.296875 32.078125 29.296875 \nL 19.671875 29.296875 \nL 19.671875 0 \nL 9.8125 0 \nz\n\" id=\"DejaVuSans-80\"/>\n        <path d=\"M 37.109375 75.984375 \nL 37.109375 68.5 \nL 28.515625 68.5 \nQ 23.6875 68.5 21.796875 66.546875 \nQ 19.921875 64.59375 19.921875 59.515625 \nL 19.921875 54.6875 \nL 34.71875 54.6875 \nL 34.71875 47.703125 \nL 19.921875 47.703125 \nL 19.921875 0 \nL 10.890625 0 \nL 10.890625 47.703125 \nL 2.296875 47.703125 \nL 2.296875 54.6875 \nL 10.890625 54.6875 \nL 10.890625 58.5 \nQ 10.890625 67.625 15.140625 71.796875 \nQ 19.390625 75.984375 28.609375 75.984375 \nz\n\" id=\"DejaVuSans-102\"/>\n       </defs>\n       <use xlink:href=\"#DejaVuSans-32\"/>\n       <use x=\"31.787109\" xlink:href=\"#DejaVuSans-80\"/>\n       <use x=\"90.339844\" xlink:href=\"#DejaVuSans-114\"/>\n       <use x=\"129.203125\" xlink:href=\"#DejaVuSans-111\"/>\n       <use x=\"190.384766\" xlink:href=\"#DejaVuSans-102\"/>\n       <use x=\"220.089844\" xlink:href=\"#DejaVuSans-45\"/>\n       <use x=\"256.173828\" xlink:href=\"#DejaVuSans-115\"/>\n       <use x=\"308.273438\" xlink:href=\"#DejaVuSans-99\"/>\n       <use x=\"363.253906\" xlink:href=\"#DejaVuSans-104\"/>\n       <use x=\"426.632812\" xlink:href=\"#DejaVuSans-111\"/>\n       <use x=\"487.814453\" xlink:href=\"#DejaVuSans-111\"/>\n       <use x=\"548.996094\" xlink:href=\"#DejaVuSans-108\"/>\n      </g>\n     </g>\n    </g>\n    <g id=\"xtick_10\">\n     <g id=\"line2d_10\">\n      <g>\n       <use style=\"stroke:#000000;stroke-width:0.8;\" x=\"693.967606\" xlink:href=\"#mb98ad52177\" y=\"822.6\"/>\n      </g>\n     </g>\n     <g id=\"text_10\">\n      <!--  7th-8th -->\n      <g transform=\"translate(673.954325 837.198437)scale(0.1 -0.1)\">\n       <defs>\n        <path d=\"M 8.203125 72.90625 \nL 55.078125 72.90625 \nL 55.078125 68.703125 \nL 28.609375 0 \nL 18.3125 0 \nL 43.21875 64.59375 \nL 8.203125 64.59375 \nz\n\" id=\"DejaVuSans-55\"/>\n        <path d=\"M 31.78125 34.625 \nQ 24.75 34.625 20.71875 30.859375 \nQ 16.703125 27.09375 16.703125 20.515625 \nQ 16.703125 13.921875 20.71875 10.15625 \nQ 24.75 6.390625 31.78125 6.390625 \nQ 38.8125 6.390625 42.859375 10.171875 \nQ 46.921875 13.96875 46.921875 20.515625 \nQ 46.921875 27.09375 42.890625 30.859375 \nQ 38.875 34.625 31.78125 34.625 \nz\nM 21.921875 38.8125 \nQ 15.578125 40.375 12.03125 44.71875 \nQ 8.5 49.078125 8.5 55.328125 \nQ 8.5 64.0625 14.71875 69.140625 \nQ 20.953125 74.21875 31.78125 74.21875 \nQ 42.671875 74.21875 48.875 69.140625 \nQ 55.078125 64.0625 55.078125 55.328125 \nQ 55.078125 49.078125 51.53125 44.71875 \nQ 48 40.375 41.703125 38.8125 \nQ 48.828125 37.15625 52.796875 32.3125 \nQ 56.78125 27.484375 56.78125 20.515625 \nQ 56.78125 9.90625 50.3125 4.234375 \nQ 43.84375 -1.421875 31.78125 -1.421875 \nQ 19.734375 -1.421875 13.25 4.234375 \nQ 6.78125 9.90625 6.78125 20.515625 \nQ 6.78125 27.484375 10.78125 32.3125 \nQ 14.796875 37.15625 21.921875 38.8125 \nz\nM 18.3125 54.390625 \nQ 18.3125 48.734375 21.84375 45.5625 \nQ 25.390625 42.390625 31.78125 42.390625 \nQ 38.140625 42.390625 41.71875 45.5625 \nQ 45.3125 48.734375 45.3125 54.390625 \nQ 45.3125 60.0625 41.71875 63.234375 \nQ 38.140625 66.40625 31.78125 66.40625 \nQ 25.390625 66.40625 21.84375 63.234375 \nQ 18.3125 60.0625 18.3125 54.390625 \nz\n\" id=\"DejaVuSans-56\"/>\n       </defs>\n       <use xlink:href=\"#DejaVuSans-32\"/>\n       <use x=\"31.787109\" xlink:href=\"#DejaVuSans-55\"/>\n       <use x=\"95.410156\" xlink:href=\"#DejaVuSans-116\"/>\n       <use x=\"134.619141\" xlink:href=\"#DejaVuSans-104\"/>\n       <use x=\"197.998047\" xlink:href=\"#DejaVuSans-45\"/>\n       <use x=\"234.082031\" xlink:href=\"#DejaVuSans-56\"/>\n       <use x=\"297.705078\" xlink:href=\"#DejaVuSans-116\"/>\n       <use x=\"336.914062\" xlink:href=\"#DejaVuSans-104\"/>\n      </g>\n     </g>\n    </g>\n    <g id=\"xtick_11\">\n     <g id=\"line2d_11\">\n      <g>\n       <use style=\"stroke:#000000;stroke-width:0.8;\" x=\"758.179344\" xlink:href=\"#mb98ad52177\" y=\"822.6\"/>\n      </g>\n     </g>\n     <g id=\"text_11\">\n      <!--  12th -->\n      <g transform=\"translate(745.098875 837.198437)scale(0.1 -0.1)\">\n       <defs>\n        <path d=\"M 19.1875 8.296875 \nL 53.609375 8.296875 \nL 53.609375 0 \nL 7.328125 0 \nL 7.328125 8.296875 \nQ 12.9375 14.109375 22.625 23.890625 \nQ 32.328125 33.6875 34.8125 36.53125 \nQ 39.546875 41.84375 41.421875 45.53125 \nQ 43.3125 49.21875 43.3125 52.78125 \nQ 43.3125 58.59375 39.234375 62.25 \nQ 35.15625 65.921875 28.609375 65.921875 \nQ 23.96875 65.921875 18.8125 64.3125 \nQ 13.671875 62.703125 7.8125 59.421875 \nL 7.8125 69.390625 \nQ 13.765625 71.78125 18.9375 73 \nQ 24.125 74.21875 28.421875 74.21875 \nQ 39.75 74.21875 46.484375 68.546875 \nQ 53.21875 62.890625 53.21875 53.421875 \nQ 53.21875 48.921875 51.53125 44.890625 \nQ 49.859375 40.875 45.40625 35.40625 \nQ 44.1875 33.984375 37.640625 27.21875 \nQ 31.109375 20.453125 19.1875 8.296875 \nz\n\" id=\"DejaVuSans-50\"/>\n       </defs>\n       <use xlink:href=\"#DejaVuSans-32\"/>\n       <use x=\"31.787109\" xlink:href=\"#DejaVuSans-49\"/>\n       <use x=\"95.410156\" xlink:href=\"#DejaVuSans-50\"/>\n       <use x=\"159.033203\" xlink:href=\"#DejaVuSans-116\"/>\n       <use x=\"198.242188\" xlink:href=\"#DejaVuSans-104\"/>\n      </g>\n     </g>\n    </g>\n    <g id=\"xtick_12\">\n     <g id=\"line2d_12\">\n      <g>\n       <use style=\"stroke:#000000;stroke-width:0.8;\" x=\"822.391082\" xlink:href=\"#mb98ad52177\" y=\"822.6\"/>\n      </g>\n     </g>\n     <g id=\"text_12\">\n      <!--  9th -->\n      <g transform=\"translate(812.491863 837.198437)scale(0.1 -0.1)\">\n       <defs>\n        <path d=\"M 10.984375 1.515625 \nL 10.984375 10.5 \nQ 14.703125 8.734375 18.5 7.8125 \nQ 22.3125 6.890625 25.984375 6.890625 \nQ 35.75 6.890625 40.890625 13.453125 \nQ 46.046875 20.015625 46.78125 33.40625 \nQ 43.953125 29.203125 39.59375 26.953125 \nQ 35.25 24.703125 29.984375 24.703125 \nQ 19.046875 24.703125 12.671875 31.3125 \nQ 6.296875 37.9375 6.296875 49.421875 \nQ 6.296875 60.640625 12.9375 67.421875 \nQ 19.578125 74.21875 30.609375 74.21875 \nQ 43.265625 74.21875 49.921875 64.515625 \nQ 56.59375 54.828125 56.59375 36.375 \nQ 56.59375 19.140625 48.40625 8.859375 \nQ 40.234375 -1.421875 26.421875 -1.421875 \nQ 22.703125 -1.421875 18.890625 -0.6875 \nQ 15.09375 0.046875 10.984375 1.515625 \nz\nM 30.609375 32.421875 \nQ 37.25 32.421875 41.125 36.953125 \nQ 45.015625 41.5 45.015625 49.421875 \nQ 45.015625 57.28125 41.125 61.84375 \nQ 37.25 66.40625 30.609375 66.40625 \nQ 23.96875 66.40625 20.09375 61.84375 \nQ 16.21875 57.28125 16.21875 49.421875 \nQ 16.21875 41.5 20.09375 36.953125 \nQ 23.96875 32.421875 30.609375 32.421875 \nz\n\" id=\"DejaVuSans-57\"/>\n       </defs>\n       <use xlink:href=\"#DejaVuSans-32\"/>\n       <use x=\"31.787109\" xlink:href=\"#DejaVuSans-57\"/>\n       <use x=\"95.410156\" xlink:href=\"#DejaVuSans-116\"/>\n       <use x=\"134.619141\" xlink:href=\"#DejaVuSans-104\"/>\n      </g>\n     </g>\n    </g>\n    <g id=\"xtick_13\">\n     <g id=\"line2d_13\">\n      <g>\n       <use style=\"stroke:#000000;stroke-width:0.8;\" x=\"886.602819\" xlink:href=\"#mb98ad52177\" y=\"822.6\"/>\n      </g>\n     </g>\n     <g id=\"text_13\">\n      <!--  Doctorate -->\n      <g transform=\"translate(860.179382 837.198437)scale(0.1 -0.1)\">\n       <defs>\n        <path d=\"M 19.671875 64.796875 \nL 19.671875 8.109375 \nL 31.59375 8.109375 \nQ 46.6875 8.109375 53.6875 14.9375 \nQ 60.6875 21.78125 60.6875 36.53125 \nQ 60.6875 51.171875 53.6875 57.984375 \nQ 46.6875 64.796875 31.59375 64.796875 \nz\nM 9.8125 72.90625 \nL 30.078125 72.90625 \nQ 51.265625 72.90625 61.171875 64.09375 \nQ 71.09375 55.28125 71.09375 36.53125 \nQ 71.09375 17.671875 61.125 8.828125 \nQ 51.171875 0 30.078125 0 \nL 9.8125 0 \nz\n\" id=\"DejaVuSans-68\"/>\n       </defs>\n       <use xlink:href=\"#DejaVuSans-32\"/>\n       <use x=\"31.787109\" xlink:href=\"#DejaVuSans-68\"/>\n       <use x=\"108.789062\" xlink:href=\"#DejaVuSans-111\"/>\n       <use x=\"169.970703\" xlink:href=\"#DejaVuSans-99\"/>\n       <use x=\"224.951172\" xlink:href=\"#DejaVuSans-116\"/>\n       <use x=\"264.160156\" xlink:href=\"#DejaVuSans-111\"/>\n       <use x=\"325.341797\" xlink:href=\"#DejaVuSans-114\"/>\n       <use x=\"366.455078\" xlink:href=\"#DejaVuSans-97\"/>\n       <use x=\"427.734375\" xlink:href=\"#DejaVuSans-116\"/>\n       <use x=\"466.943359\" xlink:href=\"#DejaVuSans-101\"/>\n      </g>\n     </g>\n    </g>\n    <g id=\"xtick_14\">\n     <g id=\"line2d_14\">\n      <g>\n       <use style=\"stroke:#000000;stroke-width:0.8;\" x=\"950.814557\" xlink:href=\"#mb98ad52177\" y=\"822.6\"/>\n      </g>\n     </g>\n     <g id=\"text_14\">\n      <!--  5th-6th -->\n      <g transform=\"translate(930.801276 837.198437)scale(0.1 -0.1)\">\n       <defs>\n        <path d=\"M 10.796875 72.90625 \nL 49.515625 72.90625 \nL 49.515625 64.59375 \nL 19.828125 64.59375 \nL 19.828125 46.734375 \nQ 21.96875 47.46875 24.109375 47.828125 \nQ 26.265625 48.1875 28.421875 48.1875 \nQ 40.625 48.1875 47.75 41.5 \nQ 54.890625 34.8125 54.890625 23.390625 \nQ 54.890625 11.625 47.5625 5.09375 \nQ 40.234375 -1.421875 26.90625 -1.421875 \nQ 22.3125 -1.421875 17.546875 -0.640625 \nQ 12.796875 0.140625 7.71875 1.703125 \nL 7.71875 11.625 \nQ 12.109375 9.234375 16.796875 8.0625 \nQ 21.484375 6.890625 26.703125 6.890625 \nQ 35.15625 6.890625 40.078125 11.328125 \nQ 45.015625 15.765625 45.015625 23.390625 \nQ 45.015625 31 40.078125 35.4375 \nQ 35.15625 39.890625 26.703125 39.890625 \nQ 22.75 39.890625 18.8125 39.015625 \nQ 14.890625 38.140625 10.796875 36.28125 \nz\n\" id=\"DejaVuSans-53\"/>\n        <path d=\"M 33.015625 40.375 \nQ 26.375 40.375 22.484375 35.828125 \nQ 18.609375 31.296875 18.609375 23.390625 \nQ 18.609375 15.53125 22.484375 10.953125 \nQ 26.375 6.390625 33.015625 6.390625 \nQ 39.65625 6.390625 43.53125 10.953125 \nQ 47.40625 15.53125 47.40625 23.390625 \nQ 47.40625 31.296875 43.53125 35.828125 \nQ 39.65625 40.375 33.015625 40.375 \nz\nM 52.59375 71.296875 \nL 52.59375 62.3125 \nQ 48.875 64.0625 45.09375 64.984375 \nQ 41.3125 65.921875 37.59375 65.921875 \nQ 27.828125 65.921875 22.671875 59.328125 \nQ 17.53125 52.734375 16.796875 39.40625 \nQ 19.671875 43.65625 24.015625 45.921875 \nQ 28.375 48.1875 33.59375 48.1875 \nQ 44.578125 48.1875 50.953125 41.515625 \nQ 57.328125 34.859375 57.328125 23.390625 \nQ 57.328125 12.15625 50.6875 5.359375 \nQ 44.046875 -1.421875 33.015625 -1.421875 \nQ 20.359375 -1.421875 13.671875 8.265625 \nQ 6.984375 17.96875 6.984375 36.375 \nQ 6.984375 53.65625 15.1875 63.9375 \nQ 23.390625 74.21875 37.203125 74.21875 \nQ 40.921875 74.21875 44.703125 73.484375 \nQ 48.484375 72.75 52.59375 71.296875 \nz\n\" id=\"DejaVuSans-54\"/>\n       </defs>\n       <use xlink:href=\"#DejaVuSans-32\"/>\n       <use x=\"31.787109\" xlink:href=\"#DejaVuSans-53\"/>\n       <use x=\"95.410156\" xlink:href=\"#DejaVuSans-116\"/>\n       <use x=\"134.619141\" xlink:href=\"#DejaVuSans-104\"/>\n       <use x=\"197.998047\" xlink:href=\"#DejaVuSans-45\"/>\n       <use x=\"234.082031\" xlink:href=\"#DejaVuSans-54\"/>\n       <use x=\"297.705078\" xlink:href=\"#DejaVuSans-116\"/>\n       <use x=\"336.914062\" xlink:href=\"#DejaVuSans-104\"/>\n      </g>\n     </g>\n    </g>\n    <g id=\"xtick_15\">\n     <g id=\"line2d_15\">\n      <g>\n       <use style=\"stroke:#000000;stroke-width:0.8;\" x=\"1015.026295\" xlink:href=\"#mb98ad52177\" y=\"822.6\"/>\n      </g>\n     </g>\n     <g id=\"text_15\">\n      <!--  1st-4th -->\n      <g transform=\"translate(995.577076 837.198437)scale(0.1 -0.1)\">\n       <defs>\n        <path d=\"M 37.796875 64.3125 \nL 12.890625 25.390625 \nL 37.796875 25.390625 \nz\nM 35.203125 72.90625 \nL 47.609375 72.90625 \nL 47.609375 25.390625 \nL 58.015625 25.390625 \nL 58.015625 17.1875 \nL 47.609375 17.1875 \nL 47.609375 0 \nL 37.796875 0 \nL 37.796875 17.1875 \nL 4.890625 17.1875 \nL 4.890625 26.703125 \nz\n\" id=\"DejaVuSans-52\"/>\n       </defs>\n       <use xlink:href=\"#DejaVuSans-32\"/>\n       <use x=\"31.787109\" xlink:href=\"#DejaVuSans-49\"/>\n       <use x=\"95.410156\" xlink:href=\"#DejaVuSans-115\"/>\n       <use x=\"147.509766\" xlink:href=\"#DejaVuSans-116\"/>\n       <use x=\"186.71875\" xlink:href=\"#DejaVuSans-45\"/>\n       <use x=\"222.802734\" xlink:href=\"#DejaVuSans-52\"/>\n       <use x=\"286.425781\" xlink:href=\"#DejaVuSans-116\"/>\n       <use x=\"325.634766\" xlink:href=\"#DejaVuSans-104\"/>\n      </g>\n     </g>\n    </g>\n    <g id=\"xtick_16\">\n     <g id=\"line2d_16\">\n      <g>\n       <use style=\"stroke:#000000;stroke-width:0.8;\" x=\"1079.238032\" xlink:href=\"#mb98ad52177\" y=\"822.6\"/>\n      </g>\n     </g>\n     <g id=\"text_16\">\n      <!--  Preschool -->\n      <g transform=\"translate(1053.671626 837.198437)scale(0.1 -0.1)\">\n       <use xlink:href=\"#DejaVuSans-32\"/>\n       <use x=\"31.787109\" xlink:href=\"#DejaVuSans-80\"/>\n       <use x=\"90.339844\" xlink:href=\"#DejaVuSans-114\"/>\n       <use x=\"129.203125\" xlink:href=\"#DejaVuSans-101\"/>\n       <use x=\"190.726562\" xlink:href=\"#DejaVuSans-115\"/>\n       <use x=\"242.826172\" xlink:href=\"#DejaVuSans-99\"/>\n       <use x=\"297.806641\" xlink:href=\"#DejaVuSans-104\"/>\n       <use x=\"361.185547\" xlink:href=\"#DejaVuSans-111\"/>\n       <use x=\"422.367188\" xlink:href=\"#DejaVuSans-111\"/>\n       <use x=\"483.548828\" xlink:href=\"#DejaVuSans-108\"/>\n      </g>\n     </g>\n    </g>\n   </g>\n   <g id=\"matplotlib.axis_2\">\n    <g id=\"ytick_1\">\n     <g id=\"line2d_17\">\n      <defs>\n       <path d=\"M 0 0 \nL -3.5 0 \n\" id=\"m907521d3e8\" style=\"stroke:#000000;stroke-width:0.8;\"/>\n      </defs>\n      <g>\n       <use style=\"stroke:#000000;stroke-width:0.8;\" x=\"39.65\" xlink:href=\"#m907521d3e8\" y=\"822.6\"/>\n      </g>\n     </g>\n     <g id=\"text_17\">\n      <!-- 0 -->\n      <g transform=\"translate(26.2875 826.399219)scale(0.1 -0.1)\">\n       <use xlink:href=\"#DejaVuSans-48\"/>\n      </g>\n     </g>\n    </g>\n    <g id=\"ytick_2\">\n     <g id=\"line2d_18\">\n      <g>\n       <use style=\"stroke:#000000;stroke-width:0.8;\" x=\"39.65\" xlink:href=\"#m907521d3e8\" y=\"729.48592\"/>\n      </g>\n     </g>\n     <g id=\"text_18\">\n      <!-- 200 -->\n      <g transform=\"translate(13.5625 733.285139)scale(0.1 -0.1)\">\n       <use xlink:href=\"#DejaVuSans-50\"/>\n       <use x=\"63.623047\" xlink:href=\"#DejaVuSans-48\"/>\n       <use x=\"127.246094\" xlink:href=\"#DejaVuSans-48\"/>\n      </g>\n     </g>\n    </g>\n    <g id=\"ytick_3\">\n     <g id=\"line2d_19\">\n      <g>\n       <use style=\"stroke:#000000;stroke-width:0.8;\" x=\"39.65\" xlink:href=\"#m907521d3e8\" y=\"636.37184\"/>\n      </g>\n     </g>\n     <g id=\"text_19\">\n      <!-- 400 -->\n      <g transform=\"translate(13.5625 640.171058)scale(0.1 -0.1)\">\n       <use xlink:href=\"#DejaVuSans-52\"/>\n       <use x=\"63.623047\" xlink:href=\"#DejaVuSans-48\"/>\n       <use x=\"127.246094\" xlink:href=\"#DejaVuSans-48\"/>\n      </g>\n     </g>\n    </g>\n    <g id=\"ytick_4\">\n     <g id=\"line2d_20\">\n      <g>\n       <use style=\"stroke:#000000;stroke-width:0.8;\" x=\"39.65\" xlink:href=\"#m907521d3e8\" y=\"543.25776\"/>\n      </g>\n     </g>\n     <g id=\"text_20\">\n      <!-- 600 -->\n      <g transform=\"translate(13.5625 547.056978)scale(0.1 -0.1)\">\n       <use xlink:href=\"#DejaVuSans-54\"/>\n       <use x=\"63.623047\" xlink:href=\"#DejaVuSans-48\"/>\n       <use x=\"127.246094\" xlink:href=\"#DejaVuSans-48\"/>\n      </g>\n     </g>\n    </g>\n    <g id=\"ytick_5\">\n     <g id=\"line2d_21\">\n      <g>\n       <use style=\"stroke:#000000;stroke-width:0.8;\" x=\"39.65\" xlink:href=\"#m907521d3e8\" y=\"450.143679\"/>\n      </g>\n     </g>\n     <g id=\"text_21\">\n      <!-- 800 -->\n      <g transform=\"translate(13.5625 453.942898)scale(0.1 -0.1)\">\n       <use xlink:href=\"#DejaVuSans-56\"/>\n       <use x=\"63.623047\" xlink:href=\"#DejaVuSans-48\"/>\n       <use x=\"127.246094\" xlink:href=\"#DejaVuSans-48\"/>\n      </g>\n     </g>\n    </g>\n    <g id=\"ytick_6\">\n     <g id=\"line2d_22\">\n      <g>\n       <use style=\"stroke:#000000;stroke-width:0.8;\" x=\"39.65\" xlink:href=\"#m907521d3e8\" y=\"357.029599\"/>\n      </g>\n     </g>\n     <g id=\"text_22\">\n      <!-- 1000 -->\n      <g transform=\"translate(7.2 360.828818)scale(0.1 -0.1)\">\n       <use xlink:href=\"#DejaVuSans-49\"/>\n       <use x=\"63.623047\" xlink:href=\"#DejaVuSans-48\"/>\n       <use x=\"127.246094\" xlink:href=\"#DejaVuSans-48\"/>\n       <use x=\"190.869141\" xlink:href=\"#DejaVuSans-48\"/>\n      </g>\n     </g>\n    </g>\n    <g id=\"ytick_7\">\n     <g id=\"line2d_23\">\n      <g>\n       <use style=\"stroke:#000000;stroke-width:0.8;\" x=\"39.65\" xlink:href=\"#m907521d3e8\" y=\"263.915519\"/>\n      </g>\n     </g>\n     <g id=\"text_23\">\n      <!-- 1200 -->\n      <g transform=\"translate(7.2 267.714738)scale(0.1 -0.1)\">\n       <use xlink:href=\"#DejaVuSans-49\"/>\n       <use x=\"63.623047\" xlink:href=\"#DejaVuSans-50\"/>\n       <use x=\"127.246094\" xlink:href=\"#DejaVuSans-48\"/>\n       <use x=\"190.869141\" xlink:href=\"#DejaVuSans-48\"/>\n      </g>\n     </g>\n    </g>\n    <g id=\"ytick_8\">\n     <g id=\"line2d_24\">\n      <g>\n       <use style=\"stroke:#000000;stroke-width:0.8;\" x=\"39.65\" xlink:href=\"#m907521d3e8\" y=\"170.801439\"/>\n      </g>\n     </g>\n     <g id=\"text_24\">\n      <!-- 1400 -->\n      <g transform=\"translate(7.2 174.600658)scale(0.1 -0.1)\">\n       <use xlink:href=\"#DejaVuSans-49\"/>\n       <use x=\"63.623047\" xlink:href=\"#DejaVuSans-52\"/>\n       <use x=\"127.246094\" xlink:href=\"#DejaVuSans-48\"/>\n       <use x=\"190.869141\" xlink:href=\"#DejaVuSans-48\"/>\n      </g>\n     </g>\n    </g>\n    <g id=\"ytick_9\">\n     <g id=\"line2d_25\">\n      <g>\n       <use style=\"stroke:#000000;stroke-width:0.8;\" x=\"39.65\" xlink:href=\"#m907521d3e8\" y=\"77.687359\"/>\n      </g>\n     </g>\n     <g id=\"text_25\">\n      <!-- 1600 -->\n      <g transform=\"translate(7.2 81.486577)scale(0.1 -0.1)\">\n       <use xlink:href=\"#DejaVuSans-49\"/>\n       <use x=\"63.623047\" xlink:href=\"#DejaVuSans-54\"/>\n       <use x=\"127.246094\" xlink:href=\"#DejaVuSans-48\"/>\n       <use x=\"190.869141\" xlink:href=\"#DejaVuSans-48\"/>\n      </g>\n     </g>\n    </g>\n   </g>\n   <g id=\"patch_35\">\n    <path d=\"M 39.65 822.6 \nL 39.65 7.2 \n\" style=\"fill:none;stroke:#000000;stroke-linecap:square;stroke-linejoin:miter;stroke-width:0.8;\"/>\n   </g>\n   <g id=\"patch_36\">\n    <path d=\"M 1155.65 822.6 \nL 1155.65 7.2 \n\" style=\"fill:none;stroke:#000000;stroke-linecap:square;stroke-linejoin:miter;stroke-width:0.8;\"/>\n   </g>\n   <g id=\"patch_37\">\n    <path d=\"M 39.65 822.6 \nL 1155.65 822.6 \n\" style=\"fill:none;stroke:#000000;stroke-linecap:square;stroke-linejoin:miter;stroke-width:0.8;\"/>\n   </g>\n   <g id=\"patch_38\">\n    <path d=\"M 39.65 7.2 \nL 1155.65 7.2 \n\" style=\"fill:none;stroke:#000000;stroke-linecap:square;stroke-linejoin:miter;stroke-width:0.8;\"/>\n   </g>\n  </g>\n </g>\n <defs>\n  <clipPath id=\"p1cff56495b\">\n   <rect height=\"815.4\" width=\"1116\" x=\"39.65\" y=\"7.2\"/>\n  </clipPath>\n </defs>\n</svg>\n",
      "image/png": "[encoded data removed]"
     },
     "metadata": {
      "needs_background": "light"
     }
    }
   ],
   "source": [
    "plt.figure(figsize=(20,15))\n",
    "plt.bar(list(copy['education'].value_counts().index),list(copy['education'].value_counts()),color='red')\n",
    "plt.bar(list(copy['education'].value_counts().index),list(copy['education-num'].value_counts()),color='blue')\n",
    "# blue layer completely covered the red layer with the same values\n",
    "# Therefore, we could prove that these two columns are exactly same and exclude one of them\n",
    "# In order to be more effeciency, we drop education column."
   ]
  },
  {
   "cell_type": "code",
   "execution_count": 43,
   "metadata": {},
   "outputs": [
    {
     "output_type": "stream",
     "name": "stdout",
     "text": [
      "<class 'pandas.core.frame.DataFrame'>\nRangeIndex: 5000 entries, 0 to 4999\nData columns (total 11 columns):\n #   Column          Non-Null Count  Dtype  \n---  ------          --------------  -----  \n 0   age             5000 non-null   float64\n 1   workclass       4703 non-null   object \n 2   education-num   5000 non-null   float64\n 3   marital-status  5000 non-null   object \n 4   occupation      4701 non-null   object \n 5   relationship    5000 non-null   object \n 6   race            5000 non-null   object \n 7   sex             5000 non-null   object \n 8   hours-per-week  5000 non-null   float64\n 9   native-country  4901 non-null   object \n 10  target          5000 non-null   int64  \ndtypes: float64(3), int64(1), object(7)\nmemory usage: 429.8+ KB\n"
     ]
    },
    {
     "output_type": "display_data",
     "data": {
      "text/plain": "None"
     },
     "metadata": {}
    },
    {
     "output_type": "execute_result",
     "data": {
      "text/plain": [
       "age                 0\n",
       "workclass         297\n",
       "education-num       0\n",
       "marital-status      0\n",
       "occupation        299\n",
       "relationship        0\n",
       "race                0\n",
       "sex                 0\n",
       "hours-per-week      0\n",
       "native-country     99\n",
       "target              0\n",
       "dtype: int64"
      ]
     },
     "metadata": {},
     "execution_count": 43
    }
   ],
   "source": [
    "'''\n",
    "1. While we know from dataset and the figures showing above that education and education-num are corresponded to each other, we drop education column here.\n",
    "2. 'fnlwgt' column could also be dropped since it is the final weight-- the number of people the census believes. Therefore, such column has no contibution to predition.\n",
    "3. we only have hundreds of capital-gain and capital-loss record, these can be excluded. \n",
    "3. sign 0 and 1 to target, which will make the work easier.\n",
    "'''\n",
    "def incomeFixer(x):\n",
    "    if x == \" <=50K\":\n",
    "        return 0\n",
    "    else:\n",
    "        return 1\n",
    "# with same aim, we use copy_drop to drop some columns\n",
    "cp_dp=copy.copy()\n",
    "col = 'education'\n",
    "cp_dp[\"target\"] = cp_dp.apply(lambda x: incomeFixer(x['target']), axis=1)\n",
    "cp_dp = cp_dp.drop(columns=[col,'fnlwgt','capital-gain','capital-loss'])\n",
    "display(cp_dp.info())\n",
    "cp_dp.isna().sum()"
   ]
  },
  {
   "cell_type": "code",
   "execution_count": 44,
   "metadata": {},
   "outputs": [
    {
     "output_type": "execute_result",
     "data": {
      "text/plain": [
       "Index(['age', 'workclass', 'education-num', 'marital-status', 'occupation',\n",
       "       'relationship', 'race', 'sex', 'hours-per-week', 'native-country',\n",
       "       'target'],\n",
       "      dtype='object')"
      ]
     },
     "metadata": {},
     "execution_count": 44
    }
   ],
   "source": [
    "cp_dp.columns"
   ]
  },
  {
   "cell_type": "code",
   "execution_count": 69,
   "metadata": {},
   "outputs": [],
   "source": [
    "import json\n",
    "od={} # < <\n",
    "\"\"\"\n",
    "parents ['usual' 'pretentious' 'great_pret']\n",
    "has_nurs ['proper' 'less_proper' 'improper' 'critical' 'very_crit']\n",
    "form ['complete' 'completed' 'incomplete' 'foster']\n",
    "children ['1' '2' '3' 'more']\n",
    "housing ['convenient' 'less_conv' 'critical']\n",
    "finance ['convenient' 'inconv']\n",
    "social ['nonprob' 'slightly_prob' 'problematic']\n",
    "health ['recommended' 'priority' 'not_recom']\n",
    "target ['recommend' 'priority' 'not_recom' 'very_recom' 'spec_prior']\n",
    "\"\"\"\n",
    "od['parents']= [ 'usual','pretentious','great_pret']  \n",
    "od['has_nurs']= [ 'very_crit','critical','improper' ,'less_proper','proper'  ]  # proper, less_proper, improper, critical, very_crit\n",
    "od['form']= [ 'foster' ,'incomplete','complete','completed']  # complete, completed, incomplete, foster\n",
    "od['children']= ['1','2', '3', 'more' ]  \n",
    "\n",
    "od['housing']= [ 'critical','less_conv','convenient']  # convenient, less_conv, critical\n",
    "#od['finance']= ['convenient', 'inconv']  # binary \n",
    "\n",
    "od['social']= ['problematic','slightly_prob', 'nonprob']  # non-prob, slightly_prob, problematic\n",
    "\n",
    "od['health']= ['not_recom' ,'priority','recommended' ]  # recommended, priority, not_recom\n",
    "od['target']= ['not_recom','priority','spec_prior',  'recommend','very_recom'] \n",
    "json = json.dumps(od)\n",
    "f = open(\"nsr_order.json\",\"w\")\n",
    "f.write(json)\n",
    "f.close()"
   ]
  },
  {
   "cell_type": "code",
   "execution_count": 73,
   "metadata": {},
   "outputs": [
    {
     "output_type": "display_data",
     "data": {
      "text/plain": "  Column_Name  Num_Unique\n5           5           2\n0           0           3\n4           4           3\n6           6           3\n7           7           3\n2           2           4\n3           3           4\n1           1           5\n8           8           5",
      "text/html": "<div>\n<style scoped>\n    .dataframe tbody tr th:only-of-type {\n        vertical-align: middle;\n    }\n\n    .dataframe tbody tr th {\n        vertical-align: top;\n    }\n\n    .dataframe thead th {\n        text-align: right;\n    }\n</style>\n<table border=\"1\" class=\"dataframe\">\n  <thead>\n    <tr style=\"text-align: right;\">\n      <th></th>\n      <th>Column_Name</th>\n      <th>Num_Unique</th>\n    </tr>\n  </thead>\n  <tbody>\n    <tr>\n      <th>5</th>\n      <td>5</td>\n      <td>2</td>\n    </tr>\n    <tr>\n      <th>0</th>\n      <td>0</td>\n      <td>3</td>\n    </tr>\n    <tr>\n      <th>4</th>\n      <td>4</td>\n      <td>3</td>\n    </tr>\n    <tr>\n      <th>6</th>\n      <td>6</td>\n      <td>3</td>\n    </tr>\n    <tr>\n      <th>7</th>\n      <td>7</td>\n      <td>3</td>\n    </tr>\n    <tr>\n      <th>2</th>\n      <td>2</td>\n      <td>4</td>\n    </tr>\n    <tr>\n      <th>3</th>\n      <td>3</td>\n      <td>4</td>\n    </tr>\n    <tr>\n      <th>1</th>\n      <td>1</td>\n      <td>5</td>\n    </tr>\n    <tr>\n      <th>8</th>\n      <td>8</td>\n      <td>5</td>\n    </tr>\n  </tbody>\n</table>\n</div>"
     },
     "metadata": {}
    },
    {
     "output_type": "stream",
     "name": "stdout",
     "text": [
      "column_name : parents  =>  ['pretentious' 'great_pret' 'usual']\n In (a<b<c) order,\n   design the order to be:  ['usual', 'pretentious', 'great_pret']  \n\n\ncolumn_name : has_nurs  =>  ['critical' 'improper' 'proper' 'less_proper' 'very_crit']\n In (a<b<c) order,\n   design the order to be:  ['very_crit', 'critical', 'improper', 'less_proper', 'proper']  \n\n\ncolumn_name : form  =>  ['incomplete' 'completed' 'foster' 'complete']\n In (a<b<c) order,\n   design the order to be:  ['foster', 'incomplete', 'complete', 'completed']  \n\n\ncolumn_name : children  =>  ['more' '2' '1' '3']\n In (a<b<c) order,\n   design the order to be:  ['1', '2', '3', 'more']  \n\n\ncolumn_name : housing  =>  ['less_conv' 'critical' 'convenient']\n In (a<b<c) order,\n   design the order to be:  ['critical', 'less_conv', 'convenient']  \n\n\n[finance] is column only has binary labels \n\ncolumn_name : social  =>  ['problematic' 'slightly_prob' 'nonprob']\n In (a<b<c) order,\n   design the order to be:  ['problematic', 'slightly_prob', 'nonprob']  \n\n\ncolumn_name : health  =>  ['priority' 'recommended' 'not_recom']\n In (a<b<c) order,\n   design the order to be:  ['not_recom', 'priority', 'recommended']  \n\n\ncolumn_name : target  =>  ['spec_prior' 'not_recom' 'priority' 'very_recom' 'recommend']\n In (a<b<c) order,\n   design the order to be:  ['not_recom', 'priority', 'spec_prior', 'recommend', 'very_recom']  \n\n\n"
     ]
    }
   ],
   "source": [
    "df = pd.read_csv('./data/nsr.csv')\n",
    "nsr_var = ['parents', 'has_nurs', 'form', 'children', 'housing','finance','social', 'health','target']\n",
    "unique_counts = pd.DataFrame.from_records([(col, df[col].nunique()) for col in df.columns],columns=['Column_Name', 'Num_Unique']).sort_values(by=['Num_Unique'])\n",
    "display(unique_counts)\n",
    "df.columns = nsr_var\n",
    "for col in df:\n",
    "    if col =='finance':\n",
    "        print(\"[finance] is column only has binary labels\"\" \\n\")\n",
    "    else: \n",
    "        print(\"column_name : \" + col, \" => \",df[col].unique())\n",
    "        print(\" In (a<b<c) order,\" )\n",
    "        print('   design the order to be: ',od[col], \" \\n\")\n",
    "        print(\"\")\n",
    "def check_item(raw, in_r):\n",
    "    for i in in_r:\n",
    "        if i in raw:\n",
    "            pass\n",
    "        else:\n",
    "            print('wrong item is : ', i)\n",
    "    #return'No Error Found in column ' \n"
   ]
  },
  {
   "cell_type": "code",
   "execution_count": 74,
   "metadata": {},
   "outputs": [
    {
     "output_type": "execute_result",
     "data": {
      "text/plain": [
       "       parents     has_nurs        form children     housing     finance  \\\n",
       "0  pretentious     critical  incomplete     more   less_conv      inconv   \n",
       "1   great_pret     improper  incomplete        2    critical      inconv   \n",
       "2        usual       proper   completed        1   less_conv      inconv   \n",
       "3  pretentious     improper      foster        3   less_conv      inconv   \n",
       "4        usual  less_proper      foster        2  convenient  convenient   \n",
       "\n",
       "          social       health      target  \n",
       "0    problematic     priority  spec_prior  \n",
       "1  slightly_prob  recommended  spec_prior  \n",
       "2  slightly_prob    not_recom   not_recom  \n",
       "3        nonprob    not_recom   not_recom  \n",
       "4    problematic     priority    priority  "
      ],
      "text/html": "<div>\n<style scoped>\n    .dataframe tbody tr th:only-of-type {\n        vertical-align: middle;\n    }\n\n    .dataframe tbody tr th {\n        vertical-align: top;\n    }\n\n    .dataframe thead th {\n        text-align: right;\n    }\n</style>\n<table border=\"1\" class=\"dataframe\">\n  <thead>\n    <tr style=\"text-align: right;\">\n      <th></th>\n      <th>parents</th>\n      <th>has_nurs</th>\n      <th>form</th>\n      <th>children</th>\n      <th>housing</th>\n      <th>finance</th>\n      <th>social</th>\n      <th>health</th>\n      <th>target</th>\n    </tr>\n  </thead>\n  <tbody>\n    <tr>\n      <th>0</th>\n      <td>pretentious</td>\n      <td>critical</td>\n      <td>incomplete</td>\n      <td>more</td>\n      <td>less_conv</td>\n      <td>inconv</td>\n      <td>problematic</td>\n      <td>priority</td>\n      <td>spec_prior</td>\n    </tr>\n    <tr>\n      <th>1</th>\n      <td>great_pret</td>\n      <td>improper</td>\n      <td>incomplete</td>\n      <td>2</td>\n      <td>critical</td>\n      <td>inconv</td>\n      <td>slightly_prob</td>\n      <td>recommended</td>\n      <td>spec_prior</td>\n    </tr>\n    <tr>\n      <th>2</th>\n      <td>usual</td>\n      <td>proper</td>\n      <td>completed</td>\n      <td>1</td>\n      <td>less_conv</td>\n      <td>inconv</td>\n      <td>slightly_prob</td>\n      <td>not_recom</td>\n      <td>not_recom</td>\n    </tr>\n    <tr>\n      <th>3</th>\n      <td>pretentious</td>\n      <td>improper</td>\n      <td>foster</td>\n      <td>3</td>\n      <td>less_conv</td>\n      <td>inconv</td>\n      <td>nonprob</td>\n      <td>not_recom</td>\n      <td>not_recom</td>\n    </tr>\n    <tr>\n      <th>4</th>\n      <td>usual</td>\n      <td>less_proper</td>\n      <td>foster</td>\n      <td>2</td>\n      <td>convenient</td>\n      <td>convenient</td>\n      <td>problematic</td>\n      <td>priority</td>\n      <td>priority</td>\n    </tr>\n  </tbody>\n</table>\n</div>"
     },
     "metadata": {},
     "execution_count": 74
    }
   ],
   "source": [
    "#df = pd.read_csv('./data/nsr.csv')\n",
    "df.head()"
   ]
  },
  {
   "cell_type": "code",
   "execution_count": 75,
   "metadata": {},
   "outputs": [
    {
     "output_type": "stream",
     "name": "stdout",
     "text": [
      "parents\n['pretentious' 'great_pret' 'usual']\n['usual', 'pretentious', 'great_pret']\nhas_nurs\n['critical' 'improper' 'proper' 'less_proper' 'very_crit']\n['very_crit', 'critical', 'improper', 'less_proper', 'proper']\nform\n['incomplete' 'completed' 'foster' 'complete']\n['foster', 'incomplete', 'complete', 'completed']\nchildren\n['more' '2' '1' '3']\n['1', '2', '3', 'more']\nhousing\n['less_conv' 'critical' 'convenient']\n['critical', 'less_conv', 'convenient']\nsocial\n['problematic' 'slightly_prob' 'nonprob']\n['problematic', 'slightly_prob', 'nonprob']\nhealth\n['priority' 'recommended' 'not_recom']\n['not_recom', 'priority', 'recommended']\ntarget\n['spec_prior' 'not_recom' 'priority' 'very_recom' 'recommend']\n['not_recom', 'priority', 'spec_prior', 'recommend', 'very_recom']\n<class 'pandas.core.frame.DataFrame'>\nRangeIndex: 5000 entries, 0 to 4999\nData columns (total 9 columns):\n #   Column    Non-Null Count  Dtype   \n---  ------    --------------  -----   \n 0   parents   5000 non-null   category\n 1   has_nurs  5000 non-null   category\n 2   form      5000 non-null   category\n 3   children  5000 non-null   category\n 4   housing   5000 non-null   category\n 5   social    5000 non-null   category\n 6   health    5000 non-null   category\n 7   target    5000 non-null   category\n 8   finance   5000 non-null   int64   \ndtypes: category(8), int64(1)\nmemory usage: 79.4 KB\n"
     ]
    }
   ],
   "source": [
    "# add order:\n",
    "raw = df.copy()\n",
    "raw = raw.replace({'inconv':0, 'convenient':1})\n",
    "df = df.drop(columns = ['finance'])\n",
    "for i in df.columns:\n",
    "    print(i)\n",
    "    print(df[i].unique())\n",
    "    # make sure that columns are categorical type\n",
    "    df[i] = df[i].astype('category')\n",
    "    # obtain oder first\n",
    "    r = od[i]\n",
    "    print(od[i])\n",
    "    \n",
    "    #print(check_item(df[i].unique(), r))\n",
    "    cat_r = CategoricalDtype(categories=r, ordered=True)\n",
    "        # give the order\n",
    "    df[i] = df[i].cat.reorder_categories(r, ordered=True)\n",
    "df['finance'] = raw['finance']\n",
    "df.to_csv('./cleaning_data/nsr.csv', index=False)\n",
    "df.info()"
   ]
  },
  {
   "source": [
    "From above, it shows that there are relatively small amount of missing values all from columns which are object types:\n",
    "\n",
    "    - Categorical data with text that needs encoded: ['workclass', 'marital-status', 'occupation','relationship', 'race', 'sex', , 'native-country']\n",
    "    - Categorical data that has null values: ['workclass','occupation','native-country']\n",
    "\n",
    "However, I do not want to simply dropna() to handle these missing values, there must be smarter ways such as Replace by most frequent value.\n",
    "\n",
    "we could also see that most of our columns are object while categorical, we could encode them using Integer Encoding/ One Hot Encoding/ Learned Embedding. \n",
    "\n",
    "But these how can we find the most effecient way to handle missing value and encode strings? \n",
    "\n",
    "1. We certainly need to practive on CategoricalImputer()\n",
    "\n",
    "2. For the encoding part, we could combine the inputer with encode to have a pipline for preprocessing.\n",
    "\n",
    "3. For extra credit, we could conbine these steps with a regular training-predicting process and use gradsearch to find out the best parameters and hyperparameters and try on BaseNEncoder to find the answer Later\n",
    "\n",
    "We could design unique **pipeline** for these preprocessing steps while along with the training processes using gridsearchCV to find our best parameters as well as best hyperparameters.\n",
    "\n"
   ],
   "cell_type": "markdown",
   "metadata": {}
  },
  {
   "cell_type": "code",
   "execution_count": 16,
   "metadata": {},
   "outputs": [
    {
     "output_type": "stream",
     "name": "stdout",
     "text": [
      "<class 'pandas.core.frame.DataFrame'>\nRangeIndex: 5000 entries, 0 to 4999\nData columns (total 13 columns):\n #   Column              Non-Null Count  Dtype  \n---  ------              --------------  -----  \n 0   age                 5000 non-null   float64\n 1   workclass           5000 non-null   object \n 2   education-num       5000 non-null   float64\n 3   marital-status      5000 non-null   object \n 4   occupation          5000 non-null   object \n 5   relationship        5000 non-null   object \n 6   race                5000 non-null   object \n 7   sex                 5000 non-null   object \n 8   hours-per-week      5000 non-null   float64\n 9   native-country      5000 non-null   object \n 10  target              5000 non-null   int64  \n 11  workclass_Imputed   5000 non-null   object \n 12  occupation_Imputed  5000 non-null   object \ndtypes: float64(3), int64(1), object(9)\nmemory usage: 507.9+ KB\n"
     ]
    }
   ],
   "source": [
    "# this function help us to fillna\n",
    "categorical_missing = ['workclass','occupation','native-country']\n",
    "def impute_nan_most_frequent_category(DataFrame,ColName):\n",
    "    # .mode()[0] - gives first category name\n",
    "     most_frequent_category=DataFrame[ColName].mode()[0]\n",
    "    \n",
    "    # replace nan values with most occured category\n",
    "     DataFrame[ColName + \"_Imputed\"] = DataFrame[ColName]\n",
    "     DataFrame[ColName + \"_Imputed\"].fillna(most_frequent_category,inplace=True)\n",
    "     DataFrame[ColName] = DataFrame[ColName + \"_Imputed\"]\n",
    "     DataFrame = DataFrame.drop([ColName + \"_Imputed\"], axis = 1)\n",
    "     return DataFrame\n",
    "\n",
    "for Columns in categorical_missing:\n",
    "    clnd = impute_nan_most_frequent_category(cp_dp,Columns)\n",
    "clnd.info()\n",
    "    "
   ]
  },
  {
   "cell_type": "code",
   "execution_count": 80,
   "metadata": {},
   "outputs": [
    {
     "output_type": "stream",
     "name": "stdout",
     "text": [
      "(5000, 11)\n"
     ]
    }
   ],
   "source": [
    "avl=pd.read_csv('../data/raw/avl_set/avila-tr.txt', header=None)\n",
    "avl.columns = avl.columns.astype(str)\n",
    "avl=avl.rename(columns={'10':'target'})\n",
    "avl_train = avl.sample(n=5000, replace=False)\n",
    "print(avl_train.shape)\n"
   ]
  },
  {
   "cell_type": "code",
   "execution_count": 83,
   "metadata": {},
   "outputs": [
    {
     "output_type": "execute_result",
     "data": {
      "text/plain": [
       "0         0\n",
       "1         0\n",
       "2         0\n",
       "3         0\n",
       "4         0\n",
       "5         0\n",
       "6         0\n",
       "7         0\n",
       "8         0\n",
       "9         0\n",
       "target    0\n",
       "dtype: int64"
      ]
     },
     "metadata": {},
     "execution_count": 83
    }
   ],
   "source": [
    "avl_train.isna().sum()"
   ]
  },
  {
   "cell_type": "code",
   "execution_count": 17,
   "metadata": {},
   "outputs": [],
   "source": [
    "numeric_features = ['age','hours-per-week','education-num']\n",
    "categorical_features = ['workclass', 'marital-status', 'occupation','relationship', 'race', 'sex', 'native-country']\n",
    "y = cp_dp.target\n",
    "X = cp_dp.drop(columns=['target'])\n",
    "X_train, X_test, y_train, y_test = train_test_split(X, y, test_size=0.2)\n",
    "\n",
    "categorical_transformer = Pipeline(\n",
    "    [\n",
    "        ('imputer_cat', SimpleImputer(strategy = 'constant', fill_value = 'missing')),\n",
    "        ('onehot', OneHotEncoder(handle_unknown = 'ignore'))\n",
    "    ]\n",
    ")\n",
    "numeric_transformer = Pipeline(\n",
    "    [\n",
    "        ('imputer_num', SimpleImputer()),\n",
    "        ('scaler', StandardScaler())\n",
    "    ]\n",
    ")\n",
    "preprocessor = ColumnTransformer(\n",
    "    [\n",
    "        ('categoricals', categorical_transformer, categorical_features),\n",
    "        ('numericals', numeric_transformer, numeric_features)\n",
    "    ],\n",
    "    remainder = 'drop'\n",
    ")\n",
    "params = [{'classifier':[KNeighborsClassifier()],\n",
    "    'classifier__n_neighbors' : [1,3,5,10,20,30,50],\n",
    "    'classifier__weights': ['uniform', 'distance'],\n",
    "    'classifier__algorithm': ['auto', 'ball_tree', 'kd_tree', 'brute']}]\n",
    "pipeline = Pipeline(\n",
    "    [\n",
    "        ('preprocessing', preprocessor),\n",
    "        ('classifier', KNeighborsClassifier())\n",
    "    ]\n",
    ")\n"
   ]
  },
  {
   "cell_type": "code",
   "execution_count": 85,
   "metadata": {},
   "outputs": [
    {
     "output_type": "error",
     "ename": "NameError",
     "evalue": "name 'make_scorer' is not defined",
     "traceback": [
      "\u001b[0;31m---------------------------------------------------------------------------\u001b[0m",
      "\u001b[0;31mNameError\u001b[0m                                 Traceback (most recent call last)",
      "\u001b[0;32m<ipython-input-85-3b3a045ae699>\u001b[0m in \u001b[0;36m<module>\u001b[0;34m\u001b[0m\n\u001b[0;32m----> 1\u001b[0;31m \u001b[0mACC\u001b[0m \u001b[0;34m=\u001b[0m \u001b[0mmake_scorer\u001b[0m\u001b[0;34m(\u001b[0m\u001b[0maccuracy_score\u001b[0m\u001b[0;34m)\u001b[0m\u001b[0;34m\u001b[0m\u001b[0;34m\u001b[0m\u001b[0m\n\u001b[0m\u001b[1;32m      2\u001b[0m \u001b[0mPRC\u001b[0m \u001b[0;34m=\u001b[0m \u001b[0mmake_scorer\u001b[0m\u001b[0;34m(\u001b[0m\u001b[0mprecision_score\u001b[0m\u001b[0;34m)\u001b[0m\u001b[0;34m\u001b[0m\u001b[0;34m\u001b[0m\u001b[0m\n\u001b[1;32m      3\u001b[0m \u001b[0mFSC\u001b[0m \u001b[0;34m=\u001b[0m \u001b[0mmake_scorer\u001b[0m\u001b[0;34m(\u001b[0m\u001b[0mf1_score\u001b[0m\u001b[0;34m)\u001b[0m\u001b[0;34m\u001b[0m\u001b[0;34m\u001b[0m\u001b[0m\n\u001b[1;32m      4\u001b[0m \u001b[0mLFT\u001b[0m \u001b[0;34m=\u001b[0m \u001b[0mmake_scorer\u001b[0m\u001b[0;34m(\u001b[0m\u001b[0mrecall_score\u001b[0m\u001b[0;34m)\u001b[0m\u001b[0;34m\u001b[0m\u001b[0;34m\u001b[0m\u001b[0m\n\u001b[1;32m      5\u001b[0m \u001b[0mROC\u001b[0m \u001b[0;34m=\u001b[0m \u001b[0mmake_scorer\u001b[0m\u001b[0;34m(\u001b[0m\u001b[0mroc_auc_score\u001b[0m\u001b[0;34m)\u001b[0m\u001b[0;34m\u001b[0m\u001b[0;34m\u001b[0m\u001b[0m\n",
      "\u001b[0;31mNameError\u001b[0m: name 'make_scorer' is not defined"
     ]
    }
   ],
   "source": [
    "\n"
   ]
  },
  {
   "source": [
    "## Methodology"
   ],
   "cell_type": "markdown",
   "metadata": {}
  },
  {
   "source": [
    "### Algorithms"
   ],
   "cell_type": "markdown",
   "metadata": {}
  },
  {
   "cell_type": "code",
   "execution_count": 21,
   "metadata": {},
   "outputs": [
    {
     "output_type": "stream",
     "name": "stdout",
     "text": [
      "There will be 5 fold cross-validation to select the hyperparameters via a gridsearch\nThe supervised machine learninf models are:\n [('knn', KNeighborsClassifier()), ('dtree', DecisionTreeClassifier()), ('svm', SVC())]\nThe methods to evaluate model performances are:  {'ACC': 'accuracy', 'FSC': 'f1'}\n"
     ]
    }
   ],
   "source": [
    "\n",
    "print('There will be 5 fold cross-validation to select the hyperparameters via a gridsearch')\n",
    "print('The supervised machine learninf models are:\\n', models)\n",
    "print('The methods to evaluate model performances are: ', s_scores)\n"
   ]
  },
  {
   "cell_type": "code",
   "execution_count": 140,
   "metadata": {},
   "outputs": [
    {
     "output_type": "error",
     "ename": "NameError",
     "evalue": "name 'SimpleImputer' is not defined",
     "traceback": [
      "\u001b[0;31m---------------------------------------------------------------------------\u001b[0m",
      "\u001b[0;31mNameError\u001b[0m                                 Traceback (most recent call last)",
      "\u001b[0;32m<ipython-input-140-b5d310a37887>\u001b[0m in \u001b[0;36m<module>\u001b[0;34m\u001b[0m\n\u001b[1;32m      4\u001b[0m categorical_transformer = Pipeline(\n\u001b[1;32m      5\u001b[0m     [\n\u001b[0;32m----> 6\u001b[0;31m         \u001b[0;34m(\u001b[0m\u001b[0;34m'imputer_cat'\u001b[0m\u001b[0;34m,\u001b[0m \u001b[0mSimpleImputer\u001b[0m\u001b[0;34m(\u001b[0m\u001b[0mstrategy\u001b[0m \u001b[0;34m=\u001b[0m \u001b[0;34m'constant'\u001b[0m\u001b[0;34m,\u001b[0m \u001b[0mfill_value\u001b[0m \u001b[0;34m=\u001b[0m \u001b[0;34m'missing'\u001b[0m\u001b[0;34m)\u001b[0m\u001b[0;34m)\u001b[0m\u001b[0;34m,\u001b[0m\u001b[0;34m\u001b[0m\u001b[0;34m\u001b[0m\u001b[0m\n\u001b[0m\u001b[1;32m      7\u001b[0m         \u001b[0;34m(\u001b[0m\u001b[0;34m'onehot'\u001b[0m\u001b[0;34m,\u001b[0m \u001b[0mOneHotEncoder\u001b[0m\u001b[0;34m(\u001b[0m\u001b[0mhandle_unknown\u001b[0m \u001b[0;34m=\u001b[0m \u001b[0;34m'ignore'\u001b[0m\u001b[0;34m)\u001b[0m\u001b[0;34m)\u001b[0m\u001b[0;34m\u001b[0m\u001b[0;34m\u001b[0m\u001b[0m\n\u001b[1;32m      8\u001b[0m     ]\n",
      "\u001b[0;31mNameError\u001b[0m: name 'SimpleImputer' is not defined"
     ]
    }
   ],
   "source": [
    "numeric_features = ['age','hours-per-week','education-num']\n",
    "categorical_features = ['workclass', 'marital-status', 'occupation','relationship', 'race', 'sex', 'native-country']\n",
    "\n",
    "categorical_transformer = Pipeline(\n",
    "    [\n",
    "        ('imputer_cat', SimpleImputer(strategy = 'constant', fill_value = 'missing')),\n",
    "        ('onehot', OneHotEncoder(handle_unknown = 'ignore'))\n",
    "    ]\n",
    ")\n",
    "numeric_transformer = Pipeline(\n",
    "    [\n",
    "        ('imputer_num', SimpleImputer()),\n",
    "        ('scaler', StandardScaler())\n",
    "    ]\n",
    ")\n",
    "preprocessor = ColumnTransformer(\n",
    "    [\n",
    "        ('categoricals', categorical_transformer, categorical_features),\n",
    "        ('numericals', numeric_transformer, numeric_features)\n",
    "    ],\n",
    "    remainder = 'drop'\n",
    ")\n",
    "params = [{'classifier':[KNeighborsClassifier()],\n",
    "    'classifier__n_neighbors' : [1,3,5,10,20,30,50],\n",
    "    'classifier__weights': ['uniform', 'distance'],\n",
    "    'classifier__algorithm': ['auto', 'ball_tree', 'kd_tree', 'brute']}]\n",
    "pipeline = Pipeline(\n",
    "    [\n",
    "        ('preprocessing', preprocessor),\n",
    "        ('classifier', KNeighborsClassifier())\n",
    "    ]\n",
    ")\n",
    "s_scores = ['f1', 'accuracy']\n"
   ]
  },
  {
   "cell_type": "code",
   "execution_count": 133,
   "metadata": {},
   "outputs": [],
   "source": [
    "# define grid search parameters\n",
    "folds=5\n",
    "C = [1*(10**-5),1*(10**-4), 1*(10**-3),1*(10**-2), 1*(10**-1),1,10,1*(10**2),1*(10**3),1*(10**4),1*(10**5)]\n",
    "gamma = [1, 0.1, 0.01, 0.001, 0.0001]\n",
    "\n",
    "parameters=[\n",
    "    #knn\n",
    "    {'knn_n_neighbors' : [1,3,5,10,20,30,50],\n",
    "    'knn__weights': ['uniform', 'distance'],\n",
    "    'knn__algorithm': ['auto', 'ball_tree', 'kd_tree', 'brute'],\n",
    "    'knn__preprocess':[StandardScaler(),'passthrough'],\n",
    "    'knn__strategy': ['mean', 'median']},\n",
    "    #dtree\n",
    "    {'classifier':[DecisionTreeClassifier()],\n",
    "    'classifier__min_samples_split': range(2, 403, 10),\n",
    "    'classifier__criterion' : ['gini', 'entropy'],\n",
    "    'classifier__max_depth' : [2,4,6,8,10,12],\n",
    "    'classifier__strategy': ['mean', 'median']},\n",
    "    {'classifier':[SVC()],\n",
    "    'classifier__C': C, \n",
    "    'classifier__gamma': gamma, \n",
    "    'classifier__kernel': ['rbf','linear'],\n",
    "    'classifier__strategy': ['mean', 'median']}\n",
    " ]"
   ]
  },
  {
   "cell_type": "code",
   "execution_count": null,
   "metadata": {},
   "outputs": [],
   "source": []
  },
  {
   "cell_type": "code",
   "execution_count": null,
   "metadata": {},
   "outputs": [],
   "source": [
    "names = []\n",
    "scoring = 'accuracy'\n",
    "for name, model in models:\n",
    "\tkfold = model_selection.KFold(n_splits=10, random_state=seed)\n",
    "\tcv_results = model_selection.cross_val_score(model, X, Y, cv=kfold, scoring=scoring)\n",
    "\tresults.append(cv_results)\n",
    "\tnames.append(name)\n",
    "\tmsg = \"%s: %f (%f)\" % (name, cv_results.mean(), cv_results.std())\n",
    "\tprint(msg)\n",
    "# boxplot algorithm comparison\n",
    "fig = plt.figure()\n",
    "fig.suptitle('Algorithm Comparison')\n",
    "ax = fig.add_subplot(111)\n",
    "plt.boxplot(results)\n",
    "ax.set_xticklabels(names)\n",
    "plt.show()"
   ]
  },
  {
   "cell_type": "code",
   "execution_count": null,
   "metadata": {},
   "outputs": [],
   "source": []
  },
  {
   "source": [
    "### Trails"
   ],
   "cell_type": "markdown",
   "metadata": {}
  },
  {
   "cell_type": "code",
   "execution_count": null,
   "metadata": {},
   "outputs": [],
   "source": [
    "from sklearn.learning_curve import learning_curve\n",
    "\n",
    "fig, ax = plt.subplots(1, 2, figsize=(16, 6))\n",
    "fig.subplots_adjust(left=0.0625, right=0.95, wspace=0.1)\n",
    "\n",
    "for i, degree in enumerate([2, 9]):\n",
    "    N, train_lc, val_lc = learning_curve()\n",
    "\n",
    "    ax[i].plot(N, np.mean(train_lc, 1), color='blue', label='training score')\n",
    "    ax[i].plot(N, np.mean(val_lc, 1), color='red', label='validation score')\n",
    "    ax[i].hlines(np.mean([train_lc[-1], val_lc[-1]]), N[0], N[-1],\n",
    "                 color='gray', linestyle='dashed')\n",
    "\n",
    "    ax[i].set_ylim(0, 1)\n",
    "    ax[i].set_xlim(N[0], N[-1])\n",
    "    ax[i].set_xlabel('training size')\n",
    "    ax[i].set_ylabel('score')\n",
    "    ax[i].set_title('degree = {0}'.format(degree), size=14)\n",
    "    ax[i].legend(loc='best'"
   ]
  },
  {
   "cell_type": "code",
   "execution_count": null,
   "metadata": {},
   "outputs": [],
   "source": []
  },
  {
   "source": [
    "## Conclusion"
   ],
   "cell_type": "markdown",
   "metadata": {}
  },
  {
   "cell_type": "code",
   "execution_count": null,
   "metadata": {},
   "outputs": [],
   "source": []
  },
  {
   "cell_type": "code",
   "execution_count": null,
   "metadata": {},
   "outputs": [],
   "source": [
    "# prepare configuration for cross validation test harness\n",
    "seed = 7\n",
    "for name, model in models:\n",
    "\tkfold = model_selection.KFold(n_splits=10, random_state=seed)\n",
    "\tcv_results = model_selection.cross_val_score(model, X, Y, cv=kfold, scoring=scoring)\n",
    "\tresults.append(cv_results)\n",
    "\tnames.append(name)\n",
    "\tmsg = \"%s: %f (%f)\" % (name, cv_results.mean(), cv_results.std())\n",
    "\tprint(msg)\n",
    "# boxplot algorithm comparison\n",
    "fig = plt.figure()\n",
    "fig.suptitle('Algorithm Comparison')\n",
    "ax = fig.add_subplot(111)\n",
    "plt.boxplot(results)\n",
    "ax.set_xticklabels(names)\n",
    "plt.show()"
   ]
  },
  {
   "cell_type": "code",
   "execution_count": null,
   "metadata": {},
   "outputs": [],
   "source": []
  },
  {
   "cell_type": "code",
   "execution_count": null,
   "metadata": {},
   "outputs": [],
   "source": []
  }
 ]
}